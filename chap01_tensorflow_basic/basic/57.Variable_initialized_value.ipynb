{
 "cells": [
  {
   "cell_type": "code",
   "execution_count": 2,
   "metadata": {
    "collapsed": false
   },
   "outputs": [
    {
     "name": "stdout",
     "output_type": "stream",
     "text": [
      "[[ 0.76846212  1.26871157 -1.69233882]\n",
      " [ 0.89961743  1.94003499  0.50986147]]\n",
      "[[ 0.76846212  1.26871157 -1.69233882]\n",
      " [ 0.89961743  1.94003499  0.50986147]]\n",
      "[[ 1.53692424  2.53742313 -3.38467765]\n",
      " [ 1.79923487  3.88006997  1.01972294]]\n"
     ]
    }
   ],
   "source": [
    "import tensorflow as tf\n",
    "v = tf.Variable(tf.truncated_normal([2,3]))\n",
    "\n",
    "vi = v.initialized_value()\n",
    "vi1 = v.initialized_value()\n",
    "w = tf.Variable(vi*2.0)\n",
    "\n",
    "init = tf.global_variables_initializer()\n",
    "with tf.Session() as sess:\n",
    "    init.run()\n",
    "    print(vi.eval())\n",
    "    print(vi1.eval())\n",
    "    print(w.eval())"
   ]
  },
  {
   "cell_type": "code",
   "execution_count": null,
   "metadata": {
    "collapsed": true
   },
   "outputs": [],
   "source": []
  }
 ],
 "metadata": {
  "anaconda-cloud": {},
  "kernelspec": {
   "display_name": "Python [conda root]",
   "language": "python",
   "name": "conda-root-py"
  },
  "language_info": {
   "codemirror_mode": {
    "name": "ipython",
    "version": 3
   },
   "file_extension": ".py",
   "mimetype": "text/x-python",
   "name": "python",
   "nbconvert_exporter": "python",
   "pygments_lexer": "ipython3",
   "version": "3.5.2"
  }
 },
 "nbformat": 4,
 "nbformat_minor": 1
}
