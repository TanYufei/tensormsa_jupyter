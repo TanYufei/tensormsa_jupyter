{
 "cells": [
  {
   "cell_type": "code",
   "execution_count": 1,
   "metadata": {
    "collapsed": false
   },
   "outputs": [
    {
     "name": "stdout",
     "output_type": "stream",
     "text": [
      "Loss(x,y) = 1.000\n",
      "pred_y(x) = 10.000\n",
      "bias      = 1.000\n"
     ]
    }
   ],
   "source": [
    "import tensorflow as tf\n",
    "\n",
    "x = tf.placeholder(tf.float32)\n",
    "y = tf.placeholder(tf.float32)\n",
    "bias = tf.Variable(1.0)\n",
    "\n",
    "y_pred = x ** 2 + bias       # x -> x^2 + bias\n",
    "loss = (y - y_pred) ** 2     # L2 Loss\n",
    "\n",
    "with tf.Session() as session:\n",
    "    #변수 초기화\n",
    "    session.run(tf.global_variables_initializer())\n",
    "    \n",
    "    print('Loss(x,y) = %.3f' % session.run(loss, {x: 3.0, y: 9.0}))\n",
    "    \n",
    "    print('pred_y(x) = %.3f' % session.run(y_pred, {x: 3.0}))\n",
    "    \n",
    "    print('bias      = %.3f' % session.run(bias))\n"
   ]
  },
  {
   "cell_type": "code",
   "execution_count": null,
   "metadata": {
    "collapsed": true
   },
   "outputs": [],
   "source": []
  }
 ],
 "metadata": {
  "kernelspec": {
   "display_name": "Python [conda root]",
   "language": "python",
   "name": "conda-root-py"
  },
  "language_info": {
   "codemirror_mode": {
    "name": "ipython",
    "version": 3
   },
   "file_extension": ".py",
   "mimetype": "text/x-python",
   "name": "python",
   "nbconvert_exporter": "python",
   "pygments_lexer": "ipython3",
   "version": "3.5.2"
  }
 },
 "nbformat": 4,
 "nbformat_minor": 1
}
