{
 "cells": [
  {
   "cell_type": "markdown",
   "metadata": {},
   "source": [
    "# Create  Spark Context "
   ]
  },
  {
   "cell_type": "code",
   "execution_count": 2,
   "metadata": {
    "collapsed": true
   },
   "outputs": [],
   "source": [
    "import pyspark\n",
    "from pyspark.sql import SQLContext"
   ]
  },
  {
   "cell_type": "code",
   "execution_count": 5,
   "metadata": {
    "collapsed": false
   },
   "outputs": [
    {
     "name": "stdout",
     "output_type": "stream",
     "text": [
      "done\n"
     ]
    }
   ],
   "source": [
    "try : \n",
    "    sc = pyspark.SparkContext('local[*]')\n",
    "except Exception as e : \n",
    "    print( \"sc already exists \")\n",
    "sqlContext = SQLContext(sc)\n",
    "print(\"done\")"
   ]
  },
  {
   "cell_type": "markdown",
   "metadata": {},
   "source": [
    "# Let's see SC works fine "
   ]
  },
  {
   "cell_type": "code",
   "execution_count": 4,
   "metadata": {
    "collapsed": false
   },
   "outputs": [
    {
     "name": "stdout",
     "output_type": "stream",
     "text": [
      "[0, 1, 2, 3, 4, 5, 6, 7, 8, 9, 10, 11, 12, 13, 14, 15, 16, 17, 18, 19, 20, 21, 22, 23, 24, 25, 26, 27, 28, 29, 30, 31, 32, 33, 34, 35, 36, 37, 38, 39, 40, 41, 42, 43, 44, 45, 46, 47, 48, 49, 50, 51, 52, 53, 54, 55, 56, 57, 58, 59, 60, 61, 62, 63, 64, 65, 66, 67, 68, 69, 70, 71, 72, 73, 74, 75, 76, 77, 78, 79, 80, 81, 82, 83, 84, 85, 86, 87, 88, 89, 90, 91, 92, 93, 94, 95, 96, 97, 98, 99]\n"
     ]
    }
   ],
   "source": [
    "# do something to prove it works\n",
    "rdd = sc.parallelize(range(100))\n",
    "rdd.takeSample(False, 5)\n",
    "print(rdd.collect())\n",
    "sc.stop()"
   ]
  },
  {
   "cell_type": "markdown",
   "metadata": {},
   "source": [
    "# Collect Data from Web REST API \n",
    "- url : https://openweathermap.org/forecast5 <br>\n",
    "※ Let's check out how the data looks like \n",
    "\n",
    "온도, 파도, 기압, 습도 등등 을 가지고 결국 기상청에서 예보한 기상 정보를 카테고리를 예측하는 모델을 만들기 위해서 기존에 조금 복잡한 구조의 Json 데이터에서 훈련이 용이하도록 편집한다. "
   ]
  },
  {
   "cell_type": "code",
   "execution_count": 7,
   "metadata": {
    "collapsed": false
   },
   "outputs": [
    {
     "name": "stdout",
     "output_type": "stream",
     "text": [
      "x_data : [{'temp_kf': 3.43, 'pressure': 1010.24, 'temp_min': 25.59, 'grnd_level': 1010.24, 'temp_max': 29.02, 'temp': 29.02, 'sea_level': 1026.07, 'humidity': 49}, {'temp_kf': 2.57, 'pressure': 1008.94, 'temp_min': 25.81, 'grnd_level': 1008.94, 'temp_max': 28.39, 'temp': 28.39, 'sea_level': 1024.73, 'humidity': 50}]\n",
      "y_data : ['Clear', 'Clear']\n"
     ]
    }
   ],
   "source": [
    "import requests\n",
    "from sklearn.cross_validation import train_test_split\n",
    "\n",
    "resp = requests.get('http://openweathermap.org/data/2.5/forecast?q=London,us&mode=json&appid=b1b15e88fa797225412429c1c50c122a1')\n",
    "data = resp.json()\n",
    "\n",
    "x_data = []\n",
    "y_data = []\n",
    "data_list = data['list']\n",
    "for raw in data_list :\n",
    "    x_data.append(raw['main'])\n",
    "    y_data.append(raw['weather'][0]['main'])\n",
    "\n",
    "print(\"x_data : {0}\".format(x_data[0:2]))\n",
    "print(\"y_data : {0}\".format(y_data[0:2]))"
   ]
  },
  {
   "cell_type": "markdown",
   "metadata": {},
   "source": [
    "# Train /Test 데이터 분리 \n",
    "정확한 테스트를 위해 Train 데이터와 Test 데이터를 분리한다 ."
   ]
  },
  {
   "cell_type": "code",
   "execution_count": 8,
   "metadata": {
    "collapsed": false
   },
   "outputs": [
    {
     "name": "stdout",
     "output_type": "stream",
     "text": [
      "data_train : [{'temp_kf': 0, 'pressure': 1009.64, 'temp_min': 21.22, 'grnd_level': 1009.64, 'temp_max': 21.22, 'temp': 21.22, 'sea_level': 1025.61, 'humidity': 91}]\n",
      "data_test : [{'temp_kf': 0, 'pressure': 1012.97, 'temp_min': 17.27, 'grnd_level': 1012.97, 'temp_max': 17.27, 'temp': 17.27, 'sea_level': 1028.85, 'humidity': 85}]\n",
      "labels_train : [1]\n",
      "labels_test : [1]\n"
     ]
    }
   ],
   "source": [
    "data_train, data_test, labels_train, labels_test = train_test_split(x_data, y_data, test_size=0.20, random_state=42)\n",
    "def change (x) :\n",
    "    if(x == 'Clear') :\n",
    "        return 0\n",
    "    if(x in ['Rain', 'Clouds']) :\n",
    "        return 1\n",
    "#     idx = ['Clear', 'Rain', 'Clouds']\n",
    "#     return idx.index(x)\n",
    "\n",
    "labels_train = list(map(lambda x : change(x), labels_train ))\n",
    "labels_test = list(map(lambda x : change(x), labels_test ))\n",
    "\n",
    "print(\"data_train : {0}\".format(data_train[0:1]))\n",
    "print(\"data_test : {0}\".format(data_test[0:1]))\n",
    "print(\"labels_train : {0}\".format(labels_train[0:1]))\n",
    "print(\"labels_test : {0}\".format(labels_test[0:1]))"
   ]
  },
  {
   "cell_type": "markdown",
   "metadata": {},
   "source": [
    "# Save Data as file"
   ]
  },
  {
   "cell_type": "code",
   "execution_count": 10,
   "metadata": {
    "collapsed": false
   },
   "outputs": [
    {
     "name": "stdout",
     "output_type": "stream",
     "text": [
      "Train Data Save Done\n",
      "Test Data Save Done\n"
     ]
    }
   ],
   "source": [
    "# Train 데이터 저장 \n",
    "with open('/home/jovyan/work/train6.data', 'w') as fp : \n",
    "    for data, label in zip(data_train, labels_train) :\n",
    "        x_data = []\n",
    "        x_data.append(label)\n",
    "        for raw in data.keys() :\n",
    "            x_data.append(data[raw])\n",
    "        x_data.append('\\n')\n",
    "        #train_feed_data.append(LabeledPoint(label, x_data))\n",
    "        fp.write(' '.join(map(lambda x: str(x) ,x_data)))\n",
    "print(\"Train Data Save Done\")\n",
    "        \n",
    "# Test 데이터 저장 \n",
    "with open('/home/jovyan/work/Test6.data', 'w') as fp : \n",
    "    for data, label in zip(data_test, labels_test) :\n",
    "        x_data = []\n",
    "        x_data.append(label)\n",
    "        for raw in data.keys() :\n",
    "            x_data.append(data[raw])\n",
    "        x_data.append('\\n')\n",
    "        #train_feed_data.append(LabeledPoint(label, x_data))\n",
    "        fp.write(' '.join(map(lambda x: str(x) ,x_data)))\n",
    "print(\"Test Data Save Done\")"
   ]
  },
  {
   "cell_type": "markdown",
   "metadata": {},
   "source": [
    "# Train Model"
   ]
  },
  {
   "cell_type": "code",
   "execution_count": 14,
   "metadata": {
    "collapsed": false
   },
   "outputs": [
    {
     "name": "stdout",
     "output_type": "stream",
     "text": [
      "['1 0 1015.83 21.05 1015.83 21.05 21.05 1031.67 69 ', '1 0 1010.69 16.47 1010.69 16.47 16.47 1026.5 100 ', '0 0 1012.24 22.12 1012.24 22.12 22.12 1028.2 76 ', '0 3.43 1010.24 25.59 1010.24 29.02 29.02 1026.07 49 ']\n",
      "['1 0 1013.7 13.51 1013.7 13.51 13.51 1029.73 100 ', '0 0 1013.86 20.58 1013.86 20.58 20.58 1029.76 66 ', '1 0 1015.26 18.14 1015.26 18.14 18.14 1031.2 73 ', '0 0 1015.77 21.1 1015.77 21.1 21.1 1031.67 71 ']\n"
     ]
    }
   ],
   "source": [
    "from pyspark.mllib.classification import LogisticRegressionWithLBFGS, LogisticRegressionModel\n",
    "from pyspark.mllib.regression import LabeledPoint\n",
    "\n",
    "# 파일이 있는지 확인 \n",
    "# with open('/home/jovyan/work/train5.data', 'r') as fp : \n",
    "#     print(fp.read())\n",
    "    \n",
    "train_data = sc.textFile(\"file:///home/jovyan/work/train6.data\")\n",
    "print(train_data.collect()[1:5])\n",
    "test_data = sc.textFile(\"file:///home/jovyan/work/Test6.data\")\n",
    "print(test_data.collect()[1:5])"
   ]
  },
  {
   "cell_type": "code",
   "execution_count": 16,
   "metadata": {
    "collapsed": false
   },
   "outputs": [
    {
     "name": "stdout",
     "output_type": "stream",
     "text": [
      "(weights=[-140.375500081,2.68111811095,4.07863933701,2.68111811095,-1.91193043301,-1.91193043301,-5.29658718641,0.175319762133], intercept=0.0)\n"
     ]
    }
   ],
   "source": [
    "def parsePoint(line):\n",
    "    values = [float(x) for x in line.split(' ')[0:len(line.split(' '))-1]] \n",
    "    return LabeledPoint(values[0], values[1:])\n",
    "\n",
    "parsedTrainData = train_data.map(parsePoint)\n",
    "parsedTestData = test_data.map(parsePoint)\n",
    "model = LogisticRegressionWithLBFGS.train(parsedTrainData)\n",
    "print(model)"
   ]
  },
  {
   "cell_type": "markdown",
   "metadata": {},
   "source": [
    "# Test Model\n",
    "Test Model Accuracy  "
   ]
  },
  {
   "cell_type": "code",
   "execution_count": 18,
   "metadata": {
    "collapsed": false
   },
   "outputs": [
    {
     "name": "stdout",
     "output_type": "stream",
     "text": [
      "Training Error = 0.375\n"
     ]
    }
   ],
   "source": [
    "# print(\"labels_train : {0}\".format(labels_train[0:5]))\n",
    "# print(\"labels_test : {0}\".format(labels_test[0:5]))\n",
    "# Evaluating the model on training data\n",
    "labelsAndPreds = parsedTestData.map(lambda p: (p.label, model.predict(p.features)))\n",
    "trainErr = labelsAndPreds.filter(lambda x: x[0] != x[1]).count() / float(parsedTestData.count())\n",
    "print(\"Training Error = \" + str(trainErr))"
   ]
  },
  {
   "cell_type": "markdown",
   "metadata": {},
   "source": [
    "# Save Model"
   ]
  },
  {
   "cell_type": "code",
   "execution_count": 19,
   "metadata": {
    "collapsed": false
   },
   "outputs": [
    {
     "name": "stdout",
     "output_type": "stream",
     "text": [
      "save model\n"
     ]
    }
   ],
   "source": [
    "import random \n",
    "model.save(sc, \"/home/jovyan/work/\" + str(random.randrange(1,50)) + '/')\n",
    "print(\"save model\")"
   ]
  },
  {
   "cell_type": "code",
   "execution_count": null,
   "metadata": {
    "collapsed": true
   },
   "outputs": [],
   "source": []
  }
 ],
 "metadata": {
  "anaconda-cloud": {},
  "kernelspec": {
   "display_name": "Python [default]",
   "language": "python",
   "name": "python3"
  },
  "language_info": {
   "codemirror_mode": {
    "name": "ipython",
    "version": 3
   },
   "file_extension": ".py",
   "mimetype": "text/x-python",
   "name": "python",
   "nbconvert_exporter": "python",
   "pygments_lexer": "ipython3",
   "version": "3.5.2"
  }
 },
 "nbformat": 4,
 "nbformat_minor": 2
}
