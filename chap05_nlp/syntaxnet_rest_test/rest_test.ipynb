{
 "cells": [
  {
   "cell_type": "markdown",
   "metadata": {},
   "source": [
    "# Set Up Syntax Rest Server \n",
    "    - git clone https://github.com/TensorMSA/tensormsa_syntax_docker.git\n",
    "    - cd tensormsa_syntax_docker\n",
    "    - mv dockerfile_v0.1 Dokcerfile\n",
    "    - docker build -t tylee/kor_docker .\n",
    "    - docker run -p 9000:9000 -d tylee/kor_docker "
   ]
  },
  {
   "cell_type": "markdown",
   "metadata": {},
   "source": [
    "# Call Rest service Test"
   ]
  },
  {
   "cell_type": "code",
   "execution_count": 2,
   "metadata": {
    "collapsed": false
   },
   "outputs": [
    {
     "name": "stdout",
     "output_type": "stream",
     "text": [
      "[{\"contains\": [], \"name\": \"핵\", \"dep\": \"ROOT\", \"pos_tag\": \"NFP\"}, {\"contains\": [], \"name\": \"실\", \"dep\": \"ROOT\", \"pos_tag\": \"NFP\"}, {\"contains\": [], \"name\": \"험\", \"dep\": \"ROOT\", \"pos_tag\": \"NFP\"}, {\"contains\": [], \"name\": \"준\", \"dep\": \"ROOT\", \"pos_tag\": \"NFP\"}, {\"contains\": [], \"name\": \"비\", \"dep\": \"ROOT\", \"pos_tag\": \"NFP\"}, {\"contains\": [], \"name\": \"가\", \"dep\": \"ROOT\", \"pos_tag\": \"NFP\"}, {\"contains\": [], \"name\": \"완\", \"dep\": \"ROOT\", \"pos_tag\": \"NFP\"}, {\"contains\": [], \"name\": \"료\", \"dep\": \"ROOT\", \"pos_tag\": \"NFP\"}, {\"contains\": [], \"name\": \"된\", \"dep\": \"ROOT\", \"pos_tag\": \"NFP\"}, {\"contains\": [], \"name\": \"상\", \"dep\": \"ROOT\", \"pos_tag\": \"NFP\"}, {\"contains\": [], \"name\": \"태\", \"dep\": \"ROOT\", \"pos_tag\": \"NFP\"}, {\"contains\": [], \"name\": \"로\", \"dep\": \"ROOT\", \"pos_tag\": \"NFP\"}, {\"contains\": [], \"name\": \"보\", \"dep\": \"ROOT\", \"pos_tag\": \"NFP\"}, {\"contains\": [], \"name\": \"인\", \"dep\": \"ROOT\", \"pos_tag\": \"NFP\"}, {\"contains\": [], \"name\": \"다\", \"dep\": \"ROOT\", \"pos_tag\": \"NFP\"}, {\"contains\": [], \"name\": \"고\", \"dep\": \"ROOT\", \"pos_tag\": \"NFP\"}, {\"contains\": [], \"name\": \"밝\", \"dep\": \"ROOT\", \"pos_tag\": \"NFP\"}, {\"contains\": [], \"name\": \"혔\", \"dep\": \"ROOT\", \"pos_tag\": \"NFP\"}, {\"contains\": [], \"name\": \"다\", \"dep\": \"ROOT\", \"pos_tag\": \"NFP\"}]\n"
     ]
    }
   ],
   "source": [
    "#-*-coding: utf-8 -*-\n",
    "\n",
    "import requests\n",
    "import json, os\n",
    "url = \"{0}:{1}\".format(\"IP\" , \"9000\")\n",
    "\n",
    "# [Required]\n",
    "# make new docker for rest-service and add model \"syntaxnet\"\n",
    "# add option to docker run \"--link syntaxnet:syntaxnet-rest-api\"\n",
    "# Reference : https://github.com/ljm625/syntaxnet-rest-api\n",
    "\n",
    "# Call Syntaxnet\n",
    "\n",
    "resp = requests.post('http://' + url + '/api/v1/query',\n",
    "                         json={\n",
    "                                 \"strings\": [\"핵실험 준비가 완료된 상태로 보인다고 밝혔다\"]\n",
    "                         }\n",
    "                     )\n",
    "\"\"\"\n",
    "    return value is (On AWS console tested not use docker)\n",
    "    [{'pos_tag': 'JJ', 'dep': 'ROOT', 'contains':\n",
    "    [{'pos_tag': 'NNP', 'dep': 'nsubj', 'name': 'Google'},\n",
    "    {'pos_tag': 'VBZ', 'dep': 'cop', 'name': 'is'},\n",
    "    {'pos_tag': '.', 'dep': 'punct', 'name': '!'}],\n",
    "    'name': 'awesome'}]\n",
    "\"\"\"\n",
    "\n",
    "print(json.dumps(resp.json(),ensure_ascii=False))"
   ]
  },
  {
   "cell_type": "code",
   "execution_count": null,
   "metadata": {
    "collapsed": true
   },
   "outputs": [],
   "source": []
  }
 ],
 "metadata": {
  "anaconda-cloud": {},
  "kernelspec": {
   "display_name": "Python [conda root]",
   "language": "python",
   "name": "conda-root-py"
  }
 },
 "nbformat": 4,
 "nbformat_minor": 2
}
