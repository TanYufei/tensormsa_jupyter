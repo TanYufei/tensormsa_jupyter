{
 "cells": [
  {
   "cell_type": "markdown",
   "metadata": {},
   "source": [
    "# install FastText\n",
    "pip install fasttext   \n",
    "git clone https://github.com/facebookresearch/fastText.git   \n",
    "cd fastText    \n",
    "make   "
   ]
  },
  {
   "cell_type": "code",
   "execution_count": 51,
   "metadata": {
    "collapsed": false
   },
   "outputs": [],
   "source": [
    "import fasttext\n",
    "from gensim.models.wrappers.fasttext import FastText"
   ]
  },
  {
   "cell_type": "markdown",
   "metadata": {},
   "source": [
    "# Train Model with fasttext and load vec model with Gensim"
   ]
  },
  {
   "cell_type": "code",
   "execution_count": 56,
   "metadata": {
    "collapsed": false
   },
   "outputs": [],
   "source": [
    "fasttext.cbow('./data/test4.txt', './model/ft.vec')\n",
    "model = FastText.load_fasttext_format('./model/ft.vec')"
   ]
  },
  {
   "cell_type": "markdown",
   "metadata": {},
   "source": [
    "# Test Model with word in dict"
   ]
  },
  {
   "cell_type": "code",
   "execution_count": 57,
   "metadata": {
    "collapsed": false
   },
   "outputs": [
    {
     "data": {
      "text/plain": [
       "[('마법학교가', 0.9997742176055908),\n",
       " ('마법학교에', 0.9997713565826416),\n",
       " ('마법학교를', 0.9997692704200745),\n",
       " ('마법학교', 0.9997529983520508),\n",
       " ('마법학교로', 0.9997451901435852),\n",
       " ('마법학교는', 0.9997426867485046),\n",
       " ('마법학교의', 0.9997368454933167),\n",
       " ('마법이', 0.9997333884239197),\n",
       " ('마법에', 0.9997239112854004),\n",
       " ('마법은', 0.999707818031311)]"
      ]
     },
     "execution_count": 57,
     "metadata": {},
     "output_type": "execute_result"
    }
   ],
   "source": [
    "model.most_similar(positive=['마법'])"
   ]
  },
  {
   "cell_type": "markdown",
   "metadata": {},
   "source": [
    "# Test Model with word not in dict"
   ]
  },
  {
   "cell_type": "code",
   "execution_count": 66,
   "metadata": {
    "collapsed": false
   },
   "outputs": [
    {
     "name": "stdout",
     "output_type": "stream",
     "text": [
      "마법학교와 존재않함\n"
     ]
    },
    {
     "data": {
      "text/plain": [
       "[('와', 0.10116631537675858),\n",
       " ('쭉', 0.09782454371452332),\n",
       " ('뭐야,', 0.09663314372301102),\n",
       " ('끝을', 0.09575305134057999),\n",
       " ('가', 0.09538707137107849),\n",
       " ('헝클어', 0.09532861411571503),\n",
       " ('서', 0.09532065689563751),\n",
       " ('아예', 0.09506048262119293),\n",
       " ('진짜', 0.09427258372306824),\n",
       " ('유리관에', 0.09392260015010834)]"
      ]
     },
     "execution_count": 66,
     "metadata": {},
     "output_type": "execute_result"
    }
   ],
   "source": [
    "test_word = '마법학교와'\n",
    "print(\"{0} 존재함\".format(test_word)) if test_word in model.wv.index2word else print(\"{0} 존재않함\".format(test_word))\n",
    "model.most_similar(positive=[test_word])"
   ]
  }
 ],
 "metadata": {
  "anaconda-cloud": {},
  "kernelspec": {
   "display_name": "Python [conda root]",
   "language": "python",
   "name": "conda-root-py"
  },
  "language_info": {
   "codemirror_mode": {
    "name": "ipython",
    "version": 3
   },
   "file_extension": ".py",
   "mimetype": "text/x-python",
   "name": "python",
   "nbconvert_exporter": "python",
   "pygments_lexer": "ipython3",
   "version": "3.5.2"
  }
 },
 "nbformat": 4,
 "nbformat_minor": 1
}
