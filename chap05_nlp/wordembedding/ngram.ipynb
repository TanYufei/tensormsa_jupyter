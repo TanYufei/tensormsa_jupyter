{
 "cells": [
  {
   "cell_type": "markdown",
   "metadata": {},
   "source": [
    "# NGram Example"
   ]
  },
  {
   "cell_type": "code",
   "execution_count": 87,
   "metadata": {
    "collapsed": true
   },
   "outputs": [],
   "source": [
    "import ngram"
   ]
  },
  {
   "cell_type": "markdown",
   "metadata": {},
   "source": [
    "# Ngram Score 산정 방법\n",
    "NGram 산정을 위한 프로세스는 아래와 같다. \n",
    "- (1) unigram, bigram, trigram 등 어떤 사이즈의 윈도우를 사용할 것인지 지정 . \n",
    "- (2) 지정한 사이즈의 윈도우로 입력단어와 비교단어를 분리하여 Collection을 구성한다.\n",
    "- (3) 두 Collection 을 Concat하고 중복된 Key 를 제거한다.\n",
    "- (4) 최종 스코어는 일치하는 수 / 전체 Collection "
   ]
  },
  {
   "cell_type": "code",
   "execution_count": 90,
   "metadata": {
    "collapsed": false
   },
   "outputs": [
    {
     "name": "stdout",
     "output_type": "stream",
     "text": [
      "['$$에', '$에어', '에어컨', '어컨$', '컨$$']\n",
      "['$$에', '$에오', '에오컨', '오컨$', '컨$$']\n",
      "['$$에', '$에어', '에어조', '어조단', '조단$', '단$$']\n",
      "[('에어컨', 0.25), ('에라이', 0.1111111111111111), ('에어콘', 0.1111111111111111), ('에어조단', 0.1)]\n"
     ]
    }
   ],
   "source": [
    "ng = ngram.NGram(['에어컨', '선풍기','가스레인지','냉장고','티비','에라이', '에어콘','에어조단'], N=3)\n",
    "print(list(ng.split('에어컨')))\n",
    "print(list(ng.split('에오컨')))\n",
    "print(list(ng.split('에어조단')))\n",
    "\n",
    "result = ng.search('에오컨', threshold=0.1)\n",
    "print(result)"
   ]
  },
  {
   "cell_type": "code",
   "execution_count": null,
   "metadata": {
    "collapsed": true
   },
   "outputs": [],
   "source": []
  }
 ],
 "metadata": {
  "anaconda-cloud": {},
  "kernelspec": {
   "display_name": "Python [conda root]",
   "language": "python",
   "name": "conda-root-py"
  },
  "language_info": {
   "codemirror_mode": {
    "name": "ipython",
    "version": 3
   },
   "file_extension": ".py",
   "mimetype": "text/x-python",
   "name": "python",
   "nbconvert_exporter": "python",
   "pygments_lexer": "ipython3",
   "version": "3.5.2"
  }
 },
 "nbformat": 4,
 "nbformat_minor": 2
}
