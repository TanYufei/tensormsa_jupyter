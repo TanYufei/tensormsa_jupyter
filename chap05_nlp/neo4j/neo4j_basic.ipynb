{
 "cells": [
  {
   "cell_type": "markdown",
   "metadata": {
    "collapsed": true
   },
   "source": [
    "# Graph DataBase <br>\n",
    "그래프 DB는 NoSql 의 한 종류로 다양한 OpenSource 가 존재하지만, 그중 가장 유명한 neo4j 를 가지고 개발중인 F/W 에 적용하고자 기본적인 기능들은 Jupyter 로 사전에 테스트 하고자 한다. 개발 환경은 Python, Django 기반으로 \"Neo4j Python Driver\"라는 Python 라이브러리를 사용하여 Server 형태로 구축된 Graph Db 에 접속하여 일반적인 Node 생성, Relation 생성, Match 를 사용한 조회 작업등을 테스트할 예정이다. <br>\n",
    "Neo4j 의 설치는 https://neo4j.com/download/community-edition/ 를 참조하면 간단하게 설치가 가능하며, 별다른 Setting 을 하지 않을 경우 기본 포트는 (api :7687, web:7474)가 된다. 아래의 예제들은 Neo4j가 설치되어 있다는 가정하에 수행된다.<br> \n",
    "<br><b>[그림1. graph data base]</b><br>\n",
    "<img src=\"../../images/graphdb.png\"><br>\n"
   ]
  },
  {
   "cell_type": "code",
   "execution_count": 1,
   "metadata": {
    "collapsed": true
   },
   "outputs": [],
   "source": [
    "from neo4j.v1 import GraphDatabase, basic_auth\n",
    "driver = GraphDatabase.driver(\"bolt://localhost:7687\", auth=basic_auth(\"neo4j\", \"posco123!\"))\n",
    "session = driver.session()"
   ]
  },
  {
   "cell_type": "markdown",
   "metadata": {},
   "source": [
    "# (1) Record 생성 \n",
    "아래와 같이 Simple 하게 Lable 이 Person 이고 Property 가 name 인 Node를 만들어 보자. <br>"
   ]
  },
  {
   "cell_type": "code",
   "execution_count": 15,
   "metadata": {
    "collapsed": false
   },
   "outputs": [
    {
     "name": "stdout",
     "output_type": "stream",
     "text": [
      "you : <Node id=7 labels={'Person'} properties={'name': 'You'}>\n"
     ]
    }
   ],
   "source": [
    "result = session.run(\"CREATE (you:Person {name:'You'})\"\n",
    "                     \"RETURN you\")\n",
    "for record in result : \n",
    "    print(\"you : {0}\".format(record[\"you\"]))\n"
   ]
  },
  {
   "cell_type": "markdown",
   "metadata": {},
   "source": [
    "# (2) Relation 생성 - 직업\n",
    "Record 를 만들고 Relation 을 만들면 http://localhost:7474 에서 아래와 같은 그래프를 확인 할 수 있다.<br> 실행을 두번하여서 Person:you Node와 DataBase:Neo4j Node 사이에 관계가 Like 가 정의된 것을 확인 할 수 있다. <br> \n",
    "<img src=\"../../images/graph_1.png\"><br>"
   ]
  },
  {
   "cell_type": "code",
   "execution_count": 16,
   "metadata": {
    "collapsed": false
   },
   "outputs": [
    {
     "name": "stdout",
     "output_type": "stream",
     "text": [
      "<Node id=6 labels={'Person'} properties={'name': 'You'}>/<Relationship id=0 start=6 end=8 type='LIKE' properties={}>/<Node id=8 labels={'Database'} properties={'name': 'Neo4j'}>\n",
      "<Node id=7 labels={'Person'} properties={'name': 'You'}>/<Relationship id=1 start=7 end=9 type='LIKE' properties={}>/<Node id=9 labels={'Database'} properties={'name': 'Neo4j'}>\n"
     ]
    }
   ],
   "source": [
    "result = session.run(\"MATCH  (you:Person {name:'You'})\"\n",
    "                     \"CREATE (you)-[like:LIKE]->(neo:Database {name:'Neo4j' })\"\n",
    "                     \"RETURN you,like,neo\")\n",
    "\n",
    "for record in result : \n",
    "    print(\"{0}/{1}/{2}\".format(record[\"you\"], record[\"like\"], record[\"neo\"]))"
   ]
  },
  {
   "cell_type": "markdown",
   "metadata": {},
   "source": [
    "# (3) Relation 생성 - 친구\n",
    "아래와 같이 (you)-[:FRIEND]->(:Person {name:name} 관계를 추가적으로 생성하여 보자. <br>\n",
    "아래와 같이 친구들이 추가된 것을 볼 수 있다. <br>\n",
    "<img src=\"../../images/graph_2.png\"><br>"
   ]
  },
  {
   "cell_type": "code",
   "execution_count": 7,
   "metadata": {
    "collapsed": false
   },
   "outputs": [
    {
     "name": "stdout",
     "output_type": "stream",
     "text": [
      "you : You , friends : Julia\n",
      "you : You , friends : Anna\n",
      "you : You , friends : Rajesh\n",
      "you : You , friends : Johan\n",
      "you : You , friends : Andrew\n",
      "you : You , friends : Johan\n",
      "you : You , friends : Rajesh\n",
      "you : You , friends : Andrew\n",
      "you : You , friends : Julia\n",
      "you : You , friends : Anna\n",
      "you : You , friends : Andrew\n",
      "you : You , friends : Johan\n",
      "you : You , friends : Rajesh\n",
      "you : You , friends : Anna\n",
      "you : You , friends : Julia\n",
      "you : You , friends : Julia\n",
      "you : You , friends : Anna\n",
      "you : You , friends : Andrew\n",
      "you : You , friends : Rajesh\n",
      "you : You , friends : Johan\n",
      "you : You , friends : Andrew\n",
      "you : You , friends : Rajesh\n",
      "you : You , friends : Johan\n",
      "you : You , friends : Julia\n",
      "you : You , friends : Anna\n",
      "you : You , friends : Andrew\n",
      "you : You , friends : Anna\n",
      "you : You , friends : Julia\n",
      "you : You , friends : Johan\n",
      "you : You , friends : Rajesh\n",
      "you : You , friends : Julia\n",
      "you : You , friends : Anna\n",
      "you : You , friends : Rajesh\n",
      "you : You , friends : Johan\n",
      "you : You , friends : Andrew\n",
      "you : You , friends : Andrew\n",
      "you : You , friends : Julia\n",
      "you : You , friends : Anna\n",
      "you : You , friends : Rajesh\n",
      "you : You , friends : Johan\n",
      "you : You , friends : Anna\n",
      "you : You , friends : Rajesh\n",
      "you : You , friends : Johan\n",
      "you : You , friends : Julia\n",
      "you : You , friends : Andrew\n",
      "you : You , friends : Johan\n",
      "you : You , friends : Andrew\n",
      "you : You , friends : Julia\n",
      "you : You , friends : Anna\n",
      "you : You , friends : Rajesh\n",
      "you : You , friends : Julia\n",
      "you : You , friends : Andrew\n",
      "you : You , friends : Johan\n",
      "you : You , friends : Rajesh\n",
      "you : You , friends : Anna\n",
      "you : You , friends : Johan\n",
      "you : You , friends : Rajesh\n",
      "you : You , friends : Anna\n",
      "you : You , friends : Julia\n",
      "you : You , friends : Andrew\n",
      "you : You , friends : Andrew\n",
      "you : You , friends : Julia\n",
      "you : You , friends : Johan\n",
      "you : You , friends : Anna\n",
      "you : You , friends : Rajesh\n",
      "you : You , friends : Julia\n",
      "you : You , friends : Andrew\n",
      "you : You , friends : Rajesh\n",
      "you : You , friends : Anna\n",
      "you : You , friends : Johan\n",
      "you : You , friends : Julia\n",
      "you : You , friends : Andrew\n",
      "you : You , friends : Rajesh\n",
      "you : You , friends : Anna\n",
      "you : You , friends : Johan\n",
      "you : You , friends : Andrew\n",
      "you : You , friends : Julia\n",
      "you : You , friends : Anna\n",
      "you : You , friends : Rajesh\n",
      "you : You , friends : Johan\n"
     ]
    }
   ],
   "source": [
    "session.run(\"MATCH (you:Person {name:'You'})\"\n",
    "            \"FOREACH (name in ['Johan','Rajesh','Anna','Julia','Andrew'] |\"\n",
    "            \"  CREATE (you)-[:FRIEND]->(:Person {name:name}))\")\n",
    "result = session.run(\"MATCH (you {name:'You'})-[:FRIEND]->(yourFriends)\"\n",
    "                     \"RETURN you, yourFriends\")\n",
    "for record in result :\n",
    "    print(\"you : {0} , friends : {1}\".format(record['you']['name'],record['yourFriends']['name'] ))"
   ]
  },
  {
   "cell_type": "markdown",
   "metadata": {},
   "source": [
    "# (4) 친구의 친구 검색\n",
    "위에서 만든 친구중에 Anna 라는 친구의 친구 Amanda 를 추가하고 Amanda 의 직업은 Neo4j 로 설정한다. <br>\n",
    "그리고 당신의 친구중에 전문분야가 Neo4j 인 친구를 찾는 Path를 탐색한다. "
   ]
  },
  {
   "cell_type": "code",
   "execution_count": 10,
   "metadata": {
    "collapsed": false
   },
   "outputs": [
    {
     "name": "stdout",
     "output_type": "stream",
     "text": [
      "expert:<Node id=162 labels={'Person', 'Expert'} properties={'name': 'Amanda'}>\n",
      "path:<Path start=6 end=162 size=2>\n",
      "expert:<Node id=164 labels={'Person', 'Expert'} properties={'name': 'Amanda'}>\n",
      "path:<Path start=6 end=164 size=2>\n",
      "expert:<Node id=166 labels={'Person', 'Expert'} properties={'name': 'Amanda'}>\n",
      "path:<Path start=6 end=166 size=2>\n",
      "expert:<Node id=168 labels={'Person', 'Expert'} properties={'name': 'Amanda'}>\n",
      "path:<Path start=6 end=168 size=2>\n",
      "expert:<Node id=154 labels={'Person', 'Expert'} properties={'name': 'Amanda'}>\n",
      "path:<Path start=6 end=154 size=2>\n",
      "expert:<Node id=156 labels={'Person', 'Expert'} properties={'name': 'Amanda'}>\n",
      "path:<Path start=6 end=156 size=2>\n",
      "expert:<Node id=158 labels={'Person', 'Expert'} properties={'name': 'Amanda'}>\n",
      "path:<Path start=6 end=158 size=2>\n",
      "expert:<Node id=160 labels={'Person', 'Expert'} properties={'name': 'Amanda'}>\n",
      "path:<Path start=6 end=160 size=2>\n",
      "expert:<Node id=132 labels={'Person', 'Expert'} properties={'name': 'Amanda'}>\n",
      "path:<Path start=6 end=132 size=2>\n",
      "expert:<Node id=130 labels={'Person', 'Expert'} properties={'name': 'Amanda'}>\n",
      "path:<Path start=6 end=130 size=2>\n",
      "expert:<Node id=136 labels={'Person', 'Expert'} properties={'name': 'Amanda'}>\n",
      "path:<Path start=6 end=136 size=2>\n",
      "expert:<Node id=134 labels={'Person', 'Expert'} properties={'name': 'Amanda'}>\n",
      "path:<Path start=6 end=134 size=2>\n",
      "expert:<Node id=124 labels={'Person', 'Expert'} properties={'name': 'Amanda'}>\n",
      "path:<Path start=6 end=124 size=2>\n",
      "expert:<Node id=122 labels={'Person', 'Expert'} properties={'name': 'Amanda'}>\n",
      "path:<Path start=6 end=122 size=2>\n",
      "expert:<Node id=128 labels={'Person', 'Expert'} properties={'name': 'Amanda'}>\n",
      "path:<Path start=6 end=128 size=2>\n",
      "expert:<Node id=126 labels={'Person', 'Expert'} properties={'name': 'Amanda'}>\n",
      "path:<Path start=6 end=126 size=2>\n",
      "expert:<Node id=102 labels={'Person', 'Expert'} properties={'name': 'Amanda'}>\n",
      "path:<Path start=6 end=102 size=2>\n",
      "expert:<Node id=104 labels={'Person', 'Expert'} properties={'name': 'Amanda'}>\n",
      "path:<Path start=6 end=104 size=2>\n",
      "expert:<Node id=98 labels={'Person', 'Expert'} properties={'name': 'Amanda'}>\n",
      "path:<Path start=6 end=98 size=2>\n",
      "expert:<Node id=100 labels={'Person', 'Expert'} properties={'name': 'Amanda'}>\n",
      "path:<Path start=6 end=100 size=2>\n",
      "expert:<Node id=94 labels={'Person', 'Expert'} properties={'name': 'Amanda'}>\n",
      "path:<Path start=6 end=94 size=2>\n",
      "expert:<Node id=96 labels={'Person', 'Expert'} properties={'name': 'Amanda'}>\n",
      "path:<Path start=6 end=96 size=2>\n",
      "expert:<Node id=90 labels={'Person', 'Expert'} properties={'name': 'Amanda'}>\n",
      "path:<Path start=6 end=90 size=2>\n",
      "expert:<Node id=92 labels={'Person', 'Expert'} properties={'name': 'Amanda'}>\n",
      "path:<Path start=6 end=92 size=2>\n",
      "expert:<Node id=170 labels={'Person', 'Expert'} properties={'name': 'Amanda'}>\n",
      "path:<Path start=6 end=170 size=2>\n",
      "expert:<Node id=172 labels={'Person', 'Expert'} properties={'name': 'Amanda'}>\n",
      "path:<Path start=6 end=172 size=2>\n",
      "expert:<Node id=174 labels={'Person', 'Expert'} properties={'name': 'Amanda'}>\n",
      "path:<Path start=6 end=174 size=2>\n",
      "expert:<Node id=176 labels={'Person', 'Expert'} properties={'name': 'Amanda'}>\n",
      "path:<Path start=6 end=176 size=2>\n",
      "expert:<Node id=184 labels={'Person', 'Expert'} properties={'name': 'Amanda'}>\n",
      "path:<Path start=6 end=184 size=2>\n",
      "expert:<Node id=182 labels={'Person', 'Expert'} properties={'name': 'Amanda'}>\n",
      "path:<Path start=6 end=182 size=2>\n",
      "expert:<Node id=180 labels={'Person', 'Expert'} properties={'name': 'Amanda'}>\n",
      "path:<Path start=6 end=180 size=2>\n",
      "expert:<Node id=178 labels={'Person', 'Expert'} properties={'name': 'Amanda'}>\n",
      "path:<Path start=6 end=178 size=2>\n",
      "expert:<Node id=146 labels={'Person', 'Expert'} properties={'name': 'Amanda'}>\n",
      "path:<Path start=6 end=146 size=2>\n",
      "expert:<Node id=148 labels={'Person', 'Expert'} properties={'name': 'Amanda'}>\n",
      "path:<Path start=6 end=148 size=2>\n",
      "expert:<Node id=150 labels={'Person', 'Expert'} properties={'name': 'Amanda'}>\n",
      "path:<Path start=6 end=150 size=2>\n",
      "expert:<Node id=152 labels={'Person', 'Expert'} properties={'name': 'Amanda'}>\n",
      "path:<Path start=6 end=152 size=2>\n",
      "expert:<Node id=140 labels={'Person', 'Expert'} properties={'name': 'Amanda'}>\n",
      "path:<Path start=6 end=140 size=2>\n",
      "expert:<Node id=138 labels={'Person', 'Expert'} properties={'name': 'Amanda'}>\n",
      "path:<Path start=6 end=138 size=2>\n",
      "expert:<Node id=144 labels={'Person', 'Expert'} properties={'name': 'Amanda'}>\n",
      "path:<Path start=6 end=144 size=2>\n",
      "expert:<Node id=142 labels={'Person', 'Expert'} properties={'name': 'Amanda'}>\n",
      "path:<Path start=6 end=142 size=2>\n",
      "expert:<Node id=110 labels={'Person', 'Expert'} properties={'name': 'Amanda'}>\n",
      "path:<Path start=6 end=110 size=2>\n",
      "expert:<Node id=112 labels={'Person', 'Expert'} properties={'name': 'Amanda'}>\n",
      "path:<Path start=6 end=112 size=2>\n",
      "expert:<Node id=106 labels={'Person', 'Expert'} properties={'name': 'Amanda'}>\n",
      "path:<Path start=6 end=106 size=2>\n",
      "expert:<Node id=108 labels={'Person', 'Expert'} properties={'name': 'Amanda'}>\n",
      "path:<Path start=6 end=108 size=2>\n",
      "expert:<Node id=116 labels={'Person', 'Expert'} properties={'name': 'Amanda'}>\n",
      "path:<Path start=6 end=116 size=2>\n",
      "expert:<Node id=114 labels={'Person', 'Expert'} properties={'name': 'Amanda'}>\n",
      "path:<Path start=6 end=114 size=2>\n",
      "expert:<Node id=120 labels={'Person', 'Expert'} properties={'name': 'Amanda'}>\n",
      "path:<Path start=6 end=120 size=2>\n",
      "expert:<Node id=118 labels={'Person', 'Expert'} properties={'name': 'Amanda'}>\n",
      "path:<Path start=6 end=118 size=2>\n",
      "expert:<Node id=169 labels={'Person', 'Expert'} properties={'name': 'Amanda'}>\n",
      "path:<Path start=7 end=169 size=2>\n",
      "expert:<Node id=161 labels={'Person', 'Expert'} properties={'name': 'Amanda'}>\n",
      "path:<Path start=7 end=161 size=2>\n",
      "expert:<Node id=163 labels={'Person', 'Expert'} properties={'name': 'Amanda'}>\n",
      "path:<Path start=7 end=163 size=2>\n",
      "expert:<Node id=165 labels={'Person', 'Expert'} properties={'name': 'Amanda'}>\n",
      "path:<Path start=7 end=165 size=2>\n",
      "expert:<Node id=167 labels={'Person', 'Expert'} properties={'name': 'Amanda'}>\n",
      "path:<Path start=7 end=167 size=2>\n",
      "expert:<Node id=155 labels={'Person', 'Expert'} properties={'name': 'Amanda'}>\n",
      "path:<Path start=7 end=155 size=2>\n",
      "expert:<Node id=157 labels={'Person', 'Expert'} properties={'name': 'Amanda'}>\n",
      "path:<Path start=7 end=157 size=2>\n",
      "expert:<Node id=159 labels={'Person', 'Expert'} properties={'name': 'Amanda'}>\n",
      "path:<Path start=7 end=159 size=2>\n",
      "expert:<Node id=137 labels={'Person', 'Expert'} properties={'name': 'Amanda'}>\n",
      "path:<Path start=7 end=137 size=2>\n",
      "expert:<Node id=131 labels={'Person', 'Expert'} properties={'name': 'Amanda'}>\n",
      "path:<Path start=7 end=131 size=2>\n",
      "expert:<Node id=129 labels={'Person', 'Expert'} properties={'name': 'Amanda'}>\n",
      "path:<Path start=7 end=129 size=2>\n",
      "expert:<Node id=135 labels={'Person', 'Expert'} properties={'name': 'Amanda'}>\n",
      "path:<Path start=7 end=135 size=2>\n",
      "expert:<Node id=133 labels={'Person', 'Expert'} properties={'name': 'Amanda'}>\n",
      "path:<Path start=7 end=133 size=2>\n",
      "expert:<Node id=123 labels={'Person', 'Expert'} properties={'name': 'Amanda'}>\n",
      "path:<Path start=7 end=123 size=2>\n",
      "expert:<Node id=127 labels={'Person', 'Expert'} properties={'name': 'Amanda'}>\n",
      "path:<Path start=7 end=127 size=2>\n",
      "expert:<Node id=125 labels={'Person', 'Expert'} properties={'name': 'Amanda'}>\n",
      "path:<Path start=7 end=125 size=2>\n",
      "expert:<Node id=105 labels={'Person', 'Expert'} properties={'name': 'Amanda'}>\n",
      "path:<Path start=7 end=105 size=2>\n",
      "expert:<Node id=101 labels={'Person', 'Expert'} properties={'name': 'Amanda'}>\n",
      "path:<Path start=7 end=101 size=2>\n",
      "expert:<Node id=103 labels={'Person', 'Expert'} properties={'name': 'Amanda'}>\n",
      "path:<Path start=7 end=103 size=2>\n",
      "expert:<Node id=97 labels={'Person', 'Expert'} properties={'name': 'Amanda'}>\n",
      "path:<Path start=7 end=97 size=2>\n",
      "expert:<Node id=99 labels={'Person', 'Expert'} properties={'name': 'Amanda'}>\n",
      "path:<Path start=7 end=99 size=2>\n",
      "expert:<Node id=93 labels={'Person', 'Expert'} properties={'name': 'Amanda'}>\n",
      "path:<Path start=7 end=93 size=2>\n",
      "expert:<Node id=95 labels={'Person', 'Expert'} properties={'name': 'Amanda'}>\n",
      "path:<Path start=7 end=95 size=2>\n",
      "expert:<Node id=91 labels={'Person', 'Expert'} properties={'name': 'Amanda'}>\n",
      "path:<Path start=7 end=91 size=2>\n",
      "expert:<Node id=171 labels={'Person', 'Expert'} properties={'name': 'Amanda'}>\n",
      "path:<Path start=7 end=171 size=2>\n",
      "expert:<Node id=173 labels={'Person', 'Expert'} properties={'name': 'Amanda'}>\n",
      "path:<Path start=7 end=173 size=2>\n",
      "expert:<Node id=175 labels={'Person', 'Expert'} properties={'name': 'Amanda'}>\n",
      "path:<Path start=7 end=175 size=2>\n",
      "expert:<Node id=183 labels={'Person', 'Expert'} properties={'name': 'Amanda'}>\n",
      "path:<Path start=7 end=183 size=2>\n",
      "expert:<Node id=181 labels={'Person', 'Expert'} properties={'name': 'Amanda'}>\n",
      "path:<Path start=7 end=181 size=2>\n",
      "expert:<Node id=179 labels={'Person', 'Expert'} properties={'name': 'Amanda'}>\n",
      "path:<Path start=7 end=179 size=2>\n",
      "expert:<Node id=177 labels={'Person', 'Expert'} properties={'name': 'Amanda'}>\n",
      "path:<Path start=7 end=177 size=2>\n",
      "expert:<Node id=185 labels={'Person', 'Expert'} properties={'name': 'Amanda'}>\n",
      "path:<Path start=7 end=185 size=2>\n",
      "expert:<Node id=153 labels={'Person', 'Expert'} properties={'name': 'Amanda'}>\n",
      "path:<Path start=7 end=153 size=2>\n",
      "expert:<Node id=145 labels={'Person', 'Expert'} properties={'name': 'Amanda'}>\n",
      "path:<Path start=7 end=145 size=2>\n",
      "expert:<Node id=147 labels={'Person', 'Expert'} properties={'name': 'Amanda'}>\n",
      "path:<Path start=7 end=147 size=2>\n",
      "expert:<Node id=149 labels={'Person', 'Expert'} properties={'name': 'Amanda'}>\n",
      "path:<Path start=7 end=149 size=2>\n",
      "expert:<Node id=151 labels={'Person', 'Expert'} properties={'name': 'Amanda'}>\n",
      "path:<Path start=7 end=151 size=2>\n",
      "expert:<Node id=139 labels={'Person', 'Expert'} properties={'name': 'Amanda'}>\n",
      "path:<Path start=7 end=139 size=2>\n",
      "expert:<Node id=143 labels={'Person', 'Expert'} properties={'name': 'Amanda'}>\n",
      "path:<Path start=7 end=143 size=2>\n",
      "expert:<Node id=141 labels={'Person', 'Expert'} properties={'name': 'Amanda'}>\n",
      "path:<Path start=7 end=141 size=2>\n",
      "expert:<Node id=109 labels={'Person', 'Expert'} properties={'name': 'Amanda'}>\n",
      "path:<Path start=7 end=109 size=2>\n",
      "expert:<Node id=111 labels={'Person', 'Expert'} properties={'name': 'Amanda'}>\n",
      "path:<Path start=7 end=111 size=2>\n",
      "expert:<Node id=107 labels={'Person', 'Expert'} properties={'name': 'Amanda'}>\n",
      "path:<Path start=7 end=107 size=2>\n",
      "expert:<Node id=121 labels={'Person', 'Expert'} properties={'name': 'Amanda'}>\n",
      "path:<Path start=7 end=121 size=2>\n",
      "expert:<Node id=115 labels={'Person', 'Expert'} properties={'name': 'Amanda'}>\n",
      "path:<Path start=7 end=115 size=2>\n",
      "expert:<Node id=113 labels={'Person', 'Expert'} properties={'name': 'Amanda'}>\n",
      "path:<Path start=7 end=113 size=2>\n",
      "expert:<Node id=119 labels={'Person', 'Expert'} properties={'name': 'Amanda'}>\n",
      "path:<Path start=7 end=119 size=2>\n",
      "expert:<Node id=117 labels={'Person', 'Expert'} properties={'name': 'Amanda'}>\n",
      "path:<Path start=7 end=117 size=2>\n"
     ]
    }
   ],
   "source": [
    "session.run(\"MATCH (neo:Database {name:'Neo4j'})\"\n",
    "            \"MATCH (anna:Person {name:'Anna'})\"\n",
    "            \"CREATE (anna)-[:FRIEND]->(:Person:Expert {name:'Amanda'})-[:WORKED_WITH]->(neo)\")\n",
    "\n",
    "result = session.run(\"MATCH (you {name:'You'})\"\n",
    "                     \"MATCH (expert)-[:WORKED_WITH]->(db:Database {name:'Neo4j'})\"\n",
    "                     \"MATCH path = shortestPath( (you)-[:FRIEND*..5]-(expert) )\"\n",
    "                     \"RETURN db,expert,path\")\n",
    "\n",
    "for record in result :\n",
    "    print(\"expert:{0}\".format(record['expert'] ))\n",
    "    print(\"path:{0}\".format(record['path'] ))"
   ]
  },
  {
   "cell_type": "code",
   "execution_count": 11,
   "metadata": {
    "collapsed": false
   },
   "outputs": [],
   "source": [
    "session.close()\n",
    "print(\"close\")"
   ]
  },
  {
   "cell_type": "code",
   "execution_count": null,
   "metadata": {
    "collapsed": true
   },
   "outputs": [],
   "source": []
  }
 ],
 "metadata": {
  "anaconda-cloud": {},
  "kernelspec": {
   "display_name": "Python [conda root]",
   "language": "python",
   "name": "conda-root-py"
  },
  "language_info": {
   "codemirror_mode": {
    "name": "ipython",
    "version": 3
   },
   "file_extension": ".py",
   "mimetype": "text/x-python",
   "name": "python",
   "nbconvert_exporter": "python",
   "pygments_lexer": "ipython3",
   "version": "3.5.2"
  }
 },
 "nbformat": 4,
 "nbformat_minor": 1
}
