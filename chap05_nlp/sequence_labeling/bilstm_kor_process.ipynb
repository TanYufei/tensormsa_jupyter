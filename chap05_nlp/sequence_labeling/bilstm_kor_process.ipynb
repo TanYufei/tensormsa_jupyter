{
 "cells": [
  {
   "cell_type": "markdown",
   "metadata": {},
   "source": [
    "# Word Embedding Vector & Dict Data Save "
   ]
  },
  {
   "cell_type": "code",
   "execution_count": 1,
   "metadata": {
    "collapsed": true
   },
   "outputs": [],
   "source": [
    "from kor_model.data_crawler import crawler\n",
    "from kor_model.data_crawler import mecab\n",
    "from kor_model.data_embed_model import build_data\n",
    "from kor_model.config import config\n",
    "from kor_model.ner_model.lstmcrf_model import NERModel\n",
    "from kor_model.general_utils import get_logger\n",
    "from kor_model.data_embed_model import data_utils\n",
    "from kor_model.data_embed_model.data_utils import CoNLLDataset\n",
    "from kor_model.data_embed_model import word2vec\n",
    "from kor_model.data_embed_model import data_utils\n",
    "import os"
   ]
  },
  {
   "cell_type": "code",
   "execution_count": 2,
   "metadata": {
    "collapsed": false
   },
   "outputs": [
    {
     "name": "stdout",
     "output_type": "stream",
     "text": [
      "tockenizing start\n",
      "tockenizing done\n",
      "word2vec train start\n",
      "word2vec train done\n",
      "Building vocab...\n",
      "- done. 8 tokens\n",
      "Writing vocab...\n",
      "- done. 20 tokens\n",
      "Writing vocab...\n",
      "- done. 20 tokens\n",
      "Writing vocab...\n",
      "- done. 8 tokens\n",
      "Writing vocab...\n",
      "- done. 5 tokens\n"
     ]
    }
   ],
   "source": [
    "# (1) Train 파일을 Mecab 으로 Sentence Spliting & Morphing 작업 수행\n",
    "mecab.tockenizer(config.train_filename, config.pos_path)\n",
    "\n",
    "# (2) Word2Vec 를 이용하여 단어 단위로 Embedding Vector 를 구성 \n",
    "embed_model = word2vec.train_w2v(config)\n",
    "\n",
    "\n",
    "# (3) Generators Class 생성 Iterator \n",
    "dev   = CoNLLDataset(config.dev_filename, max_iter=config.max_iter)\n",
    "test  = CoNLLDataset(config.test_filename, max_iter=config.max_iter)\n",
    "train = CoNLLDataset(config.train_filename, max_iter=config.max_iter)\n",
    "\n",
    "# (4) Data Set 에서 Word 와 Tag Distinct Value 를 추출 \n",
    "vocab_words, vocab_tags = data_utils.get_vocabs([train, dev, test])\n",
    "\n",
    "# (5) Word Embedding 에 등록된 Dict 와 훈련 Data Set 에 공통으로 있는 것만 사용 \n",
    "vocab = vocab_words & set(embed_model.wv.index2word)\n",
    "vocab.add(data_utils.UNK)\n",
    "\n",
    "# (6) 훈련 데이터에서 Char Dict 추출 \n",
    "vocab_chars = data_utils.get_char_vocab(train)\n",
    "\n",
    "# (7) 모든 Dict 리스트 및 Vector 파일을 저장함 \n",
    "# Char, Word, Tag 3가지에 대하여 Vector 변환을 위한 데이터 \n",
    "data_utils.write_char_embedding(vocab_chars, config.charembed_filename)\n",
    "data_utils.write_vocab(vocab_chars, config.chars_filename)\n",
    "data_utils.write_vocab(vocab, config.words_filename)\n",
    "data_utils.write_vocab(vocab_tags, config.tags_filename)\n",
    "data_utils.export_trimmed_glove_vectors(vocab, embed_model, config.trimmed_filename)"
   ]
  },
  {
   "cell_type": "markdown",
   "metadata": {},
   "source": [
    "# Data Object Prepare"
   ]
  },
  {
   "cell_type": "code",
   "execution_count": 3,
   "metadata": {
    "collapsed": false
   },
   "outputs": [
    {
     "name": "stderr",
     "output_type": "stream",
     "text": [
      "/opt/conda/lib/python3.5/site-packages/tensorflow/python/ops/gradients_impl.py:93: UserWarning: Converting sparse IndexedSlices to a dense Tensor of unknown shape. This may consume a large amount of memory.\n",
      "  \"Converting sparse IndexedSlices to a dense Tensor of unknown shape. \"\n",
      "Epoch 1 out of 50\n"
     ]
    },
    {
     "name": "stdout",
     "output_type": "stream",
     "text": [
      "\r",
      "1/1 [=========================>....] - ETA: 0s - train loss: 4.6463"
     ]
    },
    {
     "name": "stderr",
     "output_type": "stream",
     "text": [
      "- dev acc 4.55 - f1 0.00\n",
      "- new best score!\n",
      "Epoch 2 out of 50\n"
     ]
    },
    {
     "name": "stdout",
     "output_type": "stream",
     "text": [
      "\r",
      "1/1 [=========================>....] - ETA: 0s - train loss: 4.5688"
     ]
    },
    {
     "name": "stderr",
     "output_type": "stream",
     "text": [
      "- dev acc 4.55 - f1 0.00\n",
      "- new best score!\n",
      "Epoch 3 out of 50\n"
     ]
    },
    {
     "name": "stdout",
     "output_type": "stream",
     "text": [
      "\r",
      "1/1 [=========================>....] - ETA: 0s - train loss: 4.4951"
     ]
    },
    {
     "name": "stderr",
     "output_type": "stream",
     "text": [
      "- dev acc 31.82 - f1 0.00\n",
      "- new best score!\n",
      "Epoch 4 out of 50\n"
     ]
    },
    {
     "name": "stdout",
     "output_type": "stream",
     "text": [
      "\r",
      "1/1 [=========================>....] - ETA: 0s - train loss: 4.4244"
     ]
    },
    {
     "name": "stderr",
     "output_type": "stream",
     "text": [
      "- dev acc 31.82 - f1 0.00\n",
      "- new best score!\n",
      "Epoch 5 out of 50\n"
     ]
    },
    {
     "name": "stdout",
     "output_type": "stream",
     "text": [
      "\r",
      "1/1 [=========================>....] - ETA: 0s - train loss: 4.3562"
     ]
    },
    {
     "name": "stderr",
     "output_type": "stream",
     "text": [
      "- dev acc 31.82 - f1 8.00\n",
      "- new best score!\n",
      "Epoch 6 out of 50\n"
     ]
    },
    {
     "name": "stdout",
     "output_type": "stream",
     "text": [
      "\r",
      "1/1 [=========================>....] - ETA: 0s - train loss: 4.3033"
     ]
    },
    {
     "name": "stderr",
     "output_type": "stream",
     "text": [
      "- dev acc 40.91 - f1 45.16\n",
      "- new best score!\n",
      "Epoch 7 out of 50\n"
     ]
    },
    {
     "name": "stdout",
     "output_type": "stream",
     "text": [
      "\r",
      "1/1 [=========================>....] - ETA: 0s - train loss: 4.2057"
     ]
    },
    {
     "name": "stderr",
     "output_type": "stream",
     "text": [
      "- dev acc 50.00 - f1 45.16\n",
      "- new best score!\n",
      "Epoch 8 out of 50\n"
     ]
    },
    {
     "name": "stdout",
     "output_type": "stream",
     "text": [
      "\r",
      "1/1 [=========================>....] - ETA: 0s - train loss: 4.1570"
     ]
    },
    {
     "name": "stderr",
     "output_type": "stream",
     "text": [
      "- dev acc 50.00 - f1 45.16\n",
      "- new best score!\n",
      "Epoch 9 out of 50\n"
     ]
    },
    {
     "name": "stdout",
     "output_type": "stream",
     "text": [
      "\r",
      "1/1 [=========================>....] - ETA: 0s - train loss: 4.0822"
     ]
    },
    {
     "name": "stderr",
     "output_type": "stream",
     "text": [
      "- dev acc 54.55 - f1 45.16\n",
      "- new best score!\n",
      "Epoch 10 out of 50\n"
     ]
    },
    {
     "name": "stdout",
     "output_type": "stream",
     "text": [
      "\r",
      "1/1 [=========================>....] - ETA: 0s - train loss: 4.0061"
     ]
    },
    {
     "name": "stderr",
     "output_type": "stream",
     "text": [
      "- dev acc 59.09 - f1 45.16\n",
      "- new best score!\n",
      "Epoch 11 out of 50\n"
     ]
    },
    {
     "name": "stdout",
     "output_type": "stream",
     "text": [
      "\r",
      "1/1 [=========================>....] - ETA: 0s - train loss: 3.9664"
     ]
    },
    {
     "name": "stderr",
     "output_type": "stream",
     "text": [
      "- dev acc 59.09 - f1 45.16\n",
      "- new best score!\n",
      "Epoch 12 out of 50\n"
     ]
    },
    {
     "name": "stdout",
     "output_type": "stream",
     "text": [
      "\r",
      "1/1 [=========================>....] - ETA: 0s - train loss: 3.9002"
     ]
    },
    {
     "name": "stderr",
     "output_type": "stream",
     "text": [
      "- dev acc 59.09 - f1 45.16\n",
      "- new best score!\n",
      "Epoch 13 out of 50\n"
     ]
    },
    {
     "name": "stdout",
     "output_type": "stream",
     "text": [
      "\r",
      "1/1 [=========================>....] - ETA: 0s - train loss: 3.8477"
     ]
    },
    {
     "name": "stderr",
     "output_type": "stream",
     "text": [
      "- dev acc 59.09 - f1 45.16\n",
      "- new best score!\n",
      "Epoch 14 out of 50\n"
     ]
    },
    {
     "name": "stdout",
     "output_type": "stream",
     "text": [
      "\r",
      "1/1 [=========================>....] - ETA: 0s - train loss: 3.8167"
     ]
    },
    {
     "name": "stderr",
     "output_type": "stream",
     "text": [
      "- dev acc 59.09 - f1 45.16\n",
      "- new best score!\n",
      "Epoch 15 out of 50\n"
     ]
    },
    {
     "name": "stdout",
     "output_type": "stream",
     "text": [
      "\r",
      "1/1 [=========================>....] - ETA: 0s - train loss: 3.7307"
     ]
    },
    {
     "name": "stderr",
     "output_type": "stream",
     "text": [
      "- dev acc 59.09 - f1 45.16\n",
      "- new best score!\n",
      "Epoch 16 out of 50\n"
     ]
    },
    {
     "name": "stdout",
     "output_type": "stream",
     "text": [
      "\r",
      "1/1 [=========================>....] - ETA: 0s - train loss: 3.7066"
     ]
    },
    {
     "name": "stderr",
     "output_type": "stream",
     "text": [
      "- dev acc 59.09 - f1 45.16\n",
      "- new best score!\n",
      "Epoch 17 out of 50\n"
     ]
    },
    {
     "name": "stdout",
     "output_type": "stream",
     "text": [
      "\r",
      "1/1 [=========================>....] - ETA: 0s - train loss: 3.6807"
     ]
    },
    {
     "name": "stderr",
     "output_type": "stream",
     "text": [
      "- dev acc 59.09 - f1 45.16\n",
      "- new best score!\n",
      "Epoch 18 out of 50\n"
     ]
    },
    {
     "name": "stdout",
     "output_type": "stream",
     "text": [
      "\r",
      "1/1 [=========================>....] - ETA: 0s - train loss: 3.6067"
     ]
    },
    {
     "name": "stderr",
     "output_type": "stream",
     "text": [
      "- dev acc 59.09 - f1 45.16\n",
      "- new best score!\n",
      "Epoch 19 out of 50\n"
     ]
    },
    {
     "name": "stdout",
     "output_type": "stream",
     "text": [
      "\r",
      "1/1 [=========================>....] - ETA: 0s - train loss: 3.6114"
     ]
    },
    {
     "name": "stderr",
     "output_type": "stream",
     "text": [
      "- dev acc 59.09 - f1 45.16\n",
      "- new best score!\n",
      "Epoch 20 out of 50\n"
     ]
    },
    {
     "name": "stdout",
     "output_type": "stream",
     "text": [
      "\r",
      "1/1 [=========================>....] - ETA: 0s - train loss: 3.6272"
     ]
    },
    {
     "name": "stderr",
     "output_type": "stream",
     "text": [
      "- dev acc 59.09 - f1 45.16\n",
      "- new best score!\n",
      "Epoch 21 out of 50\n"
     ]
    },
    {
     "name": "stdout",
     "output_type": "stream",
     "text": [
      "\r",
      "1/1 [=========================>....] - ETA: 0s - train loss: 3.4654"
     ]
    },
    {
     "name": "stderr",
     "output_type": "stream",
     "text": [
      "- dev acc 59.09 - f1 45.16\n",
      "- new best score!\n",
      "Epoch 22 out of 50\n"
     ]
    },
    {
     "name": "stdout",
     "output_type": "stream",
     "text": [
      "\r",
      "1/1 [=========================>....] - ETA: 0s - train loss: 3.4716"
     ]
    },
    {
     "name": "stderr",
     "output_type": "stream",
     "text": [
      "- dev acc 59.09 - f1 45.16\n",
      "- new best score!\n",
      "Epoch 23 out of 50\n"
     ]
    },
    {
     "name": "stdout",
     "output_type": "stream",
     "text": [
      "\r",
      "1/1 [=========================>....] - ETA: 0s - train loss: 3.5244"
     ]
    },
    {
     "name": "stderr",
     "output_type": "stream",
     "text": [
      "- dev acc 59.09 - f1 45.16\n",
      "- new best score!\n",
      "Epoch 24 out of 50\n"
     ]
    },
    {
     "name": "stdout",
     "output_type": "stream",
     "text": [
      "\r",
      "1/1 [=========================>....] - ETA: 0s - train loss: 3.4694"
     ]
    },
    {
     "name": "stderr",
     "output_type": "stream",
     "text": [
      "- dev acc 59.09 - f1 45.16\n",
      "- new best score!\n",
      "Epoch 25 out of 50\n"
     ]
    },
    {
     "name": "stdout",
     "output_type": "stream",
     "text": [
      "\r",
      "1/1 [=========================>....] - ETA: 0s - train loss: 3.3903"
     ]
    },
    {
     "name": "stderr",
     "output_type": "stream",
     "text": [
      "- dev acc 59.09 - f1 45.16\n",
      "- new best score!\n",
      "Epoch 26 out of 50\n"
     ]
    },
    {
     "name": "stdout",
     "output_type": "stream",
     "text": [
      "\r",
      "1/1 [=========================>....] - ETA: 0s - train loss: 3.4251"
     ]
    },
    {
     "name": "stderr",
     "output_type": "stream",
     "text": [
      "- dev acc 59.09 - f1 45.16\n",
      "- new best score!\n",
      "Epoch 27 out of 50\n"
     ]
    },
    {
     "name": "stdout",
     "output_type": "stream",
     "text": [
      "\r",
      "1/1 [=========================>....] - ETA: 0s - train loss: 3.3494"
     ]
    },
    {
     "name": "stderr",
     "output_type": "stream",
     "text": [
      "- dev acc 59.09 - f1 45.16\n",
      "- new best score!\n",
      "Epoch 28 out of 50\n"
     ]
    },
    {
     "name": "stdout",
     "output_type": "stream",
     "text": [
      "\r",
      "1/1 [=========================>....] - ETA: 0s - train loss: 3.3782"
     ]
    },
    {
     "name": "stderr",
     "output_type": "stream",
     "text": [
      "- dev acc 59.09 - f1 45.16\n",
      "- new best score!\n",
      "Epoch 29 out of 50\n"
     ]
    },
    {
     "name": "stdout",
     "output_type": "stream",
     "text": [
      "\r",
      "1/1 [=========================>....] - ETA: 0s - train loss: 3.3691"
     ]
    },
    {
     "name": "stderr",
     "output_type": "stream",
     "text": [
      "- dev acc 59.09 - f1 45.16\n",
      "- new best score!\n",
      "Epoch 30 out of 50\n"
     ]
    },
    {
     "name": "stdout",
     "output_type": "stream",
     "text": [
      "\r",
      "1/1 [=========================>....] - ETA: 0s - train loss: 3.3647"
     ]
    },
    {
     "name": "stderr",
     "output_type": "stream",
     "text": [
      "- dev acc 59.09 - f1 45.16\n",
      "- new best score!\n",
      "Epoch 31 out of 50\n"
     ]
    },
    {
     "name": "stdout",
     "output_type": "stream",
     "text": [
      "\r",
      "1/1 [=========================>....] - ETA: 0s - train loss: 3.3004"
     ]
    },
    {
     "name": "stderr",
     "output_type": "stream",
     "text": [
      "- dev acc 59.09 - f1 45.16\n",
      "- new best score!\n",
      "Epoch 32 out of 50\n"
     ]
    },
    {
     "name": "stdout",
     "output_type": "stream",
     "text": [
      "\r",
      "1/1 [=========================>....] - ETA: 0s - train loss: 3.4070"
     ]
    },
    {
     "name": "stderr",
     "output_type": "stream",
     "text": [
      "- dev acc 59.09 - f1 40.00\n",
      "Epoch 33 out of 50\n"
     ]
    },
    {
     "name": "stdout",
     "output_type": "stream",
     "text": [
      "\r",
      "1/1 [=========================>....] - ETA: 0s - train loss: 3.3364"
     ]
    },
    {
     "name": "stderr",
     "output_type": "stream",
     "text": [
      "- dev acc 59.09 - f1 40.00\n",
      "Epoch 34 out of 50\n"
     ]
    },
    {
     "name": "stdout",
     "output_type": "stream",
     "text": [
      "\r",
      "1/1 [=========================>....] - ETA: 0s - train loss: 3.2395"
     ]
    },
    {
     "name": "stderr",
     "output_type": "stream",
     "text": [
      "- dev acc 59.09 - f1 40.00\n",
      "- early stopping 3 epochs without improvement\n",
      "Testing model over test set\n"
     ]
    },
    {
     "name": "stdout",
     "output_type": "stream",
     "text": [
      "INFO:tensorflow:Restoring parameters from results/crf/model.weights/\n"
     ]
    },
    {
     "name": "stderr",
     "output_type": "stream",
     "text": [
      "Restoring parameters from results/crf/model.weights/\n",
      "- test acc 59.09 - f1 45.16\n"
     ]
    }
   ],
   "source": [
    "# (8) 위에서 저장한 파일들을 로드\n",
    "embeddings = data_utils.get_trimmed_glove_vectors(config.trimmed_filename)\n",
    "char_embedding = data_utils.get_trimmed_glove_vectors(config.charembed_filename)\n",
    "vocab_words = data_utils.load_vocab(config.words_filename)\n",
    "vocab_tags = data_utils.load_vocab(config.tags_filename)\n",
    "vocab_chars = data_utils.load_vocab(config.chars_filename)\n",
    "\n",
    "# (9) 데이터 필터링 작업을 위한 Method \n",
    "processing_word = data_utils.get_processing_word(vocab_words,\n",
    "                                                 vocab_chars,\n",
    "                                                 lowercase=config.lowercase,\n",
    "                                                 chars=config.chars)\n",
    "processing_tag = data_utils.get_processing_word(vocab_tags,\n",
    "                                                lowercase=False)\n",
    "\n",
    "# 최종적으로 훈련에 사용하는 데이터 객체 (Iterator)\n",
    "dev = CoNLLDataset(config.dev_filename, processing_word, processing_tag, config.max_iter)\n",
    "test = CoNLLDataset(config.test_filename, processing_word, processing_tag, config.max_iter)\n",
    "train = CoNLLDataset(config.train_filename, processing_word, processing_tag, config.max_iter)\n",
    "\n",
    "# build model\n",
    "model = NERModel(config, embeddings, ntags=len(vocab_tags),nchars=len(vocab_chars), logger=None, char_embed=char_embedding)\n",
    "model.build()\n",
    "model.train(train, dev, vocab_tags)\n",
    "model.evaluate(test, vocab_tags)\n"
   ]
  },
  {
   "cell_type": "markdown",
   "metadata": {},
   "source": [
    "# Prediction Test"
   ]
  },
  {
   "cell_type": "code",
   "execution_count": 4,
   "metadata": {
    "collapsed": false
   },
   "outputs": [
    {
     "name": "stdout",
     "output_type": "stream",
     "text": [
      "INFO:tensorflow:Restoring parameters from results/crf/model.weights/\n"
     ]
    },
    {
     "name": "stderr",
     "output_type": "stream",
     "text": [
      "Restoring parameters from results/crf/model.weights/\n"
     ]
    },
    {
     "name": "stdout",
     "output_type": "stream",
     "text": [
      "['김승우', '이메일', '검색']\n",
      "['B-PERSON', 'B-TARGET', 'B-TARGET']\n",
      "INFO:tensorflow:Restoring parameters from results/crf/model.weights/\n"
     ]
    },
    {
     "name": "stderr",
     "output_type": "stream",
     "text": [
      "Restoring parameters from results/crf/model.weights/\n"
     ]
    },
    {
     "name": "stdout",
     "output_type": "stream",
     "text": [
      "['김승우', '전화', '걸어줘']\n",
      "['B-PERSON', 'O', 'B-TARGET']\n",
      "INFO:tensorflow:Restoring parameters from results/crf/model.weights/\n"
     ]
    },
    {
     "name": "stderr",
     "output_type": "stream",
     "text": [
      "Restoring parameters from results/crf/model.weights/\n"
     ]
    },
    {
     "name": "stdout",
     "output_type": "stream",
     "text": [
      "['김승우', '이미지', '검색']\n",
      "['B-PERSON', 'B-TARGET', 'B-TARGET']\n",
      "INFO:tensorflow:Restoring parameters from results/crf/model.weights/\n"
     ]
    },
    {
     "name": "stderr",
     "output_type": "stream",
     "text": [
      "Restoring parameters from results/crf/model.weights/\n"
     ]
    },
    {
     "name": "stdout",
     "output_type": "stream",
     "text": [
      "['김승우', '검색', '이미지']\n",
      "['B-PERSON', 'O', 'B-TARGET']\n",
      "INFO:tensorflow:Restoring parameters from results/crf/model.weights/\n"
     ]
    },
    {
     "name": "stderr",
     "output_type": "stream",
     "text": [
      "Restoring parameters from results/crf/model.weights/\n"
     ]
    },
    {
     "name": "stdout",
     "output_type": "stream",
     "text": [
      "['김승우', '걸어줘', '전화']\n",
      "['B-PERSON', 'O', 'B-TARGET']\n"
     ]
    }
   ],
   "source": [
    "model.predict(vocab_tags, processing_word, \"김승우 이메일 검색\")\n",
    "model.predict(vocab_tags, processing_word, \"김승우 전화 걸어줘\")\n",
    "model.predict(vocab_tags, processing_word, \"김승우 이미지 검색\")\n",
    "model.predict(vocab_tags, processing_word, \"김승우 검색 이미지\")\n",
    "model.predict(vocab_tags, processing_word, \"김승우 걸어줘 전화\")"
   ]
  },
  {
   "cell_type": "code",
   "execution_count": null,
   "metadata": {
    "collapsed": true
   },
   "outputs": [],
   "source": []
  }
 ],
 "metadata": {
  "anaconda-cloud": {},
  "kernelspec": {
   "display_name": "Python [conda root]",
   "language": "python",
   "name": "conda-root-py"
  },
  "language_info": {
   "codemirror_mode": {
    "name": "ipython",
    "version": 3
   },
   "file_extension": ".py",
   "mimetype": "text/x-python",
   "name": "python",
   "nbconvert_exporter": "python",
   "pygments_lexer": "ipython3",
   "version": "3.5.2"
  }
 },
 "nbformat": 4,
 "nbformat_minor": 1
}
