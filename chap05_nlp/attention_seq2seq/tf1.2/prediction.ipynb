{
 "cells": [
  {
   "cell_type": "code",
   "execution_count": 1,
   "metadata": {
    "collapsed": true
   },
   "outputs": [],
   "source": [
    "import tensorflow as tf\n",
    "import numpy as np\n",
    "import time\n",
    "import math\n",
    "import os\n",
    "import sys\n",
    "\n",
    "from lib import data_utils, model_utils\n",
    "from configs import model_config"
   ]
  },
  {
   "cell_type": "code",
   "execution_count": 2,
   "metadata": {
    "collapsed": true
   },
   "outputs": [],
   "source": [
    "def main():\n",
    "\tconfig = model_config.Config()\n",
    "\twith tf.Session() as sess:\n",
    "\t\tforward_only = True\n",
    "\n",
    "\t\tvocab_path = os.path.join(config.data_dir, 'vocab%d.in' % config.input_vocab_size)\n",
    "\n",
    "\t\t# Load data\n",
    "\t\tvocab, vocab_rev = data_utils.load_vocabulary(vocab_path)\n",
    "\n",
    "\t\tconfig.batch_size = 1\n",
    "\t\tmodel = model_utils.create_model(sess, config, forward_only)\n",
    "\n",
    "\n",
    "\t\tvalid_data_path = os.path.join(config.data_dir, 'chat_valid_ids%d.in'% config.input_vocab_size)\n",
    "\t\tdev_set = data_utils.read_test_data_chat(valid_data_path, config)[:2]\n",
    "\t\tbucket_id = 0\n",
    "\n",
    "\t\tfor i in range(len(dev_set[0])):\n",
    "\t\t\tdev_inputs, dev_inputs_length, dev_outputs, dev_outputs_length, target_weights = (\n",
    "\t\t\tdata_utils.get_test_line(dev_set[bucket_id], i))\n",
    "\n",
    "\t\t\tpredicted  = model.step(sess, dev_inputs, dev_inputs_length,\n",
    "\t\t\t\t\t\t\t\t\tdev_outputs, dev_outputs_length, target_weights,forward_only)\n",
    "\n",
    "\t\t\tprint(\"\\nPrediction Results in Iteration %d : \" % i)\n",
    "\n",
    "\t\t\ts = \"\"\n",
    "\t\t\tfor input in dev_inputs[0]:\n",
    "\t\t\t\ts += (vocab_rev[input]) + \" \"\n",
    "\t\t\tprint (s)\n",
    "\n",
    "\t\t\ts = \"\"\n",
    "\t\t\tfor output in dev_outputs[0]:\n",
    "\t\t\t\ts += (vocab_rev[output]) + \" \"\n",
    "\t\t\tprint (s)\n",
    "\n",
    "\t\t\ts = \"\"\n",
    "\t\t\tfor i in predicted[0][0]:\n",
    "\t\t\t\ts += (vocab_rev[i]) + \" \"\n",
    "\t\t\tprint (s)"
   ]
  },
  {
   "cell_type": "code",
   "execution_count": 3,
   "metadata": {
    "collapsed": false
   },
   "outputs": [
    {
     "name": "stdout",
     "output_type": "stream",
     "text": [
      "Reading model parameters from ./nn_models/model.ckpt-109500\n",
      "INFO:tensorflow:Restoring parameters from ./nn_models/model.ckpt-109500\n",
      "3 24 119 27 974 9 3 3 17 4016 7885 47 420 88 3853 3 953 3 61 42 10 3 4 196 4\n",
      " 70 6 8 152 24 5 79 324 45 3 6 56 16 5 13 123 45 7 4\n",
      "\n",
      "\n",
      "Prediction Results in Iteration 0 : \n",
      "_UNK we make this quick ? _UNK _UNK and andrew barrett are having an incredibly _UNK public _UNK up on the _UNK . again . \n",
      "_GO well , i thought we ' d start with _UNK , if that ' s okay with you . \n",
      "_GO what what what what what what what what what what what what what what what what what what what what what what what what what what what what what what what what what what what what what what what what what what what what what what what what what what what what what what what what what what what what what what what what what what what what what what what what what what what what what what what what what what what what what what what what what what what what what what what what what what what what what what what what what what what what what what what what what what what what what what what what what what what what what what what what what what what what what what what what what what what what what what what what what what what what what what what what what what what what what what what what what what what what what what what what what what what what what what what what what what what what what what what what what what what what what what what what what what what what what what what what what what what what what what what what what what what what what what what what what what what what what what what what what what what what what what what what what what what what what what what what what what what what what what what what what what what what what what what what what what what what what what what what what what what what what what what what what what what what what what what what what what what what what what what what what what what what what what what what what what what what what what what what what what what what what what what what what what what what what what what what what what what what what what what what what what what what what what what what what what what what what what what what what what what what what what what what what what what what what what what what what what what what what what what what what what what what what what what what what what what what what what what what what what what what what what what what what what what what what what what what what what what what what what what what what what what what what what what what what what what what what what what what what \n",
      "\n",
      "Prediction Results in Iteration 1 : \n",
      "well , i thought we ' d start with _UNK , if that ' s okay with you . \n",
      "_GO not the _UNK and _UNK and _UNK part . please . \n",
      "_GO not went let leave there hard to don don us kill she it it it it it it it it it it it it it it it it it it it it it it it it it it it yeah let yeah ? ? ? ? ? ? ? ? ? ? ? ? ? ? ? ? ? ? ? ? ? ? ? ? ? ? ? ? ? ? ? ? ? ? ? ? ? ? ? ? ? ? ? ? ? ? ? ? ? ? ? ? ? ? ? ? ? ? ? ? ? ? ? ? ? ? ? ? ? ? ? ? ? ? ? ? ? ? ? ? ? ? ? ? ? ? ? ? ? ? ? ? ? ? ? ? ? ? ? ? ? ? ? ? ? ? ? ? come come ? ? ? ? ? ? ? ? ? ? ? ? ? ? ? ? ? ? ? ? ? ? ? ? ? ? ? ? ? ? ? ? ? ? ? ? ? ? ? ? ? ? ? ? ? ? ? ? ? ? ? ? ? ? ? ? ? ? ? ? ? ? ? ? ? ? ? ? ? ? ? ? ? ? ? ? ? ? ? ? ? ? ? ? ? ? ? ? ? ? ? ? ? ? ? ? ? ? ? ? ? ? ? ? ? ? ? ? ? ? ? ? ? ? ? ? ? ? ? ? ? ? ? ? ? ? ? ? ? ? ? ? ? ? ? ? ? ? ? ? ? ? ? ? ? ? ? ? ? ? ? ? ? ? ? ? ? ? ? ? ? ? ? ? ? ? ? ? ? ? ? ? ? ? ? ? ? ? ? ? ? ? ? ? ? ? ? ? ? ? ? ? ? ? ? ? ? ? ? ? ? ? ? ? ? ? ? ? ? ? ? ? ? ? ? ? ? ? ? ? ? ? ? ? ? ? ? ? ? ? ? ? ? ? ? ? ? ? ? ? ? ? ? ? ? ? ? ? ? ? ? ? ? ? ? ? ? ? ? ? ? ? ? ? ? ? ? ? ? ? ? ? ? \n",
      "\n",
      "Prediction Results in Iteration 2 : \n",
      "not the _UNK and _UNK and _UNK part . please . \n",
      "_GO okay . . . then how ' _UNK we try out some _UNK _UNK . _UNK ? night ? \n",
      "_GO just haven thing i i i i i i i i i i i i i i i i i i i i i i i i i i i i i i i live miss i live found made need are how about about about about last why why why why far idea on on ' ' ' ' ' ' ' ' ' ' ' ' ' ' ' ' ' ' ' ' ' ' ' ' ' ' ' ' ' ' ' ' ' ' ' -- -- -- -- -- -- -- -- -- -- -- -- -- -- -- him him life do do been back in in back in in in in in in in back \" us \" to to to to to to to to to to to to to to to to to to to do do a can can do think can think do do do call \" can a listen out only the pay after here come baby feel big doing even don us both him him man him him say than if ! ! ! ! like d done talk again -- -- -- -- -- -- -- -- -- -- -- -- -- -- -- -- -- -- -- -- -- -- -- -- -- -- -- -- -- -- -- wouldn thought -- him him say him him him him him him him him remember say no don why why why why why why why why why why why why why why why why why why why why why ' ' ' ' ' ' ' ' ' about how new for ' of of -- die too die a do do do him him him remember him watch to to to to to to to know know know to to to to to to to to to to to know to to to us to to to to to to to to to to to to to to to to to to to to to to to to to to to to to to to to to to to to him than like like like like like like like like like like like like like like like he ! ! ! ! ! ! ! ! ! ! ! ! ! ! ! ! ! like than for for d of ' ' ' ' ' ' ' ' ' ' ' ' ' ' ' ' ' ' ' ' ' ' ' ' ' ' ' \n",
      "\n",
      "Prediction Results in Iteration 3 : \n",
      "you ' re asking me out . that ' s so cute . what ' s your name again ? \n",
      "_GO forget it . \n",
      "_GO what what what what what what what what what what what what what what what what what what what what what what what what what what what what what what what what what what what what what what what what what what what what what what what what what what what what what what what what what what what what what what what what what what what what what what what what what what what what what what what what what what what what what what what what what what what what what what what what what what what what what _UNK _UNK _UNK _UNK _UNK _UNK _UNK _UNK _UNK _UNK _UNK _UNK _UNK _UNK _UNK _UNK _UNK _UNK _UNK _UNK _UNK _UNK _UNK _UNK _UNK _UNK _UNK _UNK _UNK _UNK _UNK _UNK _UNK _UNK _UNK _UNK _UNK _UNK _UNK _UNK _UNK _UNK _UNK _UNK _UNK _UNK _UNK _UNK _UNK _UNK _UNK _UNK _UNK _UNK _UNK _UNK _UNK _UNK _UNK _UNK _UNK _UNK _UNK _UNK _UNK _UNK _UNK _UNK _UNK _UNK _UNK _UNK _UNK _UNK _UNK _UNK _UNK _UNK _UNK _UNK _UNK _UNK _UNK _UNK _UNK _UNK _UNK _UNK _UNK _UNK _UNK _UNK _UNK _UNK _UNK _UNK _UNK _UNK _UNK _UNK _UNK _UNK _UNK _UNK _UNK _UNK _UNK _UNK _UNK _UNK _UNK _UNK _UNK _UNK _UNK _UNK _UNK _UNK _UNK _UNK _UNK _UNK _UNK _UNK _UNK _UNK _UNK _UNK _UNK _UNK _UNK _UNK _UNK _UNK _UNK _UNK _UNK _UNK _UNK _UNK _UNK _UNK _UNK _UNK _UNK _UNK _UNK _UNK _UNK _UNK _UNK _UNK _UNK _UNK _UNK _UNK _UNK _UNK _UNK _UNK _UNK _UNK _UNK _UNK _UNK _UNK _UNK _UNK _UNK _UNK _UNK _UNK _UNK _UNK _UNK _UNK _UNK _UNK _UNK _UNK _UNK _UNK _UNK _UNK _UNK _UNK _UNK _UNK _UNK _UNK _UNK _UNK _UNK _UNK _UNK _UNK _UNK _UNK _UNK _UNK _UNK _UNK _UNK _UNK _UNK _UNK _UNK _UNK _UNK _UNK _UNK _UNK _UNK _UNK _UNK _UNK _UNK _UNK _UNK _UNK _UNK _UNK _UNK _UNK _UNK _UNK _UNK _UNK _UNK _UNK _UNK _UNK _UNK _UNK _UNK _UNK _UNK _UNK _UNK _UNK _UNK _UNK _UNK _UNK _UNK _UNK _UNK _UNK _UNK _UNK _UNK _UNK _UNK _UNK _UNK _UNK _UNK _UNK _UNK _UNK _UNK _UNK _UNK _UNK _UNK _UNK _UNK _UNK _UNK _UNK _UNK _UNK _UNK _UNK _UNK _UNK _UNK _UNK _UNK _UNK _UNK _UNK _UNK _UNK _UNK _UNK _UNK _UNK _UNK _UNK _UNK _UNK _UNK _UNK _UNK _UNK _UNK _UNK _UNK _UNK _UNK _UNK _UNK _UNK _UNK _UNK _UNK _UNK _UNK _UNK _UNK _UNK _UNK _UNK _UNK _UNK _UNK _UNK _UNK _UNK _UNK _UNK _UNK _UNK \n",
      "\n",
      "Prediction Results in Iteration 4 : \n",
      "no , no , it ' s my fault -- we didn ' t have a proper _UNK --- \n",
      "_GO _UNK . \n",
      "_GO but well well in in in in in always down other other other make make make make this does me me me me me been been all all all all think all all all think been back think to to to to to to to to to to to to to to to to to to to to to to to to to to to to to to to who to to to to to to to to who who who who to to to to to to to and and and nice think turn nice been been been been think forget gave want somebody thanks -- -- -- -- -- -- -- -- -- -- want -- man d d done kind ! ! ! ! ! ! ! ! ! ! ! ! ! ! ! ! ! ! ! ! ! ! ! ! ! ! ! ! ! ! ! ! ! ! ! ! ! ! mean he he he re word like aren job hard baby big probably not other make - this wasn : this this - - - - your your your your your your your your your your your your your your your your your your your your your your your your your your your your your your your your your your your your your your your your this does deal called three three three anyway anyway anyway anyway knew knew like like like like re re re re s see see i uh see see s s s s s s s s s s s s s s s s s s s s s s s s s s s s s s s s s s s s s s s s s s s s s , , , , , , , , , , , , , , , , , , , hell i i i i i i i i i i . . . . . . . . . . . . . . . . . . . . . . . . . . . . . . . . . . . . . . . . . . . . . . . . . . . . . . . . . . . . . . . . . . . . . . . . . . . . . . . . . . . . . . . . . . . . . . . \n"
     ]
    }
   ],
   "source": [
    "main()"
   ]
  },
  {
   "cell_type": "code",
   "execution_count": null,
   "metadata": {
    "collapsed": true
   },
   "outputs": [],
   "source": [
    ""
   ]
  }
 ],
 "metadata": {
  "anaconda-cloud": {},
  "kernelspec": {
   "display_name": "Python [default]",
   "language": "python",
   "name": "python3"
  },
  "language_info": {
   "codemirror_mode": {
    "name": "ipython",
    "version": 3.0
   },
   "file_extension": ".py",
   "mimetype": "text/x-python",
   "name": "python",
   "nbconvert_exporter": "python",
   "pygments_lexer": "ipython3",
   "version": "3.5.2"
  }
 },
 "nbformat": 4,
 "nbformat_minor": 0
}