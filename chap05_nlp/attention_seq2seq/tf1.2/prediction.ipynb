{
 "cells": [
  {
   "cell_type": "code",
   "execution_count": 3,
   "metadata": {
    "collapsed": true
   },
   "outputs": [],
   "source": [
    "import tensorflow as tf\n",
    "import numpy as np\n",
    "import time\n",
    "import math\n",
    "import os\n",
    "import sys\n",
    "\n",
    "from lib import data_utils, model_utils\n",
    "from configs import model_config\n"
   ]
  },
  {
   "cell_type": "code",
   "execution_count": 4,
   "metadata": {
    "collapsed": true
   },
   "outputs": [],
   "source": [
    "        \n",
    "    \n",
    "def main():\n",
    "\tconfig = model_config.Config()\n",
    "\twith tf.Session() as sess:\n",
    "\t\tforward_only = True\n",
    "\n",
    "\t\tvocab_path = os.path.join(config.data_dir, 'vocab%d.in' % config.input_vocab_size)\n",
    "\n",
    "\t\t# Load data\n",
    "\t\tvocab, vocab_rev = data_utils.load_vocabulary(vocab_path)\n",
    "\n",
    "\t\tconfig.batch_size = 1\n",
    "\t\tmodel = model_utils.create_model(sess, config, forward_only)\n",
    "\n",
    "\n",
    "\t\tvalid_data_path = os.path.join(config.data_dir, 'chat_valid_ids%d.in'% config.input_vocab_size)\n",
    "\t\tdev_set = data_utils.read_test_data_chat(valid_data_path, config)[:2]\n",
    "\t\tbucket_id = 0\n",
    "\n",
    "\t\tfor i in range(len(dev_set[0])):\n",
    "\t\t\tdev_inputs, dev_inputs_length, dev_outputs, dev_outputs_length, target_weights = (\n",
    "\t\t\tdata_utils.get_test_line(dev_set[bucket_id], i))\n",
    "\n",
    "\t\t\tpredicted  = model.step(sess, dev_inputs, dev_inputs_length,\n",
    "\t\t\t\t\t\t\t\t\tdev_outputs, dev_outputs_length, target_weights,forward_only)\n",
    "\n",
    "\t\t\tprint(\"\\nPrediction Results in Iteration %d : \" % i)\n",
    "\n",
    "\t\t\ts = \"\"\n",
    "\t\t\tfor input in dev_inputs[0]:\n",
    "\t\t\t\ts += (vocab_rev[input]) + \" \"\n",
    "\t\t\tprint (s)\n",
    "\n",
    "\t\t\ts = \"\"\n",
    "\t\t\tfor output in dev_outputs[0]:\n",
    "\t\t\t\ts += (vocab_rev[output]) + \" \"\n",
    "\t\t\tprint (s)\n",
    "\n",
    "\t\t\ts = \"\"\n",
    "\t\t\tfor i in predicted[0][0]:\n",
    "\t\t\t\ts += (vocab_rev[i]) + \" \"\n",
    "\t\t\tprint (s)\n"
   ]
  },
  {
   "cell_type": "code",
   "execution_count": 5,
   "metadata": {
    "collapsed": false
   },
   "outputs": [
    {
     "name": "stdout",
     "output_type": "stream",
     "text": [
      "Reading model parameters from ./nn_models/model.ckpt-800\n",
      "INFO:tensorflow:Restoring parameters from ./nn_models/model.ckpt-800\n",
      "3 24 119 27 974 9 3 3 17 4016 7885 47 420 88 3853 3 953 3 61 42 10 3 4 196 4\n",
      " 70 6 8 152 24 5 79 324 45 3 6 56 16 5 13 123 45 7 4\n",
      "\n",
      "\n",
      "Prediction Results in Iteration 0 : \n",
      "_UNK we make this quick ? _UNK _UNK and andrew barrett are having an incredibly _UNK public _UNK up on the _UNK . again . \n",
      "_GO well , i thought we ' d start with _UNK , if that ' s okay with you . \n",
      "' sure ? than . do ya head right ya actually right dad . ya another ? . ? ? car that ' world that . actually right ? . right that . right . right doesn that dad another . ? _UNK . help _UNK ? ya that . right _UNK ' world again that . has _UNK . him that . than that that ? has problem _UNK . yes . no _UNK . _UNK _UNK . _UNK ? . do ? ? ? _UNK . _UNK . right _GO off sir right problem another ? . ya doesn car . ? ? get another he while _GO while before see him that before _GO that . than that . than that . that ? ya doesn problem that ? ? that . that _GO yet that this right . right sir . actually ? ? . that doesn ? him help _UNK that _GO than world that ? right _UNK ? do ? that ' has _GO _GO has stuff right _UNK _UNK . that ? ? that . has . right _GO while has ? that ? ? ? baby _GO than has right going another dad . ? . that ? that this stuff . ? _UNK this that _GO an _UNK . he _UNK . _UNK _UNK has right _GO that . right him _GO _GO _GO _GO _GO _GO _GO _GO _GO _GO _GO him _GO him . sure _UNK . _UNK . _GO problem _UNK ? that . right right right nothing another too . ' him that ? another right ? that ? that from _UNK . fine that at ? right right ya stop before while another _GO that ? that ? still before . has ? going . right right ? another dad him while _UNK . that _UNK ? right that . that . this right . ya right ya doesn before another ? that . that _UNK . him ? . do ? that . that _GO _GO has ? . _GO that . hear still stuff back baby that right right that ? ? that dad has that ' _GO him has . . ? that dad that ? that ? another . right too ya do problem do ? that . ve right something _UNK another _GO while . . that . let ? ? right ? actually get _UNK . him him _GO _GO _GO him _GO that . _UNK . right that right problem right _GO another . _UNK \n",
      "\n",
      "Prediction Results in Iteration 1 : \n",
      "well , i thought we ' d start with _UNK , if that ' s okay with you . \n",
      "_GO not the _UNK and _UNK and _UNK part . please . \n",
      "right . right still right no problem that right . right right ? still this right right ya sir right ? _UNK ? right get that ? right ? say right still right problem that ' sir this . right right . that right ? ? right right that right right right this right right now right that right right this still right still right right doesn this this . still right . right that this right problem that ? that ? ? ? ? that right right right sir right right right sir that ? right right right right problem that ? . this still right doesn right _UNK this right this another right right doesn this right this right right this still right _UNK right . right right right still right still right right still right no this _UNK right still this _UNK another right still ' that right . right right still right right right this _UNK another this dead ? right ' right play dead this _UNK right this that right right this _UNK right right right . right right ' right that right that still right this . right doesn right doesn right sir that right right right right ya right problem that still . right . right right . right _UNK this . right right looking _UNK ? that right right right right still right right hear problem ? pretty ' right ? still right sir right right that right that right right over that right right this _UNK ? right right problem . that right problem right ' still dead right right . right right _UNK still this no right no problem that still right ' that right right ? that still right dead ? right ' ? right say doesn right this . right right this . right . right right this . right problem that right still right right problem right ' right right doesn right ? do ? ? that that right right right that ? right right ya doesn still right doesn right right problem _UNK ? . still right doesn right problem problem ? still right right ? pretty ' another that nothing ' right still right right right . right that right right _UNK right looking _UNK ? do ? . right right right still right _UNK another ? that this this right right problem that ? . right still right still right right . right no still _UNK ? . still right ? right doesn sir that dead right . that . \n",
      "\n",
      "Prediction Results in Iteration 2 : \n",
      "not the _UNK and _UNK and _UNK part . please . \n",
      "_GO okay . . . then how ' _UNK we try out some _UNK _UNK . _UNK ? night ? \n",
      "another ? ? ? that . right right ? _UNK . ? that ? too problem _UNK ' that ? that ? that ? that right hear nothing that still hear nothing that still that still hear isn . that ? still ? ? ? . . still hear still right that another right nothing that . that _UNK dead still still right still ? isn that ya that . . right that that right ? ? . that ? too ? that ? dead ? that still ya right nothing stuff another ? . right dead right . still ? still ya sir . that still right that another ? still ya do ? _UNK ? that ? too ? that ? . dead this that right that right that ? ? ? ? still right right right ya doesn that ? right that . hear . that . that still hear right that . right still ? ya that still right ya _UNK right do right that still ya that ? . right ? still right sir still right that . right right another doesn ? still right _UNK . still right ? ? too ? that still hear dead t that . . that still nothing that still right doesn right still ? dead isn nothing nothing that that dead ? . that still right looking that . ? ? ? ? ? that . . ? still still dead ? ? . ? that still ya that right ? still ? ? . right doesn that still ya men right play that still hear ya ain ? ? still ya that . right that still hear . ya ? ya get that still right ? ? _UNK dead ya that . ya nothing kids that still right ya _UNK right _UNK still this still this right right ya doesn right right doesn another ? ? sir ? right problem _UNK . still hear that . ve problem that . ? done that still right that that still dead ? that . right right still right ? still dead still right hear still right still hear _UNK that right ? that ? that still hear nothing that ? too ? that ? that still hear dead isn isn isn nothing isn that that dead this that . ? ? dead dead ? ? still this for ? . right _UNK right that still hear right ya ya that that dead isn nothing that still ya that that dead ya that right . _UNK \n",
      "\n",
      "Prediction Results in Iteration 3 : \n",
      "you ' re asking me out . that ' s so cute . what ' s your name again ? \n",
      "_GO forget it . \n",
      "ya doesn sir ? fuck dead still still ? ? play that ? right right ? that wait ya ya baby sir ? . sir right ? . sir still isn that . sir ? that this ? ? right right ? . another ? sir ? care _UNK wait that still sir still ? understand that ? that sir right problem problem that . sir ? sir ? that that whatever that ya play sir still still right ? that ? from ? ? . that right problem _UNK ? that from ya been sir ? wait that ? sir right problem . right ? that wait sir ? morning ? right right right right sir ? . right problem no problem ? ? that . m . that right dead ? ? that ? from ? ? that . that right that sir right ? problem ? ? that that . that still sir ? ? . that wait that still right right right ? dead another right right still right right sir ? ? . sir ? right right right sir ? from . that ' ? . that ? right still right ? from that still that ? ? wait ya ya too right right problem ? wait sir right that dead right nothing that ? ? ? ? dead sir right ? from too ? . right ? still right that ? ? . that still sir ? ? that from baby john that _UNK sir problem that still that ? ? right ? ? ? that from ya morning ? ? ? ? . right ? sir right right ? ? ' that from that ? . that right right ? ? ? ? . too ? that . that ? ? still right ? ? sir ? that ? . ? . right ? still right problem dead ? . ? ? wait that right too that . that before that wait that right right baby _UNK right right ' that wait sir ? ? that right _UNK ? . right ? . sir right right right problem ' sir right that wait that . sir ? . another right still right ? dad sir ? that ? ? . right that that ? from that that ya that right fuck _UNK . right something _UNK another right ya dead . that problem that . sir right ? that enough ? still right sir ? wait that sir ? that from that doesn another ? wait ya ya actually \n",
      "\n",
      "Prediction Results in Iteration 4 : \n",
      "no , no , it ' s my fault -- we didn ' t have a proper _UNK --- \n",
      "_GO _UNK . \n",
      "still sir that play that still that ? actually . has ? dead right actually ? ? that . that . that . that . that . that . that still has . has . has still right . that . too . that . that . _UNK sir this dead ? ' . . that . . that . that . has . that . that . that . that . that . has . right _GO sir ? ? _UNK that still _UNK . sir that play that . . that . that . has . that . that . that that . that . that . that . has sir right . . right . that . that . that . _UNK . ? dead t that . ? dead . that . that . ? ? that . that ' that ? baby ? . has ? dead ? ? still ? . hear . right right _GO ? . ? . has sir ? . that . that . that . has ? . that . that . that . . sir that ' that . ? . actually . sir ? ? sir ? sir that . has . right ? . that . that . that still that . ? dead t that right _UNK that ' sir ? ' ' that . that . . dead right that . that . ? . that . hear problem . . us right ? . has . dead ? that still that . that . ? . that . that . has . has ? ? . that still that still . sir ? dead . . right problem that still sir . that still _UNK . right problem ? sir ? ? . sir actually ? ? . dead ? . _UNK ? . this _UNK . ? ? . that . that . that . that . that . has . ? dead ? please ? ? . that . that . has . right ? _UNK . somebody . ain . . . somebody car sir that ? . that sir us . sir ? . ? . that . that ? that . that . baby . that . _UNK dead still . that . that still . . right problem sir that . that . that . has . that . that . that . has . ? ? . has keep . . sir . that . ? . too ? that . that \n"
     ]
    }
   ],
   "source": [
    "main()"
   ]
  },
  {
   "cell_type": "code",
   "execution_count": null,
   "metadata": {
    "collapsed": true
   },
   "outputs": [],
   "source": []
  },
  {
   "cell_type": "code",
   "execution_count": null,
   "metadata": {
    "collapsed": true
   },
   "outputs": [],
   "source": []
  },
  {
   "cell_type": "code",
   "execution_count": null,
   "metadata": {
    "collapsed": true
   },
   "outputs": [],
   "source": []
  }
 ],
 "metadata": {
  "kernelspec": {
   "display_name": "Python [default]",
   "language": "python",
   "name": "python3"
  },
  "language_info": {
   "codemirror_mode": {
    "name": "ipython",
    "version": 3
   },
   "file_extension": ".py",
   "mimetype": "text/x-python",
   "name": "python",
   "nbconvert_exporter": "python",
   "pygments_lexer": "ipython3",
   "version": "3.5.2"
  }
 },
 "nbformat": 4,
 "nbformat_minor": 2
}
