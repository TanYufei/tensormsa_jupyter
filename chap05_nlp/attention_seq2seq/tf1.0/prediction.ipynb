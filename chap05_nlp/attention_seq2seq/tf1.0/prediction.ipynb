{
 "cells": [
  {
   "cell_type": "code",
   "execution_count": 1,
   "metadata": {
    "collapsed": true
   },
   "outputs": [],
   "source": [
    "import tensorflow as tf\n",
    "import numpy as np\n",
    "import time\n",
    "import math\n",
    "import os\n",
    "import sys\n",
    "\n",
    "from lib import data_utils, model_utils\n",
    "from configs import model_config\n"
   ]
  },
  {
   "cell_type": "code",
   "execution_count": 2,
   "metadata": {
    "collapsed": true
   },
   "outputs": [],
   "source": [
    "        \n",
    "    \n",
    "def main():\n",
    "\tconfig = model_config.Config()\n",
    "\twith tf.Session() as sess:\n",
    "\t\tforward_only = True\n",
    "\n",
    "\t\tvocab_path = os.path.join(config.data_dir, 'vocab%d.in' % config.input_vocab_size)\n",
    "\n",
    "\t\t# Load data\n",
    "\t\tvocab, vocab_rev = data_utils.load_vocabulary(vocab_path)\n",
    "\n",
    "\t\tconfig.batch_size = 1\n",
    "\t\tmodel = model_utils.create_model(sess, config, forward_only)\n",
    "\n",
    "\n",
    "\t\tvalid_data_path = os.path.join(config.data_dir, 'chat_valid_ids%d.in'% config.input_vocab_size)\n",
    "\t\tdev_set = data_utils.read_test_data_chat(valid_data_path, config)[:2]\n",
    "\t\tbucket_id = 0\n",
    "\n",
    "\t\tfor i in range(len(dev_set[0])):\n",
    "\t\t\tdev_inputs, dev_inputs_length, dev_outputs, dev_outputs_length, target_weights = (\n",
    "\t\t\tdata_utils.get_test_line(dev_set[bucket_id], i))\n",
    "\n",
    "\t\t\t_, _, logits, predicted, enc_embedding, dec_embedding = model.step(sess, dev_inputs, dev_inputs_length,\n",
    "\t\t\t\t                                                        dev_outputs, dev_outputs_length, target_weights,forward_only)\n",
    "\n",
    "\t\t\tprint(\"\\nPrediction Results in Iteration %d : \" % i)\n",
    "\n",
    "\t\t\ts = \"\"\n",
    "\t\t\tfor input in dev_inputs:\n",
    "\t\t\t\ts += (vocab_rev[input[0]]) + \" \"\n",
    "\t\t\tprint (\"input :\" + s)\n",
    "\n",
    "\t\t\ts = \"\"\n",
    "\t\t\tfor output in dev_outputs:\n",
    "\t\t\t\ts += (vocab_rev[output[0]]) + \" \"\n",
    "\t\t\tprint (\"output : \" +s)\n",
    "\n",
    "\t\t\ts = \"\"\n",
    "\t\t\tfor i in predicted:\n",
    "\t\t\t\ts += (vocab_rev[i[0]]) + \" \"\n",
    "\t\t\tprint (\"prediction : \" + s)\n"
   ]
  },
  {
   "cell_type": "code",
   "execution_count": 3,
   "metadata": {},
   "outputs": [
    {
     "name": "stdout",
     "output_type": "stream",
     "text": [
      "Reading model parameters from ./nn_models/model.ckpt-9400\n",
      "[[]]\n",
      "3 24 119 27 974 9 3 3 17 4016 7885 47 420 88 3853 3 953 3 61 42 10 3 4 196 4\n",
      " 70 6 8 152 24 5 79 324 45 3 6 56 16 5 13 123 45 7 4\n",
      "\n",
      "\n",
      "Prediction Results in Iteration 0 : \n",
      "input :_UNK we make this quick ? _UNK _UNK and andrew barrett are having an incredibly _UNK public _UNK up on the _UNK . again . \n",
      "output : _GO well , i thought we ' d start with _UNK , if that ' s okay with you . \n",
      "prediction : _UNK _UNK _UNK _UNK _UNK _UNK _UNK _UNK _UNK _UNK _UNK _UNK _UNK _UNK _UNK _UNK \n",
      "\n",
      "Prediction Results in Iteration 1 : \n",
      "input :well , i thought we ' d start with _UNK , if that ' s okay with you . \n",
      "output : _GO not the _UNK and _UNK and _UNK part . please . \n",
      "prediction : i _UNK _UNK . . . . . . . . . . . . . \n",
      "\n",
      "Prediction Results in Iteration 2 : \n",
      "input :not the _UNK and _UNK and _UNK part . please . \n",
      "output : _GO okay . . . then how ' _UNK we try out some _UNK _UNK . _UNK ? night ? \n",
      "prediction : _UNK _UNK . . . . . . . . . . . . . . \n",
      "\n",
      "Prediction Results in Iteration 3 : \n",
      "input :you ' re asking me out . that ' s so cute . what ' s your name again ? \n",
      "output : _GO forget it . \n",
      "prediction : you ' re _UNK . . . . . . . . . . . . \n",
      "\n",
      "Prediction Results in Iteration 4 : \n",
      "input :no , no , it ' s my fault -- we didn ' t have a proper _UNK --- \n",
      "output : _GO _UNK . \n",
      "prediction : no _UNK , no , no , no , no , no , no , no \n"
     ]
    }
   ],
   "source": [
    "main()"
   ]
  },
  {
   "cell_type": "code",
   "execution_count": null,
   "metadata": {
    "collapsed": true
   },
   "outputs": [],
   "source": []
  },
  {
   "cell_type": "code",
   "execution_count": null,
   "metadata": {
    "collapsed": true
   },
   "outputs": [],
   "source": []
  },
  {
   "cell_type": "code",
   "execution_count": null,
   "metadata": {
    "collapsed": true
   },
   "outputs": [],
   "source": []
  }
 ],
 "metadata": {
  "kernelspec": {
   "display_name": "Python 3",
   "language": "python",
   "name": "python3"
  },
  "language_info": {
   "codemirror_mode": {
    "name": "ipython",
    "version": 3
   },
   "file_extension": ".py",
   "mimetype": "text/x-python",
   "name": "python",
   "nbconvert_exporter": "python",
   "pygments_lexer": "ipython3",
   "version": "3.6.1"
  }
 },
 "nbformat": 4,
 "nbformat_minor": 2
}
