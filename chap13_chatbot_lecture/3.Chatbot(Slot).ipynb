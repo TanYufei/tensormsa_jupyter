{
 "cells": [
  {
   "cell_type": "markdown",
   "metadata": {},
   "source": [
    "# 챗봇 만들기(Char+CNN / Bi-LSTM)"
   ]
  },
  {
   "cell_type": "code",
   "execution_count": 63,
   "metadata": {
    "collapsed": false
   },
   "outputs": [],
   "source": [
    "input_data = \"판교에 오늘 피자 주문해줘\" #채팅에서 입력\n",
    "output_data = \"\"\n",
    "#챗봇에서 서버와 주고받을 REST format \n",
    "request = {\n",
    "            \"intent_id\" : \"\",\n",
    "            \"input_data\":input_data, \n",
    "            \"request_type\" : \"text\",\n",
    "            \"story_slot_entity\" : {},\n",
    "            \"output_data\" : output_data\n",
    "          }\n"
   ]
  },
  {
   "cell_type": "markdown",
   "metadata": {},
   "source": [
    "# 기본 Data Set (DB)"
   ]
  },
  {
   "cell_type": "code",
   "execution_count": 64,
   "metadata": {
    "collapsed": true
   },
   "outputs": [],
   "source": [
    "voc_list = []\n",
    "\n",
    "intent_list = {\n",
    "    \"주문\" : [\"주문\",\"배달\"],\n",
    "    \"예약\" : [\"예약\",\"잡아줘\"],\n",
    "    \"정보\" : [\"정보\", \"알려\"]\n",
    "}\n",
    "\n",
    "ner_list = []\n",
    "\n",
    "story_slot_entity = {\"주문\": {\"메뉴\" : None, \"사이즈\" : None, \"음료\" : None},\n",
    "                     \"예약\": {\"장소\" : None, \"날짜\" : None},\n",
    "                     \"정보\": {\"대상\" : None}                    \n",
    "                    }\n",
    "menu_list = ['피자','햄버거','음료']"
   ]
  },
  {
   "cell_type": "markdown",
   "metadata": {},
   "source": [
    "# 형태소 분석"
   ]
  },
  {
   "cell_type": "code",
   "execution_count": 65,
   "metadata": {
    "collapsed": false
   },
   "outputs": [],
   "source": [
    "#형태소 분석 mecab사용\n",
    "from konlpy.tag import Mecab\n",
    "mecab = Mecab('/usr/local/lib/mecab/dic/mecab-ko-dic') #고유명사는 별도 NNP 등록\n",
    "preprocessed = mecab.pos(request.get('input_data'))"
   ]
  },
  {
   "cell_type": "code",
   "execution_count": 66,
   "metadata": {
    "collapsed": false
   },
   "outputs": [
    {
     "name": "stdout",
     "output_type": "stream",
     "text": [
      "[('판교', 'NNG'), ('에', 'JKB'), ('오늘', 'MAG'), ('피자', 'NNG'), ('주문', 'NNG'), ('해', 'XSV+EC'), ('줘', 'VX+EC')]\n"
     ]
    }
   ],
   "source": [
    "print (preprocessed)"
   ]
  },
  {
   "cell_type": "markdown",
   "metadata": {},
   "source": [
    "# Intent 도출"
   ]
  },
  {
   "cell_type": "code",
   "execution_count": 67,
   "metadata": {
    "collapsed": true
   },
   "outputs": [],
   "source": [
    "intent_id =\"주문\"\n",
    "slot_value = story_slot_entity.get(\"주문\")"
   ]
  },
  {
   "cell_type": "markdown",
   "metadata": {},
   "source": [
    "# NER 도출"
   ]
  },
  {
   "cell_type": "code",
   "execution_count": 68,
   "metadata": {
    "collapsed": true
   },
   "outputs": [],
   "source": [
    "B_loc = '판교'\n",
    "B_date = '오늘'\n",
    "B_menu = '피자'"
   ]
  },
  {
   "cell_type": "markdown",
   "metadata": {},
   "source": [
    "# Dictionary 기반 Slot 구성"
   ]
  },
  {
   "cell_type": "code",
   "execution_count": 69,
   "metadata": {
    "collapsed": false
   },
   "outputs": [],
   "source": [
    "for pos_tag in preprocessed:\n",
    "    if (pos_tag[1] in ['NNG', 'NNP','SL']): #명사, 영어만 사용\n",
    "        if pos_tag[0] in menu_list:\n",
    "            slot_value[\"메뉴\"] = pos_tag[0]"
   ]
  },
  {
   "cell_type": "code",
   "execution_count": 70,
   "metadata": {
    "collapsed": false
   },
   "outputs": [
    {
     "name": "stdout",
     "output_type": "stream",
     "text": [
      "{'사이즈': None, '메뉴': '피자', '음료': None}\n"
     ]
    }
   ],
   "source": [
    "print (story_slot_entity.get('주문'))"
   ]
  },
  {
   "cell_type": "markdown",
   "metadata": {},
   "source": [
    "# 빈 Slot 검색"
   ]
  },
  {
   "cell_type": "code",
   "execution_count": 71,
   "metadata": {
    "collapsed": false
   },
   "outputs": [
    {
     "name": "stdout",
     "output_type": "stream",
     "text": [
      "사이즈,음료,선택해주세요\n"
     ]
    }
   ],
   "source": [
    "\n",
    "if(None in slot_value.values()): #빈 Slot 출력\n",
    "    key_values = \"\"\n",
    "    for key in slot_value.keys():\n",
    "        if(slot_value[key] is None):\n",
    "            key_values = key_values + key + \",\"\n",
    "    output_data = key_values + '선택해주세요'\n",
    "            \n",
    "print (output_data)"
   ]
  },
  {
   "cell_type": "code",
   "execution_count": 72,
   "metadata": {
    "collapsed": true
   },
   "outputs": [],
   "source": [
    "response = {\n",
    "            \"intent_id\" : \"\",\n",
    "            \"input_data\":\"피자 주문 할께\", \n",
    "            \"request_type\" : \"text\",\n",
    "            \"story_slot_entity\" : {},\n",
    "            \"output_data\" : \"\"\n",
    "          }\n",
    "response[\"output_data\"]= output_data"
   ]
  },
  {
   "cell_type": "code",
   "execution_count": 73,
   "metadata": {
    "collapsed": false
   },
   "outputs": [
    {
     "name": "stdout",
     "output_type": "stream",
     "text": [
      "사이즈,음료,선택해주세요\n"
     ]
    }
   ],
   "source": [
    "print (response['output_data'])"
   ]
  },
  {
   "cell_type": "code",
   "execution_count": null,
   "metadata": {
    "collapsed": true
   },
   "outputs": [],
   "source": []
  }
 ],
 "metadata": {
  "anaconda-cloud": {},
  "kernelspec": {
   "display_name": "Python [conda root]",
   "language": "python",
   "name": "conda-root-py"
  },
  "language_info": {
   "codemirror_mode": {
    "name": "ipython",
    "version": 3
   },
   "file_extension": ".py",
   "mimetype": "text/x-python",
   "name": "python",
   "nbconvert_exporter": "python",
   "pygments_lexer": "ipython3",
   "version": "3.5.2"
  }
 },
 "nbformat": 4,
 "nbformat_minor": 1
}
