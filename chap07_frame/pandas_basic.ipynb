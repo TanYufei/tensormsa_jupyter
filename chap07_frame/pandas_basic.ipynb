{
 "cells": [
  {
   "cell_type": "code",
   "execution_count": 2,
   "metadata": {
    "collapsed": true
   },
   "outputs": [],
   "source": [
    "import pandas as pd\n",
    "import numpy as np\n",
    "import matplotlib.pyplot as plt"
   ]
  },
  {
   "cell_type": "markdown",
   "metadata": {},
   "source": [
    "# pandas 자료 구조 소개\n",
    "\n",
    " - pandas에 대해서 알아보려면 Series와 DataFrame, 이 두 가지 자료 구조에 익숙해져야 한다.\n",
    " - Series는 일련의 객체를 담을 수 있는 1차원 배열 같은 자료 구조 (어떤 NumPy 자료형이라도 담을 수 있다.) \n",
    " - Index와 Value로 구성되어 있음\n"
   ]
  },
  {
   "cell_type": "code",
   "execution_count": 7,
   "metadata": {
    "collapsed": false
   },
   "outputs": [],
   "source": [
    "s = pd.Series([3.0, 2, 1.0, 6.7, 8.1])"
   ]
  },
  {
   "cell_type": "code",
   "execution_count": 8,
   "metadata": {
    "collapsed": false
   },
   "outputs": [
    {
     "data": {
      "text/plain": [
       "RangeIndex(start=0, stop=5, step=1)"
      ]
     },
     "execution_count": 8,
     "metadata": {},
     "output_type": "execute_result"
    }
   ],
   "source": [
    "s.index"
   ]
  },
  {
   "cell_type": "code",
   "execution_count": 9,
   "metadata": {
    "collapsed": false
   },
   "outputs": [
    {
     "data": {
      "text/plain": [
       "array([ 3. ,  2. ,  1. ,  6.7,  8.1])"
      ]
     },
     "execution_count": 9,
     "metadata": {},
     "output_type": "execute_result"
    }
   ],
   "source": [
    "s.values"
   ]
  },
  {
   "cell_type": "code",
   "execution_count": 11,
   "metadata": {
    "collapsed": false
   },
   "outputs": [
    {
     "name": "stdout",
     "output_type": "stream",
     "text": [
      "0    3.0\n",
      "1    2.0\n",
      "2    1.0\n",
      "3    6.7\n",
      "4    8.1\n",
      "dtype: float64\n",
      "float64\n",
      "2\n",
      "3.0\n",
      "6.7\n"
     ]
    }
   ],
   "source": [
    "print (s)\n",
    "print (s.dtype)\n",
    "print (s.index[2])\n",
    "print (s[0])\n",
    "print (s[3])"
   ]
  },
  {
   "cell_type": "code",
   "execution_count": 13,
   "metadata": {
    "collapsed": false
   },
   "outputs": [],
   "source": [
    "s_mu = pd.Series([4, 7, -5, 3], index=['d', 'b', 'a', 'c'])"
   ]
  },
  {
   "cell_type": "code",
   "execution_count": 14,
   "metadata": {
    "collapsed": false
   },
   "outputs": [
    {
     "data": {
      "text/plain": [
       "d    4\n",
       "b    7\n",
       "a   -5\n",
       "c    3\n",
       "dtype: int64"
      ]
     },
     "execution_count": 14,
     "metadata": {},
     "output_type": "execute_result"
    }
   ],
   "source": [
    "s_mu"
   ]
  },
  {
   "cell_type": "code",
   "execution_count": 19,
   "metadata": {
    "collapsed": false
   },
   "outputs": [
    {
     "data": {
      "text/plain": [
       "-5"
      ]
     },
     "execution_count": 19,
     "metadata": {},
     "output_type": "execute_result"
    }
   ],
   "source": [
    "s_mu['a']"
   ]
  },
  {
   "cell_type": "code",
   "execution_count": 20,
   "metadata": {
    "collapsed": true
   },
   "outputs": [],
   "source": [
    "s = s.astype(np.int)"
   ]
  },
  {
   "cell_type": "code",
   "execution_count": 22,
   "metadata": {
    "collapsed": false
   },
   "outputs": [
    {
     "name": "stdout",
     "output_type": "stream",
     "text": [
      "0    3\n",
      "1    2\n",
      "2    1\n",
      "3    6\n",
      "4    8\n",
      "dtype: int64\n"
     ]
    }
   ],
   "source": [
    "print (s)"
   ]
  },
  {
   "cell_type": "markdown",
   "metadata": {},
   "source": [
    "# Dataframe으로 Date형 처리\n"
   ]
  },
  {
   "cell_type": "code",
   "execution_count": 23,
   "metadata": {
    "collapsed": true
   },
   "outputs": [],
   "source": [
    "indices = list(range(5))\n",
    "dates = pd.date_range('20170712', periods=6)"
   ]
  },
  {
   "cell_type": "code",
   "execution_count": 24,
   "metadata": {
    "collapsed": false
   },
   "outputs": [
    {
     "name": "stdout",
     "output_type": "stream",
     "text": [
      "[0, 1, 2, 3, 4]\n",
      "DatetimeIndex(['2017-07-12', '2017-07-13', '2017-07-14', '2017-07-15',\n",
      "               '2017-07-16', '2017-07-17'],\n",
      "              dtype='datetime64[ns]', freq='D')\n"
     ]
    }
   ],
   "source": [
    "print (indices)\n",
    "print (dates)"
   ]
  },
  {
   "cell_type": "code",
   "execution_count": 25,
   "metadata": {
    "collapsed": true
   },
   "outputs": [],
   "source": [
    "time_1 = pd.date_range('1/1/2017', periods=5, freq='M')\n",
    "time_2 = pd.date_range('1/1/2017', periods=72, freq='H')\n",
    "time_3 = pd.period_range('2000Q1', '2017Q4', freq='Q-NOV')"
   ]
  },
  {
   "cell_type": "code",
   "execution_count": 26,
   "metadata": {
    "collapsed": false
   },
   "outputs": [
    {
     "name": "stdout",
     "output_type": "stream",
     "text": [
      "DatetimeIndex(['2017-01-31', '2017-02-28', '2017-03-31', '2017-04-30',\n",
      "               '2017-05-31'],\n",
      "              dtype='datetime64[ns]', freq='M')\n",
      "DatetimeIndex(['2017-01-01 00:00:00', '2017-01-01 01:00:00',\n",
      "               '2017-01-01 02:00:00', '2017-01-01 03:00:00',\n",
      "               '2017-01-01 04:00:00', '2017-01-01 05:00:00',\n",
      "               '2017-01-01 06:00:00', '2017-01-01 07:00:00',\n",
      "               '2017-01-01 08:00:00', '2017-01-01 09:00:00',\n",
      "               '2017-01-01 10:00:00', '2017-01-01 11:00:00',\n",
      "               '2017-01-01 12:00:00', '2017-01-01 13:00:00',\n",
      "               '2017-01-01 14:00:00', '2017-01-01 15:00:00',\n",
      "               '2017-01-01 16:00:00', '2017-01-01 17:00:00',\n",
      "               '2017-01-01 18:00:00', '2017-01-01 19:00:00',\n",
      "               '2017-01-01 20:00:00', '2017-01-01 21:00:00',\n",
      "               '2017-01-01 22:00:00', '2017-01-01 23:00:00',\n",
      "               '2017-01-02 00:00:00', '2017-01-02 01:00:00',\n",
      "               '2017-01-02 02:00:00', '2017-01-02 03:00:00',\n",
      "               '2017-01-02 04:00:00', '2017-01-02 05:00:00',\n",
      "               '2017-01-02 06:00:00', '2017-01-02 07:00:00',\n",
      "               '2017-01-02 08:00:00', '2017-01-02 09:00:00',\n",
      "               '2017-01-02 10:00:00', '2017-01-02 11:00:00',\n",
      "               '2017-01-02 12:00:00', '2017-01-02 13:00:00',\n",
      "               '2017-01-02 14:00:00', '2017-01-02 15:00:00',\n",
      "               '2017-01-02 16:00:00', '2017-01-02 17:00:00',\n",
      "               '2017-01-02 18:00:00', '2017-01-02 19:00:00',\n",
      "               '2017-01-02 20:00:00', '2017-01-02 21:00:00',\n",
      "               '2017-01-02 22:00:00', '2017-01-02 23:00:00',\n",
      "               '2017-01-03 00:00:00', '2017-01-03 01:00:00',\n",
      "               '2017-01-03 02:00:00', '2017-01-03 03:00:00',\n",
      "               '2017-01-03 04:00:00', '2017-01-03 05:00:00',\n",
      "               '2017-01-03 06:00:00', '2017-01-03 07:00:00',\n",
      "               '2017-01-03 08:00:00', '2017-01-03 09:00:00',\n",
      "               '2017-01-03 10:00:00', '2017-01-03 11:00:00',\n",
      "               '2017-01-03 12:00:00', '2017-01-03 13:00:00',\n",
      "               '2017-01-03 14:00:00', '2017-01-03 15:00:00',\n",
      "               '2017-01-03 16:00:00', '2017-01-03 17:00:00',\n",
      "               '2017-01-03 18:00:00', '2017-01-03 19:00:00',\n",
      "               '2017-01-03 20:00:00', '2017-01-03 21:00:00',\n",
      "               '2017-01-03 22:00:00', '2017-01-03 23:00:00'],\n",
      "              dtype='datetime64[ns]', freq='H')\n",
      "PeriodIndex(['2000Q1', '2000Q2', '2000Q3', '2000Q4', '2001Q1', '2001Q2',\n",
      "             '2001Q3', '2001Q4', '2002Q1', '2002Q2', '2002Q3', '2002Q4',\n",
      "             '2003Q1', '2003Q2', '2003Q3', '2003Q4', '2004Q1', '2004Q2',\n",
      "             '2004Q3', '2004Q4', '2005Q1', '2005Q2', '2005Q3', '2005Q4',\n",
      "             '2006Q1', '2006Q2', '2006Q3', '2006Q4', '2007Q1', '2007Q2',\n",
      "             '2007Q3', '2007Q4', '2008Q1', '2008Q2', '2008Q3', '2008Q4',\n",
      "             '2009Q1', '2009Q2', '2009Q3', '2009Q4', '2010Q1', '2010Q2',\n",
      "             '2010Q3', '2010Q4', '2011Q1', '2011Q2', '2011Q3', '2011Q4',\n",
      "             '2012Q1', '2012Q2', '2012Q3', '2012Q4', '2013Q1', '2013Q2',\n",
      "             '2013Q3', '2013Q4', '2014Q1', '2014Q2', '2014Q3', '2014Q4',\n",
      "             '2015Q1', '2015Q2', '2015Q3', '2015Q4', '2016Q1', '2016Q2',\n",
      "             '2016Q3', '2016Q4', '2017Q1', '2017Q2', '2017Q3', '2017Q4'],\n",
      "            dtype='int64', freq='Q-NOV')\n"
     ]
    }
   ],
   "source": [
    "print (time_1)\n",
    "print (time_2)\n",
    "print (time_3)"
   ]
  },
  {
   "cell_type": "code",
   "execution_count": 29,
   "metadata": {
    "collapsed": false
   },
   "outputs": [
    {
     "name": "stdout",
     "output_type": "stream",
     "text": [
      "DatetimeIndex(['2017-08-14 00:00:00+09:00', '2017-08-15 00:00:00+09:00',\n",
      "               '2017-08-16 00:00:00+09:00', '2017-08-17 00:00:00+09:00',\n",
      "               '2017-08-18 00:00:00+09:00', '2017-08-19 00:00:00+09:00',\n",
      "               '2017-08-20 00:00:00+09:00', '2017-08-21 00:00:00+09:00',\n",
      "               '2017-08-22 00:00:00+09:00', '2017-08-23 00:00:00+09:00'],\n",
      "              dtype='datetime64[ns, Asia/Seoul]', freq='D')\n",
      "DatetimeIndex(['2017-08-13 11:00:00-04:00', '2017-08-14 11:00:00-04:00',\n",
      "               '2017-08-15 11:00:00-04:00', '2017-08-16 11:00:00-04:00',\n",
      "               '2017-08-17 11:00:00-04:00', '2017-08-18 11:00:00-04:00',\n",
      "               '2017-08-19 11:00:00-04:00', '2017-08-20 11:00:00-04:00',\n",
      "               '2017-08-21 11:00:00-04:00', '2017-08-22 11:00:00-04:00'],\n",
      "              dtype='datetime64[ns, US/Eastern]', freq='D')\n"
     ]
    }
   ],
   "source": [
    "time_tz = pd.date_range('8/14/2017 00:00', periods=10, freq='D', tz='Asia/Seoul')\n",
    "print (time_tz)\n",
    "\n",
    "time_tz = time_tz.tz_convert('US/Eastern')\n",
    "print (time_tz)"
   ]
  },
  {
   "cell_type": "markdown",
   "metadata": {},
   "source": [
    "# Dataframe 만들기\n",
    " - (6,5) 6행 5열"
   ]
  },
  {
   "cell_type": "code",
   "execution_count": 31,
   "metadata": {
    "collapsed": false
   },
   "outputs": [
    {
     "data": {
      "text/plain": [
       "array([[-0.32985617, -0.54989006,  0.33010401, -0.44327227, -0.41931891],\n",
       "       [-1.43283743, -1.15496741,  0.84474002, -0.32906853, -1.01372884],\n",
       "       [-0.73460114, -0.71154272,  2.04920835, -0.95779141, -0.25405634],\n",
       "       [-0.68970372,  1.31693127, -0.10631986, -0.33699166,  0.63296101],\n",
       "       [ 0.23454723,  0.43685717,  0.07609903,  0.99346475,  0.69054804],\n",
       "       [ 0.59074877, -0.86883537,  1.11137561,  0.77679482, -1.273686  ]])"
      ]
     },
     "execution_count": 31,
     "metadata": {},
     "output_type": "execute_result"
    }
   ],
   "source": [
    "np.random.randn(6, 5)"
   ]
  },
  {
   "cell_type": "code",
   "execution_count": 32,
   "metadata": {
    "collapsed": true
   },
   "outputs": [],
   "source": [
    "df = pd.DataFrame(np.random.randn(6, 5), columns=['A', 'B', 'C', 'D', 'E'])"
   ]
  },
  {
   "cell_type": "code",
   "execution_count": 33,
   "metadata": {
    "collapsed": false
   },
   "outputs": [
    {
     "name": "stdout",
     "output_type": "stream",
     "text": [
      "          A         B         C         D         E\n",
      "0 -1.305531 -0.216850  1.014713 -0.613421 -1.658468\n",
      "1 -0.817314  1.584303 -0.326819  0.482250  1.111133\n",
      "2  0.508861  0.758455 -1.384152  1.736520 -1.224412\n",
      "3 -1.869048 -1.213817 -0.709137  1.174699  0.439684\n",
      "4 -0.343502  0.004786 -0.522794  0.593381  0.481447\n",
      "5  1.428265 -0.728294  0.810459  0.072887  0.306099\n"
     ]
    }
   ],
   "source": [
    "print (df)"
   ]
  },
  {
   "cell_type": "code",
   "execution_count": 34,
   "metadata": {
    "collapsed": true
   },
   "outputs": [],
   "source": [
    "dates = pd.date_range('20170712', periods=6)\n",
    "df = pd.DataFrame(np.random.randn(6, 5), index=dates, columns=['A', 'B', 'C', 'D', 'E'])"
   ]
  },
  {
   "cell_type": "code",
   "execution_count": 35,
   "metadata": {
    "collapsed": false
   },
   "outputs": [
    {
     "name": "stdout",
     "output_type": "stream",
     "text": [
      "                   A         B         C         D         E\n",
      "2017-07-12 -1.156273 -2.020193  0.659705 -0.046291  0.700956\n",
      "2017-07-13 -0.050652  0.135141  0.068101 -0.614953 -0.815223\n",
      "2017-07-14  0.869305  0.161927 -0.774603  2.433016 -1.004319\n",
      "2017-07-15 -0.035198  0.673841  0.153867  0.148730 -0.213712\n",
      "2017-07-16  0.595576 -0.112000  0.962309 -1.163351 -0.746414\n",
      "2017-07-17  1.088573  2.098693 -1.807941 -0.684566  0.859636\n"
     ]
    }
   ],
   "source": [
    "print (df)"
   ]
  },
  {
   "cell_type": "code",
   "execution_count": 36,
   "metadata": {
    "collapsed": true
   },
   "outputs": [],
   "source": [
    "df2 = pd.DataFrame({\n",
    "    'A': 1.,\n",
    "    'B': pd.Timestamp('20170712'),\n",
    "    'C': pd.Series(1, index=list(range(0, 4)), dtype=np.float32),\n",
    "    'D': np.array([3] * 4, dtype=np.int32), \n",
    "    'E': pd.Categorical(['a', 'b', 'c', 'd']), \n",
    "    'F': 'Hello, world!'\n",
    "}, index=pd.date_range('20170712', periods=4))"
   ]
  },
  {
   "cell_type": "code",
   "execution_count": 37,
   "metadata": {
    "collapsed": false
   },
   "outputs": [
    {
     "name": "stdout",
     "output_type": "stream",
     "text": [
      "              A          B   C  D  E              F\n",
      "2017-07-12  1.0 2017-07-12 NaN  3  a  Hello, world!\n",
      "2017-07-13  1.0 2017-07-12 NaN  3  b  Hello, world!\n",
      "2017-07-14  1.0 2017-07-12 NaN  3  c  Hello, world!\n",
      "2017-07-15  1.0 2017-07-12 NaN  3  d  Hello, world!\n",
      "A           float64\n",
      "B    datetime64[ns]\n",
      "C           float32\n",
      "D             int32\n",
      "E          category\n",
      "F            object\n",
      "dtype: object\n",
      "Index(['A', 'B', 'C', 'D', 'E', 'F'], dtype='object')\n",
      "DatetimeIndex(['2017-07-12', '2017-07-13', '2017-07-14', '2017-07-15'], dtype='datetime64[ns]', freq='D')\n"
     ]
    }
   ],
   "source": [
    "print(df2)\n",
    "print(df2.dtypes)\n",
    "print(df2.columns)\n",
    "print(df2.index)"
   ]
  },
  {
   "cell_type": "code",
   "execution_count": 38,
   "metadata": {
    "collapsed": false
   },
   "outputs": [
    {
     "name": "stdout",
     "output_type": "stream",
     "text": [
      "              A          B   C  D  E              F\n",
      "2017-07-12  1.0 2017-07-12 NaN  3  a  Hello, world!\n",
      "2017-07-13 -1.0 2017-07-12 NaN  3  b  Hello, world!\n",
      "              A          B   C  D  E              F\n",
      "2017-07-13 -1.0 2017-07-12 NaN  3  b  Hello, world!\n",
      "2017-07-14  3.0 2017-07-12 NaN  3  c  Hello, world!\n",
      "2017-07-15  5.0 2017-07-12 NaN  3  d  Hello, world!\n",
      "DatetimeIndex(['2017-07-12', '2017-07-13', '2017-07-14', '2017-07-15'], dtype='datetime64[ns]', freq='D')\n",
      "Index(['A', 'B', 'C', 'D', 'E', 'F'], dtype='object')\n",
      "[[1.0 Timestamp('2017-07-12 00:00:00') nan 3 'a' 'Hello, world!']\n",
      " [-1.0 Timestamp('2017-07-12 00:00:00') nan 3 'b' 'Hello, world!']\n",
      " [3.0 Timestamp('2017-07-12 00:00:00') nan 3 'c' 'Hello, world!']\n",
      " [5.0 Timestamp('2017-07-12 00:00:00') nan 3 'd' 'Hello, world!']]\n",
      "              A    C    D\n",
      "count  4.000000  0.0  4.0\n",
      "mean   2.000000  NaN  3.0\n",
      "std    2.581989  NaN  0.0\n",
      "min   -1.000000  NaN  3.0\n",
      "25%    0.500000  NaN  3.0\n",
      "50%    2.000000  NaN  3.0\n",
      "75%    3.500000  NaN  3.0\n",
      "max    5.000000  NaN  3.0\n",
      "            2017-07-12           2017-07-13           2017-07-14  \\\n",
      "A                    1                   -1                    3   \n",
      "B  2017-07-12 00:00:00  2017-07-12 00:00:00  2017-07-12 00:00:00   \n",
      "C                  NaN                  NaN                  NaN   \n",
      "D                    3                    3                    3   \n",
      "E                    a                    b                    c   \n",
      "F        Hello, world!        Hello, world!        Hello, world!   \n",
      "\n",
      "            2017-07-15  \n",
      "A                    5  \n",
      "B  2017-07-12 00:00:00  \n",
      "C                  NaN  \n",
      "D                    3  \n",
      "E                    d  \n",
      "F        Hello, world!  \n",
      "              A          B   C  D  E              F\n",
      "2017-07-15  5.0 2017-07-12 NaN  3  d  Hello, world!\n",
      "2017-07-14  3.0 2017-07-12 NaN  3  c  Hello, world!\n",
      "2017-07-12  1.0 2017-07-12 NaN  3  a  Hello, world!\n",
      "2017-07-13 -1.0 2017-07-12 NaN  3  b  Hello, world!\n"
     ]
    },
    {
     "name": "stderr",
     "output_type": "stream",
     "text": [
      "/opt/conda/lib/python3.5/site-packages/numpy/lib/function_base.py:3834: RuntimeWarning: Invalid value encountered in percentile\n",
      "  RuntimeWarning)\n"
     ]
    }
   ],
   "source": [
    "df2 = pd.DataFrame({\n",
    "    'A': [1.0, -1.0, 3.0, 5.0],\n",
    "    'B': pd.Timestamp('20170712'),\n",
    "    'C': pd.Series(1, index=list(range(0, 4)), dtype=np.float32),\n",
    "    'D': np.array([3] * 4, dtype=np.int32), \n",
    "    'E': pd.Categorical(['a', 'b', 'c', 'd']), \n",
    "    'F': 'Hello, world!'\n",
    "}, index=pd.date_range('20170712', periods=4))\n",
    "\n",
    "print (df2.head(2))\n",
    "print (df2.tail(3))\n",
    "print (df2.index)\n",
    "print (df2.columns)\n",
    "print (df2.values)\n",
    "print (df2.describe())\n",
    "print (df2.T)\n",
    "print (df2.sort_values(by='A', ascending=False))"
   ]
  },
  {
   "cell_type": "markdown",
   "metadata": {},
   "source": [
    "# Dataframe 선택\n",
    " - df['A'] : 열선택 select랑 비슷\n",
    " - df2[0:2] : 1행 2행 선택\n",
    " - df2['20170714':'20170715'] : Index로도 선택됨\n",
    " - df2.loc[:, ['A', 'C']] : 전체중에 'A','C'\n",
    " - df2.iloc[2:3, 2:3] : 두번째줄 두번째 열 선택\n",
    " "
   ]
  },
  {
   "cell_type": "code",
   "execution_count": 53,
   "metadata": {
    "collapsed": false
   },
   "outputs": [
    {
     "name": "stdout",
     "output_type": "stream",
     "text": [
      "2017-07-12    1.0\n",
      "2017-07-13   -1.0\n",
      "2017-07-14    3.0\n",
      "2017-07-15    5.0\n",
      "Freq: D, Name: A, dtype: float64\n",
      "              A  D\n",
      "2017-07-12  1.0  3\n",
      "2017-07-13 -1.0  3\n",
      "2017-07-14  3.0  3\n",
      "2017-07-15  5.0  3\n",
      "              A          B   C  D  E              F\n",
      "2017-07-12  1.0 2017-07-12 NaN  3  a  Hello, world!\n",
      "2017-07-13 -1.0 2017-07-12 NaN  3  b  Hello, world!\n",
      "              A          B   C  D  E              F\n",
      "2017-07-14  3.0 2017-07-12 NaN  3  c  Hello, world!\n",
      "2017-07-15  5.0 2017-07-12 NaN  3  d  Hello, world!\n",
      "              A   C\n",
      "2017-07-12  1.0 NaN\n",
      "2017-07-13 -1.0 NaN\n",
      "2017-07-14  3.0 NaN\n",
      "2017-07-15  5.0 NaN\n",
      "              A   C\n",
      "2017-07-14  3.0 NaN\n",
      "2017-07-15  5.0 NaN\n",
      "             C\n",
      "2017-07-14 NaN\n"
     ]
    }
   ],
   "source": [
    "df2 = pd.DataFrame({\n",
    "    'A': [1.0, -1.0, 3.0, 5.0],\n",
    "    'B': pd.Timestamp('20170712'),\n",
    "    'C': pd.Series(1, index=list(range(0, 4)), dtype=np.float32),\n",
    "    'D': np.array([3] * 4, dtype=np.int32), \n",
    "    'E': pd.Categorical(['a', 'b', 'c', 'd']), \n",
    "    'F': 'Hello, world!'\n",
    "}, index=pd.date_range('20170712', periods=4))\n",
    "\n",
    "print (df2['A'])\n",
    "print (df2[['A', 'D']])\n",
    "print (df2[0:2])\n",
    "print (df2['20170714':'20170715'])\n",
    "\n",
    "print (df2.loc[:, ['A', 'C']])\n",
    "print (df2.loc['20170714':'20170715', ['A', 'C']])\n",
    "print (df2.iloc[2:3, 2:3])"
   ]
  },
  {
   "cell_type": "code",
   "execution_count": 55,
   "metadata": {
    "collapsed": false
   },
   "outputs": [
    {
     "name": "stdout",
     "output_type": "stream",
     "text": [
      "          A         B         C         D         E\n",
      "0 -0.333270 -0.906814 -0.976493  0.249011  1.018339\n",
      "1 -0.252228  0.212853  0.005335 -0.518612  0.961296\n",
      "2  0.962528 -0.243606  0.030239  0.794631  0.459159\n",
      "3  0.995348  0.232021 -2.559707 -1.443751 -1.063938\n",
      "4 -0.285840 -0.086365  0.519653 -0.567352  0.724952\n",
      "5  0.653229  0.520241 -0.086015 -0.244804 -0.670228\n",
      "          A         B         C         D         E\n",
      "0 -0.333270  0.000000 -0.976493  0.249011  1.018339\n",
      "1 -0.252228  0.212853  0.005335 -0.518612  0.961296\n",
      "2  0.962528 -0.243606  0.030239  0.794631  0.459159\n",
      "3  0.995348  0.232021 -2.559707 -1.443751 -1.063938\n",
      "4 -0.285840 -0.086365  0.519653 -0.567352  0.724952\n",
      "5  0.653229  0.520241 -0.086015 -0.244804 -0.670228\n",
      "          A         B         C         D         E\n",
      "0 -0.333270  0.000000 -0.976493  0.249011  1.018339\n",
      "1 -0.252228  0.212853  0.005335 -0.518612  0.961296\n",
      "2  0.962528 -0.243606  0.030239  0.000000  0.459159\n",
      "3  0.995348  0.232021 -2.559707 -1.443751 -1.063938\n",
      "4 -0.285840 -0.086365  0.519653 -0.567352  0.724952\n",
      "5  0.653229  0.520241 -0.086015 -0.244804 -0.670228\n",
      "          A         B         C         D         E   F\n",
      "0 -0.333270  0.000000 -0.976493  0.249011  1.018339 NaN\n",
      "1 -0.252228  0.212853  0.005335 -0.518612  0.961296 NaN\n",
      "2  0.962528 -0.243606  0.030239  0.000000  0.459159 NaN\n",
      "3  0.995348  0.232021 -2.559707 -1.443751 -1.063938 NaN\n",
      "4 -0.285840 -0.086365  0.519653 -0.567352  0.724952 NaN\n",
      "5  0.653229  0.520241 -0.086015 -0.244804 -0.670228 NaN\n",
      "       A      B      C      D      E     F\n",
      "0  False  False  False  False  False  True\n",
      "1  False  False  False  False  False  True\n",
      "2  False  False  False  False  False  True\n",
      "3  False  False  False  False  False  True\n",
      "4  False  False  False  False  False  True\n",
      "5  False  False  False  False  False  True\n",
      "          A         B         C         D         E    F\n",
      "0 -0.333270  0.000000 -0.976493  0.249011  1.018339  3.0\n",
      "1 -0.252228  0.212853  0.005335 -0.518612  0.961296  3.0\n",
      "2  0.962528 -0.243606  0.030239  0.000000  0.459159  3.0\n",
      "3  0.995348  0.232021 -2.559707 -1.443751 -1.063938  3.0\n",
      "4 -0.285840 -0.086365  0.519653 -0.567352  0.724952  3.0\n",
      "5  0.653229  0.520241 -0.086015 -0.244804 -0.670228  3.0\n",
      "Empty DataFrame\n",
      "Columns: [A, B, C, D, E, F]\n",
      "Index: []\n"
     ]
    }
   ],
   "source": [
    "df = pd.DataFrame(np.random.randn(6, 5), columns=['A', 'B', 'C', 'D', 'E'])\n",
    "print (df)\n",
    "\n",
    "df.at[0, 'B'] = 0\n",
    "print (df)\n",
    "df.iat[2, 3] = 0\n",
    "print (df)\n",
    "\n",
    "df2 = df.reindex(columns=list(df.columns) + ['F'])\n",
    "print (df2)\n",
    "print (pd.isnull(df2))\n",
    "print (df2.fillna(value=3))\n",
    "print (df2.dropna(how='any'))"
   ]
  },
  {
   "cell_type": "markdown",
   "metadata": {},
   "source": [
    "# Dataframe Sum, Sub\n",
    " - df.mean(axis=0) 행 , 세로로 다 더해서 평균\n",
    " - df.mean(axis=1) 열 , 열단위로 다 더해서 평균\n",
    " - 차원이 높아지면 어려움 ㅠㅠ\n"
   ]
  },
  {
   "cell_type": "code",
   "execution_count": 66,
   "metadata": {
    "collapsed": false
   },
   "outputs": [
    {
     "name": "stdout",
     "output_type": "stream",
     "text": [
      "          A         B         C         D         E\n",
      "0 -0.450552 -1.647605 -1.121357  0.238275 -1.457730\n",
      "1  1.972309  0.886870  0.820475 -1.471154 -1.830582\n",
      "2 -0.118835 -0.258486 -0.309014 -0.844617 -0.392956\n",
      "3  0.129816  1.552218  0.713502  0.016501 -1.925733\n",
      "4  1.141566 -0.225480  2.057854 -0.480612 -0.239136\n",
      "5 -1.523262 -0.403504 -0.435871  0.233892 -0.766292\n",
      "A    0.191840\n",
      "B   -0.015998\n",
      "C    0.287598\n",
      "D   -0.384619\n",
      "E   -1.102071\n",
      "dtype: float64\n",
      "0   -0.887794\n",
      "1    0.075584\n",
      "2   -0.384782\n",
      "3    0.097261\n",
      "4    0.450838\n",
      "5   -0.579007\n",
      "dtype: float64\n",
      "          A         B         C         D         E\n",
      "0       NaN       NaN       NaN       NaN       NaN\n",
      "1       NaN       NaN       NaN       NaN       NaN\n",
      "2 -1.118835 -1.258486 -1.309014 -1.844617 -1.392956\n",
      "3 -2.870184 -1.447782 -2.286498 -2.983499 -4.925733\n",
      "4 -3.858434 -5.225480 -2.942146 -5.480612 -5.239136\n",
      "5       NaN       NaN       NaN       NaN       NaN\n"
     ]
    }
   ],
   "source": [
    "df = pd.DataFrame(np.random.randn(6, 5), columns=['A', 'B', 'C', 'D', 'E'])\n",
    "\n",
    "print (df)\n",
    "print (df.mean(axis=0))\n",
    "print (df.mean(axis=1))\n",
    "\n",
    "\n",
    "s = pd.Series([1,3,5,np.nan,6,8], index=list(range(6))).shift(2)\n",
    "\n",
    "#print (s)\n",
    "print (df.sub(s, axis='index'))"
   ]
  },
  {
   "cell_type": "code",
   "execution_count": 65,
   "metadata": {
    "collapsed": false
   },
   "outputs": [
    {
     "name": "stdout",
     "output_type": "stream",
     "text": [
      "-1.0751826\n"
     ]
    }
   ],
   "source": [
    "print((-0.257670 + -0.756718 + -1.603705 + -2.412994 + -0.344826)/5)"
   ]
  },
  {
   "cell_type": "code",
   "execution_count": 67,
   "metadata": {
    "collapsed": false
   },
   "outputs": [
    {
     "name": "stdout",
     "output_type": "stream",
     "text": [
      "          0         1         2         3\n",
      "0 -1.435433 -0.514925 -1.056887 -0.700243\n",
      "1 -2.196601  1.112568 -1.736768 -1.386476\n",
      "2  0.892215  0.248249 -0.321830  0.045896\n",
      "3  0.502804 -0.351753  1.392379 -1.433379\n",
      "4 -0.220658 -0.966354 -1.045596 -0.704286\n",
      "5 -1.068965 -0.001701 -0.223647 -0.559931\n",
      "6 -0.217993  0.395500 -1.136891  1.051254\n",
      "7 -0.061381 -1.644984  0.039025  0.311268\n",
      "8 -0.685735 -0.972075 -1.396735  0.053710\n",
      "9 -2.544880  1.515351  0.188767 -0.931960\n",
      "          0         1         2         3\n",
      "0 -1.435433 -0.514925 -1.056887 -0.700243\n",
      "1 -2.196601  1.112568 -1.736768 -1.386476\n",
      "3  0.502804 -0.351753  1.392379 -1.433379\n",
      "4 -0.220658 -0.966354 -1.045596 -0.704286\n",
      "7 -0.061381 -1.644984  0.039025  0.311268\n",
      "8 -0.685735 -0.972075 -1.396735  0.053710\n",
      "9 -2.544880  1.515351  0.188767 -0.931960\n",
      "   key  lval  rval\n",
      "0  foo     1     4\n",
      "1  foo     1     5\n",
      "2  foo     2     4\n",
      "3  foo     2     5\n"
     ]
    }
   ],
   "source": [
    "df = pd.DataFrame(np.random.randn(10, 4))\n",
    "print (df)\n",
    "\n",
    "pieces = [df[:2], df[3:5], df[7:]]\n",
    "print (pd.concat(pieces))\n",
    "\n",
    "left = pd.DataFrame({'key': ['foo', 'foo'], 'lval': [1, 2]})\n",
    "right = pd.DataFrame({'key': ['foo', 'foo'], 'rval': [4, 5]})\n",
    "\n",
    "print (pd.merge(left, right, on='key'))"
   ]
  },
  {
   "cell_type": "code",
   "execution_count": 68,
   "metadata": {
    "collapsed": false
   },
   "outputs": [
    {
     "name": "stdout",
     "output_type": "stream",
     "text": [
      "     A      B         C         D\n",
      "0  foo    one -0.689690 -1.032385\n",
      "1  bar    one  1.245639 -0.197770\n",
      "2  foo    two -1.409328  0.445899\n",
      "3  bar  three -1.583674  2.024604\n",
      "4  foo    two  0.163967 -0.705305\n",
      "5  bar    two  0.062503 -0.121475\n",
      "6  foo    one -0.343062  1.162814\n",
      "7  foo  three  1.209160  0.079837\n",
      "            C         D\n",
      "A                      \n",
      "bar -0.275532  1.705359\n",
      "foo -1.068952 -0.049140\n",
      "                  C         D\n",
      "A   B                        \n",
      "bar one    1.245639 -0.197770\n",
      "    three -1.583674  2.024604\n",
      "    two    0.062503 -0.121475\n",
      "foo one   -1.032751  0.130429\n",
      "    three  1.209160  0.079837\n",
      "    two   -1.245361 -0.259406\n"
     ]
    }
   ],
   "source": [
    "df = pd.DataFrame({'A' : ['foo', 'bar', 'foo', 'bar',\n",
    "                          'foo', 'bar', 'foo', 'foo'],\n",
    "                   'B' : ['one', 'one', 'two', 'three',\n",
    "                          'two', 'two', 'one', 'three'],\n",
    "                   'C' : np.random.randn(8),\n",
    "                   'D' : np.random.randn(8)})\n",
    "print (df)\n",
    "\n",
    "print (df.groupby('A').sum())\n",
    "print (df.groupby(['A','B']).sum())"
   ]
  },
  {
   "cell_type": "code",
   "execution_count": 69,
   "metadata": {
    "collapsed": false
   },
   "outputs": [
    {
     "data": {
      "image/png": "[encoded data removed]",
      "text/plain": [
       "<matplotlib.figure.Figure at 0x7f67e405cc50>"
      ]
     },
     "metadata": {},
     "output_type": "display_data"
    }
   ],
   "source": [
    "ts = pd.Series(np.random.randn(1000), index=pd.date_range('1/1/2010', periods=1000))\n",
    "ts = ts.cumsum()\n",
    "\n",
    "ts.plot()\n",
    "plt.show()"
   ]
  },
  {
   "cell_type": "code",
   "execution_count": 70,
   "metadata": {
    "collapsed": false,
    "scrolled": true
   },
   "outputs": [
    {
     "name": "stderr",
     "output_type": "stream",
     "text": [
      "/opt/conda/lib/python3.5/site-packages/matplotlib/legend.py:325: UserWarning: Unrecognized location \"bset\". Falling back on \"best\"; valid locations are\n",
      "\tupper left\n",
      "\tupper right\n",
      "\tlower right\n",
      "\tright\n",
      "\tbest\n",
      "\tlower center\n",
      "\tlower left\n",
      "\tcenter\n",
      "\tcenter right\n",
      "\tcenter left\n",
      "\tupper center\n",
      "\n",
      "  six.iterkeys(self.codes))))\n"
     ]
    },
    {
     "data": {
      "image/png": "[encoded data removed]",
      "text/plain": [
       "<matplotlib.figure.Figure at 0x7f67e0aff550>"
      ]
     },
     "metadata": {},
     "output_type": "display_data"
    }
   ],
   "source": [
    "df = pd.DataFrame(np.random.randn(1000, 4), index=ts.index, columns=['A', 'B', 'C', 'D'])\n",
    "df = df.cumsum()\n",
    "\n",
    "df.plot()\n",
    "plt.legend(loc='bset')\n",
    "plt.show()"
   ]
  },
  {
   "cell_type": "code",
   "execution_count": 72,
   "metadata": {
    "collapsed": false
   },
   "outputs": [
    {
     "name": "stdout",
     "output_type": "stream",
     "text": [
      "     Unnamed: 0         A         B         C         D\n",
      "0    2010-01-01  0.162292  0.905242  1.130262  1.122082\n",
      "1    2010-01-02 -0.419998  0.471696 -0.598922  0.380946\n",
      "2    2010-01-03  0.391444 -0.181129  0.369271 -1.483083\n",
      "3    2010-01-04 -0.169985 -0.495207 -2.319064  0.333620\n",
      "4    2010-01-05 -0.521165  1.294134 -0.027619  0.309695\n",
      "5    2010-01-06 -0.473763  0.198964  1.875409 -0.484085\n",
      "6    2010-01-07  0.304891 -0.257573 -0.005977 -0.011034\n",
      "7    2010-01-08  2.450998 -1.972726  0.173227 -0.401008\n",
      "8    2010-01-09 -1.485450  0.333711  0.632669  0.602267\n",
      "9    2010-01-10 -1.596012  0.183947  0.441163  0.251228\n",
      "10   2010-01-11  0.794528 -0.622908 -0.708353 -0.065213\n",
      "11   2010-01-12  0.907303 -0.030365 -0.129333 -0.274196\n",
      "12   2010-01-13 -0.799695 -0.671057  0.070837  1.887965\n",
      "13   2010-01-14 -0.290340 -0.793495  2.097680 -0.719782\n",
      "14   2010-01-15 -0.841953  0.383084 -0.424997  1.157482\n",
      "15   2010-01-16 -0.103242  0.974286  0.991089  0.612130\n",
      "16   2010-01-17  0.110647 -1.428438  1.538328  0.430825\n",
      "17   2010-01-18 -1.917257 -0.760190  1.517930  1.633232\n",
      "18   2010-01-19  0.797348  0.257129  0.495926  0.829044\n",
      "19   2010-01-20  1.471609  0.435196 -0.205887 -0.260967\n",
      "20   2010-01-21  1.206366 -0.116211  1.439781 -2.202195\n",
      "21   2010-01-22 -1.566713  0.231880 -0.576437  0.976563\n",
      "22   2010-01-23 -0.588053  0.270574 -0.788638 -1.877437\n",
      "23   2010-01-24  0.023217  1.005789 -0.000052  0.754083\n",
      "24   2010-01-25  0.411332 -0.458130 -0.886435  0.964119\n",
      "25   2010-01-26  0.681447  0.362536  0.335782  0.396684\n",
      "26   2010-01-27  1.030942 -0.605468  0.240534 -0.080411\n",
      "27   2010-01-28 -0.160191  2.187720 -1.196845 -0.347518\n",
      "28   2010-01-29  0.218162 -1.033218  1.175193 -0.204080\n",
      "29   2010-01-30  1.947540 -1.935969 -1.026726  1.441165\n",
      "..          ...       ...       ...       ...       ...\n",
      "970  2012-08-28 -0.227144  0.171094  0.096775  0.486543\n",
      "971  2012-08-29 -1.711081  0.264176  1.817712  0.127737\n",
      "972  2012-08-30  0.060527 -0.054858  1.616934  1.329480\n",
      "973  2012-08-31  0.567510  0.935519 -0.905984  0.030770\n",
      "974  2012-09-01 -0.005364 -0.155582  1.655077  1.396607\n",
      "975  2012-09-02  0.808617  0.267736 -0.502311  0.231705\n",
      "976  2012-09-03 -0.072796  0.123769  0.740144 -0.277139\n",
      "977  2012-09-04 -0.516923 -0.013226  0.221519 -0.222386\n",
      "978  2012-09-05  0.780479  0.079225  0.819198 -1.553967\n",
      "979  2012-09-06  0.498267  1.083158 -0.115239 -0.728898\n",
      "980  2012-09-07  0.793633 -0.884506 -0.897239  0.288723\n",
      "981  2012-09-08  0.419833  1.983740  0.562096  0.757474\n",
      "982  2012-09-09 -0.917078 -0.690240 -0.076561  2.006922\n",
      "983  2012-09-10 -0.572485 -0.243673  0.211512  0.759043\n",
      "984  2012-09-11  2.024067 -0.081594 -0.644301  0.971992\n",
      "985  2012-09-12  0.162342 -0.772476 -0.669052 -0.168991\n",
      "986  2012-09-13 -0.912805  0.297862 -1.414140  0.524069\n",
      "987  2012-09-14  1.125804  0.311769 -1.606831 -1.163794\n",
      "988  2012-09-15 -0.732136  1.359562  0.148173  1.437792\n",
      "989  2012-09-16 -0.517371  0.456254  0.334770  0.116985\n",
      "990  2012-09-17  0.859228  0.021159 -0.580782  2.240808\n",
      "991  2012-09-18 -0.883976 -0.513806  0.975985  0.212104\n",
      "992  2012-09-19  0.806168 -1.008681 -0.803596 -0.533468\n",
      "993  2012-09-20 -0.826388  1.280302 -0.941682  1.374628\n",
      "994  2012-09-21  0.799978 -1.988337 -0.992028  0.607570\n",
      "995  2012-09-22 -0.615162  0.243800 -0.261441 -0.019060\n",
      "996  2012-09-23 -0.057863  0.000931  1.703392  0.743092\n",
      "997  2012-09-24 -1.710518  0.452922  1.024800  0.762682\n",
      "998  2012-09-25  2.240278  0.137821  0.633079 -0.842875\n",
      "999  2012-09-26  1.249152 -0.753471  0.624695 -0.285587\n",
      "\n",
      "[1000 rows x 5 columns]\n"
     ]
    }
   ],
   "source": [
    "df = pd.DataFrame(np.random.randn(1000, 4), index=ts.index, columns=['A', 'B', 'C', 'D'])\n",
    "df.to_csv('test.csv')\n",
    "\n",
    "df2 = pd.read_csv('test.csv')\n",
    "print (df2)"
   ]
  },
  {
   "cell_type": "code",
   "execution_count": null,
   "metadata": {
    "collapsed": true
   },
   "outputs": [],
   "source": []
  }
 ],
 "metadata": {
  "anaconda-cloud": {},
  "kernelspec": {
   "display_name": "Python [conda root]",
   "language": "python",
   "name": "conda-root-py"
  },
  "language_info": {
   "codemirror_mode": {
    "name": "ipython",
    "version": 3
   },
   "file_extension": ".py",
   "mimetype": "text/x-python",
   "name": "python",
   "nbconvert_exporter": "python",
   "pygments_lexer": "ipython3",
   "version": "3.5.2"
  }
 },
 "nbformat": 4,
 "nbformat_minor": 2
}
