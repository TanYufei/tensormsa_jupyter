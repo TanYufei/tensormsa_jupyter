{
 "cells": [
  {
   "cell_type": "markdown",
   "metadata": {},
   "source": [
    "# Preprocessing & xgboost Ensemble\n",
    "\n",
    "Pandas를 사용하여 정형 데이터를 다루는 방법을 설명한다.\n",
    " - Category Data를 변경\n",
    " - Null값 처리\n",
    " - 범주화 방법 안내\n",
    "\n",
    "\n",
    "\n",
    "## 타이타닉 데이터\n",
    "\n",
    "\n",
    "Data Dictionary\n",
    "\n",
    " - Variable Definition\tKey\n",
    " - survival\tSurvival\t0 = No, 1 = Yes\n",
    " - pclass\tTicket class\t1 = 1st, 2 = 2nd, 3 = 3rd\n",
    " - sex\tSex\t\n",
    " - Age\tAge in years\t\n",
    " - sibsp\t# of siblings / spouses aboard the Titanic\t\n",
    " - parch\t# of parents / children aboard the Titanic\t\n",
    " - ticket\tTicket number\t\n",
    " - fare\tPassenger fare\t\n",
    " - cabin\tCabin number\t\n",
    " - embarked\tPort of Embarkation\tC = Cherbourg, Q = Queenstown, S = Southampton \n",
    "\n"
   ]
  },
  {
   "cell_type": "code",
   "execution_count": 1,
   "metadata": {
    "collapsed": false
   },
   "outputs": [
    {
     "data": {
      "text/html": [
       "<script>requirejs.config({paths: { 'plotly': ['https://cdn.plot.ly/plotly-latest.min']},});if(!window.Plotly) {{require(['plotly'],function(plotly) {window.Plotly=plotly;});}}</script>"
      ],
      "text/vnd.plotly.v1+html": [
       "<script>requirejs.config({paths: { 'plotly': ['https://cdn.plot.ly/plotly-latest.min']},});if(!window.Plotly) {{require(['plotly'],function(plotly) {window.Plotly=plotly;});}}</script>"
      ]
     },
     "metadata": {},
     "output_type": "display_data"
    }
   ],
   "source": [
    "# Load in our libraries\n",
    "import pandas as pd #http://pandas.pydata.org/ #Python Data Analysis Library \n",
    "import numpy as np #NumPy is the fundamental package for scientific computing with Python. It contains among other thing\n",
    "import re #정규식\n",
    "import sklearn # http://scikit-learn.org/stable/ Simple and efficient tools for data mining and data analysis\n",
    "import xgboost as xgb # Scalable and Flexible Gradient Boosting https://xgboost.readthedocs.io/en/latest/\n",
    "import seaborn as sns  # https://seaborn.pydata.org/   seaborn: statistical data visualization\n",
    "import matplotlib.pyplot as plt\n",
    "%matplotlib inline\n",
    "\n",
    "import plotly.offline as py  #Visualize Data, Togethe #https://plot.ly/\n",
    "py.init_notebook_mode(connected=True)\n",
    "import plotly.graph_objs as go\n",
    "import plotly.tools as tls\n",
    "\n",
    "import warnings\n",
    "warnings.filterwarnings('ignore')\n",
    "\n",
    "# Going to use these 5 base models for the stacking\n",
    "from sklearn.ensemble import RandomForestClassifier, AdaBoostClassifier, GradientBoostingClassifier, ExtraTreesClassifier\n",
    "from sklearn.svm import SVC\n",
    "from sklearn.cross_validation import KFold;"
   ]
  },
  {
   "cell_type": "code",
   "execution_count": 2,
   "metadata": {
    "collapsed": false
   },
   "outputs": [],
   "source": [
    "# Load in the train and test datasets\n",
    "train = pd.read_csv('./data/titanic/train.csv')\n",
    "test = pd.read_csv('./data/titanic/test.csv')\n",
    "\n",
    "# Store our passenger ID for easy access\n",
    "PassengerId = test['PassengerId']\n",
    "train_passengerid = train['PassengerId']\n",
    "#print(train.columns)\n",
    "train_results_xgb = train[['PassengerId','Survived']]"
   ]
  },
  {
   "cell_type": "code",
   "execution_count": 3,
   "metadata": {
    "collapsed": false
   },
   "outputs": [
    {
     "name": "stdout",
     "output_type": "stream",
     "text": [
      "train row 891\n",
      "test row 418\n",
      "[[0, 7.91], (31, 512.329], (7.91, 14.454], (31, 512.329], (7.91, 14.454], ..., (7.91, 14.454], (14.454, 31], (14.454, 31], (14.454, 31], [0, 7.91]]\n",
      "Length: 891\n",
      "Categories (4, object): [[0, 7.91] < (7.91, 14.454] < (14.454, 31] < (31, 512.329]]\n",
      "start random age 15.172620314724776\n",
      "end random age 44.225614979392866\n",
      "start random age 16.091381125821364\n",
      "end random age 44.4537995970702\n",
      "[(16, 32], (32, 48], (16, 32], (32, 48], (32, 48], ..., (16, 32], (16, 32], (32, 48], (16, 32], (16, 32]]\n",
      "Length: 891\n",
      "Categories (5, object): [(-0.08, 16] < (16, 32] < (32, 48] < (48, 64] < (64, 80]]\n",
      "Mrs\n",
      "0     Mr\n",
      "1    Mrs\n",
      "2     Mr\n",
      "Name: Title, dtype: object\n",
      "0    1\n",
      "1    3\n",
      "2    2\n",
      "Name: Title, dtype: int64\n",
      "0    0\n",
      "1    1\n",
      "2    0\n",
      "Name: Embarked, dtype: int64\n",
      "0    0\n",
      "1    3\n",
      "2    1\n",
      "Name: Fare, dtype: int64\n"
     ]
    }
   ],
   "source": [
    "train.head(10)\n",
    "\n",
    "full_data = [train, test]\n",
    "print('train row {0}'.format(len(train.index)))\n",
    "print('test row {0}'.format(len(test.index)))\n",
    "\n",
    "\n",
    "# Some features of my own that I have added in\n",
    "# Gives the length of the name\n",
    "train['Name_length'] = train['Name'].apply(len)\n",
    "test['Name_length'] = test['Name'].apply(len)\n",
    "#print(train['Name_length'])\n",
    "\n",
    "# Feature that tells whether a passenger had a cabin on the Titanic\n",
    "train['Has_Cabin'] = train[\"Cabin\"].apply(lambda x: 0 if type(x) == float else 1)\n",
    "test['Has_Cabin'] = test[\"Cabin\"].apply(lambda x: 0 if type(x) == float else 1)\n",
    "\n",
    "#print(train['Has_Cabin'].head(10))\n",
    "\n",
    "\n",
    "# Feature engineering steps taken from Sina\n",
    "# Create new feature FamilySize as a combination of SibSp and Parch\n",
    "\n",
    "#새로운 Feature를 만듭니다.(친척과 자식)\n",
    "\n",
    "for dataset in full_data:\n",
    "    dataset['FamilySize'] = dataset['SibSp'] + dataset['Parch'] + 1\n",
    "    \n",
    "# Create new feature IsAlone from FamilySize\n",
    "# IsAlone이 Feature를 새로 만든다.\n",
    "for dataset in full_data:\n",
    "    dataset['IsAlone'] = 0\n",
    "    dataset.loc[dataset['FamilySize'] == 1, 'IsAlone'] = 1\n",
    "    #print(dataset['IsAlone'])\n",
    "    \n",
    "\n",
    "# Nan값을 S로 치환한다.\n",
    "for dataset in full_data:\n",
    "    dataset['Embarked'] = dataset['Embarked'].fillna('S')\n",
    "    \n",
    "# Nan값을 평균값으로 취소한다.\n",
    "for dataset in full_data:\n",
    "    dataset['Fare'] = dataset['Fare'].fillna(train['Fare'].median())\n",
    "    \n",
    "train['CategoricalFare'] = pd.qcut(train['Fare'], 4)\n",
    "print(train['CategoricalFare'].values)\n",
    "# Create a New feature CategoricalAge\n",
    "# qcut는 같은 갯수로 나눔\n",
    "# cut은 실수값의 경계선으로 자름\n",
    "\n",
    "for dataset in full_data:\n",
    "    age_avg = dataset['Age'].mean()   # 평균\n",
    "    age_std = dataset['Age'].std()    # 표준편차 구하기 : 분산의 제곱근\n",
    "    age_null_count = dataset['Age'].isnull().sum()\n",
    "    print(\"start random age {0}\".format(age_avg - age_std))\n",
    "    print(\"end random age {0}\".format(age_avg + age_std))\n",
    "    \n",
    "    #nan값을 처리 하는 로직.\n",
    "    age_null_random_list = np.random.randint(age_avg - age_std, age_avg + age_std, size=age_null_count)\n",
    "    dataset['Age'][np.isnan(dataset['Age'])] = age_null_random_list\n",
    "    dataset['Age'] = dataset['Age'].astype(int)\n",
    "train['CategoricalAge'] = pd.cut(train['Age'], 5)\n",
    "print(pd.cut(train['Age'], 5).values)\n",
    "\n",
    "# 정규식을 통해서 Lady.Dr Major등을 추출함\n",
    "def get_title(name):\n",
    "    title_search = re.search(' ([A-Za-z]+)\\.', name)\n",
    "    # If the title exists, extract and return it.\n",
    "    if title_search:\n",
    "        return title_search.group(1)\n",
    "    return \"\"\n",
    "\n",
    "print(get_title('Cumings, Mrs. John Bradley (Florence Briggs Th...'))\n",
    "\n",
    "# Title 컬럼 생성\n",
    "# Create a new feature Title, containing the titles of passenger names\n",
    "for dataset in full_data:\n",
    "    dataset['Title'] = dataset['Name'].apply(get_title)\n",
    "# Group all non-common titles into one single grouping \"Rare\"\n",
    "for dataset in full_data:\n",
    "    dataset['Title'] = dataset['Title'].replace(['Lady', 'Countess','Capt', 'Col','Don', 'Dr', 'Major', 'Rev', 'Sir', 'Jonkheer', 'Dona'], 'Rare')\n",
    "\n",
    "    dataset['Title'] = dataset['Title'].replace('Mlle', 'Miss')\n",
    "    dataset['Title'] = dataset['Title'].replace('Ms', 'Miss')\n",
    "    dataset['Title'] = dataset['Title'].replace('Mme', 'Mrs')\n",
    "\n",
    "print(dataset['Title'].head(3) )\n",
    "\n",
    "for dataset in full_data:\n",
    "    # Mapping Sex\n",
    "    dataset['Sex'] = dataset['Sex'].map( {'female': 0, 'male': 1} ).astype(int)\n",
    "    \n",
    "    # Mapping titles\n",
    "    title_mapping = {\"Mr\": 1, \"Miss\": 2, \"Mrs\": 3, \"Master\": 4, \"Rare\": 5}\n",
    "    dataset['Title'] = dataset['Title'].map(title_mapping)\n",
    "    dataset['Title'] = dataset['Title'].fillna(0)\n",
    "    \n",
    "    # Mapping Embarked\n",
    "    dataset['Embarked'] = dataset['Embarked'].map( {'S': 0, 'C': 1, 'Q': 2} ).astype(int)\n",
    "    \n",
    "    # Mapping Fare\n",
    "    dataset.loc[ dataset['Fare'] <= 7.91, 'Fare'] \t\t\t\t\t\t        = 0\n",
    "    dataset.loc[(dataset['Fare'] > 7.91) & (dataset['Fare'] <= 14.454), 'Fare'] = 1\n",
    "    dataset.loc[(dataset['Fare'] > 14.454) & (dataset['Fare'] <= 31), 'Fare']   = 2\n",
    "    dataset.loc[ dataset['Fare'] > 31, 'Fare'] \t\t\t\t\t\t\t        = 3\n",
    "    dataset['Fare'] = dataset['Fare'].astype(int)\n",
    "    \n",
    "    # Mapping Age\n",
    "    dataset.loc[ dataset['Age'] <= 16, 'Age'] \t\t\t\t\t       = 0\n",
    "    dataset.loc[(dataset['Age'] > 16) & (dataset['Age'] <= 32), 'Age'] = 1\n",
    "    dataset.loc[(dataset['Age'] > 32) & (dataset['Age'] <= 48), 'Age'] = 2\n",
    "    dataset.loc[(dataset['Age'] > 48) & (dataset['Age'] <= 64), 'Age'] = 3\n",
    "    dataset.loc[ dataset['Age'] > 64, 'Age'] ;\n",
    "\n",
    "print(train['Title'].head(3))\n",
    "print(train['Embarked'].head(3))\n",
    "print(train['Fare'].head(3))\n",
    "\n",
    "# Feature selection\n",
    "drop_elements = ['PassengerId', 'Name', 'Ticket', 'Cabin', 'SibSp']\n",
    "train = train.drop(drop_elements, axis = 1)\n",
    "train = train.drop(['CategoricalAge', 'CategoricalFare'], axis = 1)\n",
    "test  = test.drop(drop_elements, axis = 1)"
   ]
  },
  {
   "cell_type": "code",
   "execution_count": 4,
   "metadata": {
    "collapsed": false
   },
   "outputs": [
    {
     "data": {
      "text/html": [
       "<div>\n",
       "<table border=\"1\" class=\"dataframe\">\n",
       "  <thead>\n",
       "    <tr style=\"text-align: right;\">\n",
       "      <th></th>\n",
       "      <th>Survived</th>\n",
       "      <th>Pclass</th>\n",
       "      <th>Sex</th>\n",
       "      <th>Age</th>\n",
       "      <th>Parch</th>\n",
       "      <th>Fare</th>\n",
       "      <th>Embarked</th>\n",
       "      <th>Name_length</th>\n",
       "      <th>Has_Cabin</th>\n",
       "      <th>FamilySize</th>\n",
       "      <th>IsAlone</th>\n",
       "      <th>Title</th>\n",
       "    </tr>\n",
       "  </thead>\n",
       "  <tbody>\n",
       "    <tr>\n",
       "      <th>0</th>\n",
       "      <td>0</td>\n",
       "      <td>3</td>\n",
       "      <td>1</td>\n",
       "      <td>1</td>\n",
       "      <td>0</td>\n",
       "      <td>0</td>\n",
       "      <td>0</td>\n",
       "      <td>23</td>\n",
       "      <td>0</td>\n",
       "      <td>2</td>\n",
       "      <td>0</td>\n",
       "      <td>1</td>\n",
       "    </tr>\n",
       "    <tr>\n",
       "      <th>1</th>\n",
       "      <td>1</td>\n",
       "      <td>1</td>\n",
       "      <td>0</td>\n",
       "      <td>2</td>\n",
       "      <td>0</td>\n",
       "      <td>3</td>\n",
       "      <td>1</td>\n",
       "      <td>51</td>\n",
       "      <td>1</td>\n",
       "      <td>2</td>\n",
       "      <td>0</td>\n",
       "      <td>3</td>\n",
       "    </tr>\n",
       "    <tr>\n",
       "      <th>2</th>\n",
       "      <td>1</td>\n",
       "      <td>3</td>\n",
       "      <td>0</td>\n",
       "      <td>1</td>\n",
       "      <td>0</td>\n",
       "      <td>1</td>\n",
       "      <td>0</td>\n",
       "      <td>22</td>\n",
       "      <td>0</td>\n",
       "      <td>1</td>\n",
       "      <td>1</td>\n",
       "      <td>2</td>\n",
       "    </tr>\n",
       "  </tbody>\n",
       "</table>\n",
       "</div>"
      ],
      "text/plain": [
       "   Survived  Pclass  Sex  Age  Parch  Fare  Embarked  Name_length  Has_Cabin  \\\n",
       "0         0       3    1    1      0     0         0           23          0   \n",
       "1         1       1    0    2      0     3         1           51          1   \n",
       "2         1       3    0    1      0     1         0           22          0   \n",
       "\n",
       "   FamilySize  IsAlone  Title  \n",
       "0           2        0      1  \n",
       "1           2        0      3  \n",
       "2           1        1      2  "
      ]
     },
     "execution_count": 4,
     "metadata": {},
     "output_type": "execute_result"
    }
   ],
   "source": [
    "train.head(3)"
   ]
  },
  {
   "cell_type": "code",
   "execution_count": 5,
   "metadata": {
    "collapsed": false
   },
   "outputs": [
    {
     "data": {
      "text/plain": [
       "<matplotlib.axes._subplots.AxesSubplot at 0x7fbb38541470>"
      ]
     },
     "execution_count": 5,
     "metadata": {},
     "output_type": "execute_result"
    },
    {
     "data": {
      "image/png": "[encoded data removed]",
      "text/plain": [
       "<matplotlib.figure.Figure at 0x7fbb38541630>"
      ]
     },
     "metadata": {},
     "output_type": "display_data"
    }
   ],
   "source": [
    "#상관관계를 살펴보자.\n",
    "# Pandas에서 corr()를 통해서 상관계수를 알수 있다.\n",
    "# 1, -1에 가까울수록 양과 음의 선형관계를 갖는다.\n",
    "# 0이면 선형관계가 없다.\n",
    "# 아래에서 Parch와 Failimy size가 상관관계가 높다.\n",
    "# 각변수들 간에 중복되거나 불필요한 정보가 없다.\n",
    "\n",
    "\n",
    "colormap = plt.cm.viridis #color map 생성\n",
    "plt.figure(figsize=(12,12))\n",
    "plt.title('Pearson Correlation of Features', y=1.05, size=15)\n",
    "#print(train.astype(float).corr())\n",
    "sns.heatmap(train.astype(float).corr(),linewidths=0.1,vmax=1.0, square=True, cmap=colormap, linecolor='white', annot=True)"
   ]
  },
  {
   "cell_type": "code",
   "execution_count": 6,
   "metadata": {
    "collapsed": false
   },
   "outputs": [
    {
     "data": {
      "text/plain": [
       "<seaborn.axisgrid.PairGrid at 0x7fbb34cc49b0>"
      ]
     },
     "execution_count": 6,
     "metadata": {},
     "output_type": "execute_result"
    },
    {
     "data": {
      "image/png": "[encoded data removed]",
      "text/plain": [
       "<matplotlib.figure.Figure at 0x7fbb34cc4a20>"
      ]
     },
     "metadata": {},
     "output_type": "display_data"
    }
   ],
   "source": [
    "g = sns.pairplot(train[[u'Survived', u'Pclass', u'Sex', u'Age', u'Parch', u'Fare', u'Embarked',\n",
    "       u'FamilySize', u'Title']], hue='Survived', palette = 'seismic',size=1.2,diag_kind = 'kde',diag_kws=dict(shade=True),plot_kws=dict(s=10) )\n",
    "g.set(xticklabels=[])"
   ]
  },
  {
   "cell_type": "markdown",
   "metadata": {},
   "source": [
    "# Helper class & Kfold\n",
    "\n",
    " - 여러 classfier를 사용하기 위한 helper 클래스를 만든다.\n",
    " "
   ]
  },
  {
   "cell_type": "code",
   "execution_count": 7,
   "metadata": {
    "collapsed": true
   },
   "outputs": [],
   "source": [
    "# Some useful parameters which will come in handy later on\n",
    "ntrain = train.shape[0]\n",
    "ntest = test.shape[0]\n",
    "SEED = 0 # for reproducibility\n",
    "NFOLDS = 5 # set folds for out-of-fold prediction\n",
    "kf = KFold(ntrain, n_folds= NFOLDS, random_state=SEED)\n",
    "\n",
    "# Class to extend the Sklearn classifier\n",
    "class SklearnHelper(object):\n",
    "    def __init__(self, clf, seed=0, params=None):\n",
    "        params['random_state'] = seed\n",
    "        self.clf = clf(**params)\n",
    "\n",
    "    def train(self, x_train, y_train):\n",
    "        self.clf.fit(x_train, y_train)\n",
    "\n",
    "    def predict(self, x):\n",
    "        return self.clf.predict(x)\n",
    "    \n",
    "    def fit(self,x,y):\n",
    "        return self.clf.fit(x,y)\n",
    "    \n",
    "    def feature_importances(self,x,y):\n",
    "        fi = self.clf.fit(x,y).feature_importances_\n",
    "        print(fi)\n",
    "        return fi\n",
    "    \n",
    "# Class to extend XGboost classifer"
   ]
  },
  {
   "cell_type": "markdown",
   "metadata": {},
   "source": [
    "#  Kfold Train\n",
    " - 트레인을 시켜줄 메소드를 만든다. \n",
    " - Kfold를 사용하여 트레인 데이터를 여러개로 나누어서 트레이닝 한다."
   ]
  },
  {
   "cell_type": "code",
   "execution_count": 8,
   "metadata": {
    "collapsed": false
   },
   "outputs": [],
   "source": [
    "def get_oof(clf, x_train, y_train, x_test):\n",
    "    oof_train = np.zeros((ntrain,))\n",
    "    oof_test = np.zeros((ntest,))\n",
    "    oof_test_skf = np.empty((NFOLDS, ntest))\n",
    "    print(kf)\n",
    "    print(x_train.shape)\n",
    "    print(type(x_train))\n",
    "\n",
    "    for i, (train_index, test_index) in enumerate(kf):\n",
    "        #print(train_index)\n",
    "        print(train_index.shape)\n",
    "        #print(x_train.shape)\n",
    "        x_tr = x_train[train_index]\n",
    "        y_tr = y_train[train_index]\n",
    "        x_te = x_train[test_index]\n",
    "\n",
    "        clf.train(x_tr, y_tr)\n",
    "\n",
    "        oof_train[test_index] = clf.predict(x_te)\n",
    "        oof_test_skf[i, :] = clf.predict(x_test)\n",
    "\n",
    "    oof_test[:] = oof_test_skf.mean(axis=0)\n",
    "    return oof_train.reshape(-1, 1), oof_test.reshape(-1, 1)\n",
    "\n",
    "\n"
   ]
  },
  {
   "cell_type": "markdown",
   "metadata": {},
   "source": [
    "# ensemble model parameter\n",
    "- 총 모델은 5개\n",
    "- Random forest\n",
    "- Extra Tree\n",
    "- AdaBoost\n",
    "- Gradient Boosting\n",
    "- svc"
   ]
  },
  {
   "cell_type": "code",
   "execution_count": 9,
   "metadata": {
    "collapsed": true
   },
   "outputs": [],
   "source": [
    "# Put in our parameters for said classifiers\n",
    "# Random Forest parameters\n",
    "rf_params = {\n",
    "    'n_jobs': -1,\n",
    "    'n_estimators': 500,\n",
    "     'warm_start': True, \n",
    "     #'max_features': 0.2,\n",
    "    'max_depth': 6,\n",
    "    'min_samples_leaf': 2,\n",
    "    'max_features' : 'sqrt',\n",
    "    'verbose': 0\n",
    "}\n",
    "\n",
    "# Extra Trees Parameters\n",
    "et_params = {\n",
    "    'n_jobs': -1,\n",
    "    'n_estimators':500,\n",
    "    #'max_features': 0.5,\n",
    "    'max_depth': 8,\n",
    "    'min_samples_leaf': 2,\n",
    "    'verbose': 0\n",
    "}\n",
    "\n",
    "# AdaBoost parameters\n",
    "ada_params = {\n",
    "    'n_estimators': 500,\n",
    "    'learning_rate' : 0.75\n",
    "}\n",
    "\n",
    "# Gradient Boosting parameters\n",
    "gb_params = {\n",
    "    'n_estimators': 500,\n",
    "     #'max_features': 0.2,\n",
    "    'max_depth': 5,\n",
    "    'min_samples_leaf': 2,\n",
    "    'verbose': 0\n",
    "}\n",
    "\n",
    "# Support Vector Classifier parameters \n",
    "svc_params = {\n",
    "    'kernel' : 'linear',\n",
    "    'C' : 0.025\n",
    "    }"
   ]
  },
  {
   "cell_type": "markdown",
   "metadata": {},
   "source": [
    "# Make model using helper\n",
    "- Helerp로 모델을 만든다.\n",
    "- 훈련 Set을 만든다. Survivied는 label이므로 제거"
   ]
  },
  {
   "cell_type": "code",
   "execution_count": 10,
   "metadata": {
    "collapsed": true
   },
   "outputs": [],
   "source": [
    "# Create 5 objects that represent our 4 models\n",
    "rf = SklearnHelper(clf=RandomForestClassifier, seed=SEED, params=rf_params)\n",
    "et = SklearnHelper(clf=ExtraTreesClassifier, seed=SEED, params=et_params)\n",
    "ada = SklearnHelper(clf=AdaBoostClassifier, seed=SEED, params=ada_params)\n",
    "gb = SklearnHelper(clf=GradientBoostingClassifier, seed=SEED, params=gb_params)\n",
    "svc = SklearnHelper(clf=SVC, seed=SEED, params=svc_params)"
   ]
  },
  {
   "cell_type": "code",
   "execution_count": 11,
   "metadata": {
    "collapsed": true
   },
   "outputs": [],
   "source": [
    "# Create Numpy arrays of train, test and target ( Survived) dataframes to feed into our models\n",
    "y_train = train['Survived'].ravel()\n",
    "train = train.drop(['Survived'], axis=1)\n",
    "x_train = train.values # Creates an array of the train data\n",
    "x_test = test.values # Creats an array of the test data"
   ]
  },
  {
   "cell_type": "markdown",
   "metadata": {},
   "source": [
    "# Training\n",
    "- 훈련 을 시작한다."
   ]
  },
  {
   "cell_type": "code",
   "execution_count": 12,
   "metadata": {
    "collapsed": false
   },
   "outputs": [
    {
     "name": "stdout",
     "output_type": "stream",
     "text": [
      "sklearn.cross_validation.KFold(n=891, n_folds=5, shuffle=False, random_state=0)\n",
      "(891, 11)\n",
      "<class 'numpy.ndarray'>\n",
      "(712,)\n",
      "(713,)\n",
      "(713,)\n",
      "(713,)\n",
      "(713,)\n",
      "sklearn.cross_validation.KFold(n=891, n_folds=5, shuffle=False, random_state=0)\n",
      "(891, 11)\n",
      "<class 'numpy.ndarray'>\n",
      "(712,)\n",
      "(713,)\n",
      "(713,)\n",
      "(713,)\n",
      "(713,)\n",
      "sklearn.cross_validation.KFold(n=891, n_folds=5, shuffle=False, random_state=0)\n",
      "(891, 11)\n",
      "<class 'numpy.ndarray'>\n",
      "(712,)\n",
      "(713,)\n",
      "(713,)\n",
      "(713,)\n",
      "(713,)\n",
      "sklearn.cross_validation.KFold(n=891, n_folds=5, shuffle=False, random_state=0)\n",
      "(891, 11)\n",
      "<class 'numpy.ndarray'>\n",
      "(712,)\n",
      "(713,)\n",
      "(713,)\n",
      "(713,)\n",
      "(713,)\n",
      "sklearn.cross_validation.KFold(n=891, n_folds=5, shuffle=False, random_state=0)\n",
      "(891, 11)\n",
      "<class 'numpy.ndarray'>\n",
      "(712,)\n",
      "(713,)\n",
      "(713,)\n",
      "(713,)\n",
      "(713,)\n",
      "Training is complete\n"
     ]
    }
   ],
   "source": [
    "# Create our OOF train and test predictions. These base results will be used as new features\n",
    "et_oof_train, et_oof_test = get_oof(et, x_train, y_train, x_test) # Extra Trees\n",
    "rf_oof_train, rf_oof_test = get_oof(rf,x_train, y_train, x_test) # Random Forest\n",
    "ada_oof_train, ada_oof_test = get_oof(ada, x_train, y_train, x_test) # AdaBoost \n",
    "gb_oof_train, gb_oof_test = get_oof(gb,x_train, y_train, x_test) # Gradient Boost\n",
    "svc_oof_train, svc_oof_test = get_oof(svc,x_train, y_train, x_test) # Support Vector Classifier\n",
    "\n",
    "print(\"Training is complete\")"
   ]
  },
  {
   "cell_type": "markdown",
   "metadata": {},
   "source": [
    "# Explore feature \n",
    "- 모델별로 중요한 Feature를 뽑아 본다.\n",
    "- help class에서 중요 Feature를 뽑는 메소드 사용"
   ]
  },
  {
   "cell_type": "code",
   "execution_count": 13,
   "metadata": {
    "collapsed": false
   },
   "outputs": [
    {
     "name": "stdout",
     "output_type": "stream",
     "text": [
      "[ 0.12559164  0.19886386  0.03178151  0.02081382  0.07143725  0.02353143\n",
      "  0.10882815  0.06398104  0.06707709  0.01402978  0.27406443]\n",
      "[ 0.11983125  0.37778252  0.02331702  0.01776885  0.05595324  0.02747421\n",
      "  0.04710364  0.08437646  0.0457487   0.02200278  0.17864131]\n",
      "[ 0.026  0.01   0.02   0.064  0.04   0.01   0.696  0.014  0.048  0.006\n",
      "  0.066]\n",
      "[ 0.079817    0.03925831  0.10833325  0.02765828  0.11158574  0.05918562\n",
      "  0.37464367  0.02081104  0.06674455  0.02257185  0.08939069]\n"
     ]
    }
   ],
   "source": [
    "rf_features = rf.feature_importances(x_train,y_train)\n",
    "et_features = et.feature_importances(x_train, y_train)\n",
    "ada_features = ada.feature_importances(x_train, y_train)\n",
    "gb_features = gb.feature_importances(x_train,y_train)"
   ]
  },
  {
   "cell_type": "markdown",
   "metadata": {},
   "source": [
    "# Feature import를 Plotting 하게 Dataframe에 저장"
   ]
  },
  {
   "cell_type": "code",
   "execution_count": 17,
   "metadata": {
    "collapsed": false
   },
   "outputs": [
    {
     "name": "stdout",
     "output_type": "stream",
     "text": [
      "    AdaBoost feature importances  Extra Trees  feature importances  \\\n",
      "0                          0.028                          0.119685   \n",
      "1                          0.012                          0.379309   \n",
      "2                          0.020                          0.019269   \n",
      "3                          0.072                          0.016695   \n",
      "4                          0.044                          0.056688   \n",
      "5                          0.010                          0.027951   \n",
      "6                          0.678                          0.046456   \n",
      "7                          0.014                          0.085853   \n",
      "8                          0.050                          0.044973   \n",
      "9                          0.002                          0.021679   \n",
      "10                         0.070                          0.181441   \n",
      "\n",
      "    Gradient Boost feature importances  Random Forest feature importances  \\\n",
      "0                             0.073620                           0.126568   \n",
      "1                             0.031163                           0.201584   \n",
      "2                             0.087744                           0.028925   \n",
      "3                             0.024354                           0.020777   \n",
      "4                             0.102328                           0.071357   \n",
      "5                             0.061991                           0.024699   \n",
      "6                             0.417880                           0.109847   \n",
      "7                             0.027988                           0.063908   \n",
      "8                             0.069017                           0.067241   \n",
      "9                             0.023410                           0.013694   \n",
      "10                            0.080504                           0.271398   \n",
      "\n",
      "       features  \n",
      "0        Pclass  \n",
      "1           Sex  \n",
      "2           Age  \n",
      "3         Parch  \n",
      "4          Fare  \n",
      "5      Embarked  \n",
      "6   Name_length  \n",
      "7     Has_Cabin  \n",
      "8    FamilySize  \n",
      "9       IsAlone  \n",
      "10        Title  \n"
     ]
    }
   ],
   "source": [
    "cols = train.columns.values\n",
    "# Create a dataframe with features\n",
    "feature_dataframe = pd.DataFrame( {'features': cols,\n",
    "     'Random Forest feature importances': rf_features,\n",
    "     'Extra Trees  feature importances': et_features,\n",
    "      'AdaBoost feature importances': ada_features,\n",
    "    'Gradient Boost feature importances': gb_features\n",
    "    })\n",
    "\n",
    "print(feature_dataframe)"
   ]
  },
  {
   "cell_type": "markdown",
   "metadata": {},
   "source": [
    "# plotting"
   ]
  },
  {
   "cell_type": "code",
   "execution_count": 18,
   "metadata": {
    "collapsed": false
   },
   "outputs": [
    {
     "data": {
      "application/vnd.plotly.v1+json": {
       "data": [
        {
         "marker": {
          "color": [
           0.1265681,
           0.20158434,
           0.02892516,
           0.02077716,
           0.07135749,
           0.02469917,
           0.10984703,
           0.06390823,
           0.06724096,
           0.01369392,
           0.27139845
          ],
          "colorscale": "Portland",
          "showscale": true,
          "size": 25,
          "sizemode": "diameter",
          "sizeref": 1
         },
         "mode": "markers",
         "text": [
          "Pclass",
          "Sex",
          "Age",
          "Parch",
          "Fare",
          "Embarked",
          "Name_length",
          "Has_Cabin",
          "FamilySize",
          "IsAlone",
          "Title"
         ],
         "type": "scatter",
         "x": [
          "Pclass",
          "Sex",
          "Age",
          "Parch",
          "Fare",
          "Embarked",
          "Name_length",
          "Has_Cabin",
          "FamilySize",
          "IsAlone",
          "Title"
         ],
         "y": [
          0.1265681,
          0.20158434,
          0.02892516,
          0.02077716,
          0.07135749,
          0.02469917,
          0.10984703,
          0.06390823,
          0.06724096,
          0.01369392,
          0.27139845
         ]
        }
       ],
       "layout": {
        "autosize": true,
        "hovermode": "closest",
        "showlegend": false,
        "title": "Random Forest Feature Importance",
        "yaxis": {
         "gridwidth": 2,
         "ticklen": 5,
         "title": "Feature Importance"
        }
       }
      },
      "text/html": [
       "<div id=\"6c45c7c2-445b-43f4-80fc-6ce06cb6df05\" style=\"height: 525px; width: 100%;\" class=\"plotly-graph-div\"></div><script type=\"text/javascript\">require([\"plotly\"], function(Plotly) { window.PLOTLYENV=window.PLOTLYENV || {};window.PLOTLYENV.BASE_URL=\"https://plot.ly\";Plotly.newPlot(\"6c45c7c2-445b-43f4-80fc-6ce06cb6df05\", [{\"marker\": {\"sizemode\": \"diameter\", \"sizeref\": 1, \"size\": 25, \"colorscale\": \"Portland\", \"showscale\": true, \"color\": [0.1265681, 0.20158434, 0.02892516, 0.02077716, 0.07135749, 0.02469917, 0.10984703, 0.06390823, 0.06724096, 0.01369392, 0.27139845]}, \"text\": [\"Pclass\", \"Sex\", \"Age\", \"Parch\", \"Fare\", \"Embarked\", \"Name_length\", \"Has_Cabin\", \"FamilySize\", \"IsAlone\", \"Title\"], \"mode\": \"markers\", \"x\": [\"Pclass\", \"Sex\", \"Age\", \"Parch\", \"Fare\", \"Embarked\", \"Name_length\", \"Has_Cabin\", \"FamilySize\", \"IsAlone\", \"Title\"], \"type\": \"scatter\", \"y\": [0.1265681, 0.20158434, 0.02892516, 0.02077716, 0.07135749, 0.02469917, 0.10984703, 0.06390823, 0.06724096, 0.01369392, 0.27139845]}], {\"hovermode\": \"closest\", \"title\": \"Random Forest Feature Importance\", \"yaxis\": {\"title\": \"Feature Importance\", \"ticklen\": 5, \"gridwidth\": 2}, \"autosize\": true, \"showlegend\": false}, {\"linkText\": \"Export to plot.ly\", \"showLink\": true})});</script>"
      ],
      "text/vnd.plotly.v1+html": [
       "<div id=\"6c45c7c2-445b-43f4-80fc-6ce06cb6df05\" style=\"height: 525px; width: 100%;\" class=\"plotly-graph-div\"></div><script type=\"text/javascript\">require([\"plotly\"], function(Plotly) { window.PLOTLYENV=window.PLOTLYENV || {};window.PLOTLYENV.BASE_URL=\"https://plot.ly\";Plotly.newPlot(\"6c45c7c2-445b-43f4-80fc-6ce06cb6df05\", [{\"marker\": {\"sizemode\": \"diameter\", \"sizeref\": 1, \"size\": 25, \"colorscale\": \"Portland\", \"showscale\": true, \"color\": [0.1265681, 0.20158434, 0.02892516, 0.02077716, 0.07135749, 0.02469917, 0.10984703, 0.06390823, 0.06724096, 0.01369392, 0.27139845]}, \"text\": [\"Pclass\", \"Sex\", \"Age\", \"Parch\", \"Fare\", \"Embarked\", \"Name_length\", \"Has_Cabin\", \"FamilySize\", \"IsAlone\", \"Title\"], \"mode\": \"markers\", \"x\": [\"Pclass\", \"Sex\", \"Age\", \"Parch\", \"Fare\", \"Embarked\", \"Name_length\", \"Has_Cabin\", \"FamilySize\", \"IsAlone\", \"Title\"], \"type\": \"scatter\", \"y\": [0.1265681, 0.20158434, 0.02892516, 0.02077716, 0.07135749, 0.02469917, 0.10984703, 0.06390823, 0.06724096, 0.01369392, 0.27139845]}], {\"hovermode\": \"closest\", \"title\": \"Random Forest Feature Importance\", \"yaxis\": {\"title\": \"Feature Importance\", \"ticklen\": 5, \"gridwidth\": 2}, \"autosize\": true, \"showlegend\": false}, {\"linkText\": \"Export to plot.ly\", \"showLink\": true})});</script>"
      ]
     },
     "metadata": {},
     "output_type": "display_data"
    }
   ],
   "source": [
    "# Scatter plot \n",
    "trace = go.Scatter(\n",
    "    y = feature_dataframe['Random Forest feature importances'].values,\n",
    "    x = feature_dataframe['features'].values,\n",
    "    mode='markers',\n",
    "    marker=dict(\n",
    "        sizemode = 'diameter',\n",
    "        sizeref = 1,\n",
    "        size = 25,\n",
    "#       size= feature_dataframe['AdaBoost feature importances'].values,\n",
    "        #color = np.random.randn(500), #set color equal to a variable\n",
    "        color = feature_dataframe['Random Forest feature importances'].values,\n",
    "        colorscale='Portland',\n",
    "        showscale=True\n",
    "    ),\n",
    "    text = feature_dataframe['features'].values\n",
    ")\n",
    "data = [trace]\n",
    "\n",
    "layout= go.Layout(\n",
    "    autosize= True,\n",
    "    title= 'Random Forest Feature Importance',\n",
    "    hovermode= 'closest',\n",
    "#     xaxis= dict(\n",
    "#         title= 'Pop',\n",
    "#         ticklen= 5,\n",
    "#         zeroline= False,\n",
    "#         gridwidth= 2,\n",
    "#     ),\n",
    "    yaxis=dict(\n",
    "        title= 'Feature Importance',\n",
    "        ticklen= 5,\n",
    "        gridwidth= 2\n",
    "    ),\n",
    "    showlegend= False\n",
    ")\n",
    "fig = go.Figure(data=data, layout=layout)\n",
    "py.iplot(fig,filename='scatter2010')\n"
   ]
  },
  {
   "cell_type": "code",
   "execution_count": 19,
   "metadata": {
    "collapsed": false
   },
   "outputs": [
    {
     "data": {
      "application/vnd.plotly.v1+json": {
       "data": [
        {
         "marker": {
          "color": [
           0.1196852,
           0.37930873,
           0.01926925,
           0.01669528,
           0.05668834,
           0.02795143,
           0.04645581,
           0.08585252,
           0.04497315,
           0.02167947,
           0.18144082
          ],
          "colorscale": "Portland",
          "showscale": true,
          "size": 25,
          "sizemode": "diameter",
          "sizeref": 1
         },
         "mode": "markers",
         "text": [
          "Pclass",
          "Sex",
          "Age",
          "Parch",
          "Fare",
          "Embarked",
          "Name_length",
          "Has_Cabin",
          "FamilySize",
          "IsAlone",
          "Title"
         ],
         "type": "scatter",
         "x": [
          "Pclass",
          "Sex",
          "Age",
          "Parch",
          "Fare",
          "Embarked",
          "Name_length",
          "Has_Cabin",
          "FamilySize",
          "IsAlone",
          "Title"
         ],
         "y": [
          0.1196852,
          0.37930873,
          0.01926925,
          0.01669528,
          0.05668834,
          0.02795143,
          0.04645581,
          0.08585252,
          0.04497315,
          0.02167947,
          0.18144082
         ]
        }
       ],
       "layout": {
        "autosize": true,
        "hovermode": "closest",
        "showlegend": false,
        "title": "Extra Trees Feature Importance",
        "yaxis": {
         "gridwidth": 2,
         "ticklen": 5,
         "title": "Feature Importance"
        }
       }
      },
      "text/html": [
       "<div id=\"faf2c519-3889-4caa-ab34-b245e9222ac4\" style=\"height: 525px; width: 100%;\" class=\"plotly-graph-div\"></div><script type=\"text/javascript\">require([\"plotly\"], function(Plotly) { window.PLOTLYENV=window.PLOTLYENV || {};window.PLOTLYENV.BASE_URL=\"https://plot.ly\";Plotly.newPlot(\"faf2c519-3889-4caa-ab34-b245e9222ac4\", [{\"marker\": {\"sizemode\": \"diameter\", \"sizeref\": 1, \"size\": 25, \"colorscale\": \"Portland\", \"showscale\": true, \"color\": [0.1196852, 0.37930873, 0.01926925, 0.01669528, 0.05668834, 0.02795143, 0.04645581, 0.08585252, 0.04497315, 0.02167947, 0.18144082]}, \"text\": [\"Pclass\", \"Sex\", \"Age\", \"Parch\", \"Fare\", \"Embarked\", \"Name_length\", \"Has_Cabin\", \"FamilySize\", \"IsAlone\", \"Title\"], \"mode\": \"markers\", \"x\": [\"Pclass\", \"Sex\", \"Age\", \"Parch\", \"Fare\", \"Embarked\", \"Name_length\", \"Has_Cabin\", \"FamilySize\", \"IsAlone\", \"Title\"], \"type\": \"scatter\", \"y\": [0.1196852, 0.37930873, 0.01926925, 0.01669528, 0.05668834, 0.02795143, 0.04645581, 0.08585252, 0.04497315, 0.02167947, 0.18144082]}], {\"hovermode\": \"closest\", \"title\": \"Extra Trees Feature Importance\", \"yaxis\": {\"title\": \"Feature Importance\", \"ticklen\": 5, \"gridwidth\": 2}, \"autosize\": true, \"showlegend\": false}, {\"linkText\": \"Export to plot.ly\", \"showLink\": true})});</script>"
      ],
      "text/vnd.plotly.v1+html": [
       "<div id=\"faf2c519-3889-4caa-ab34-b245e9222ac4\" style=\"height: 525px; width: 100%;\" class=\"plotly-graph-div\"></div><script type=\"text/javascript\">require([\"plotly\"], function(Plotly) { window.PLOTLYENV=window.PLOTLYENV || {};window.PLOTLYENV.BASE_URL=\"https://plot.ly\";Plotly.newPlot(\"faf2c519-3889-4caa-ab34-b245e9222ac4\", [{\"marker\": {\"sizemode\": \"diameter\", \"sizeref\": 1, \"size\": 25, \"colorscale\": \"Portland\", \"showscale\": true, \"color\": [0.1196852, 0.37930873, 0.01926925, 0.01669528, 0.05668834, 0.02795143, 0.04645581, 0.08585252, 0.04497315, 0.02167947, 0.18144082]}, \"text\": [\"Pclass\", \"Sex\", \"Age\", \"Parch\", \"Fare\", \"Embarked\", \"Name_length\", \"Has_Cabin\", \"FamilySize\", \"IsAlone\", \"Title\"], \"mode\": \"markers\", \"x\": [\"Pclass\", \"Sex\", \"Age\", \"Parch\", \"Fare\", \"Embarked\", \"Name_length\", \"Has_Cabin\", \"FamilySize\", \"IsAlone\", \"Title\"], \"type\": \"scatter\", \"y\": [0.1196852, 0.37930873, 0.01926925, 0.01669528, 0.05668834, 0.02795143, 0.04645581, 0.08585252, 0.04497315, 0.02167947, 0.18144082]}], {\"hovermode\": \"closest\", \"title\": \"Extra Trees Feature Importance\", \"yaxis\": {\"title\": \"Feature Importance\", \"ticklen\": 5, \"gridwidth\": 2}, \"autosize\": true, \"showlegend\": false}, {\"linkText\": \"Export to plot.ly\", \"showLink\": true})});</script>"
      ]
     },
     "metadata": {},
     "output_type": "display_data"
    }
   ],
   "source": [
    "# Scatter plot \n",
    "trace = go.Scatter(\n",
    "    y = feature_dataframe['Extra Trees  feature importances'].values,\n",
    "    x = feature_dataframe['features'].values,\n",
    "    mode='markers',\n",
    "    marker=dict(\n",
    "        sizemode = 'diameter',\n",
    "        sizeref = 1,\n",
    "        size = 25,\n",
    "#       size= feature_dataframe['AdaBoost feature importances'].values,\n",
    "        #color = np.random.randn(500), #set color equal to a variable\n",
    "        color = feature_dataframe['Extra Trees  feature importances'].values,\n",
    "        colorscale='Portland',\n",
    "        showscale=True\n",
    "    ),\n",
    "    text = feature_dataframe['features'].values\n",
    ")\n",
    "data = [trace]\n",
    "\n",
    "layout= go.Layout(\n",
    "    autosize= True,\n",
    "    title= 'Extra Trees Feature Importance',\n",
    "    hovermode= 'closest',\n",
    "#     xaxis= dict(\n",
    "#         title= 'Pop',\n",
    "#         ticklen= 5,\n",
    "#         zeroline= False,\n",
    "#         gridwidth= 2,\n",
    "#     ),\n",
    "    yaxis=dict(\n",
    "        title= 'Feature Importance',\n",
    "        ticklen= 5,\n",
    "        gridwidth= 2\n",
    "    ),\n",
    "    showlegend= False\n",
    ")\n",
    "fig = go.Figure(data=data, layout=layout)\n",
    "py.iplot(fig,filename='scatter2010')\n"
   ]
  },
  {
   "cell_type": "code",
   "execution_count": 20,
   "metadata": {
    "collapsed": false
   },
   "outputs": [
    {
     "data": {
      "application/vnd.plotly.v1+json": {
       "data": [
        {
         "marker": {
          "color": [
           0.028,
           0.012,
           0.02,
           0.072,
           0.044,
           0.01,
           0.678,
           0.014,
           0.05,
           0.002,
           0.07
          ],
          "colorscale": "Portland",
          "showscale": true,
          "size": 25,
          "sizemode": "diameter",
          "sizeref": 1
         },
         "mode": "markers",
         "text": [
          "Pclass",
          "Sex",
          "Age",
          "Parch",
          "Fare",
          "Embarked",
          "Name_length",
          "Has_Cabin",
          "FamilySize",
          "IsAlone",
          "Title"
         ],
         "type": "scatter",
         "x": [
          "Pclass",
          "Sex",
          "Age",
          "Parch",
          "Fare",
          "Embarked",
          "Name_length",
          "Has_Cabin",
          "FamilySize",
          "IsAlone",
          "Title"
         ],
         "y": [
          0.028,
          0.012,
          0.02,
          0.072,
          0.044,
          0.01,
          0.678,
          0.014,
          0.05,
          0.002,
          0.07
         ]
        }
       ],
       "layout": {
        "autosize": true,
        "hovermode": "closest",
        "showlegend": false,
        "title": "AdaBoost Feature Importance",
        "yaxis": {
         "gridwidth": 2,
         "ticklen": 5,
         "title": "Feature Importance"
        }
       }
      },
      "text/html": [
       "<div id=\"1a66f6da-7607-479c-bcf5-2a9719cf13f7\" style=\"height: 525px; width: 100%;\" class=\"plotly-graph-div\"></div><script type=\"text/javascript\">require([\"plotly\"], function(Plotly) { window.PLOTLYENV=window.PLOTLYENV || {};window.PLOTLYENV.BASE_URL=\"https://plot.ly\";Plotly.newPlot(\"1a66f6da-7607-479c-bcf5-2a9719cf13f7\", [{\"marker\": {\"sizemode\": \"diameter\", \"sizeref\": 1, \"size\": 25, \"colorscale\": \"Portland\", \"showscale\": true, \"color\": [0.028, 0.012, 0.02, 0.072, 0.044, 0.01, 0.678, 0.014, 0.05, 0.002, 0.07]}, \"text\": [\"Pclass\", \"Sex\", \"Age\", \"Parch\", \"Fare\", \"Embarked\", \"Name_length\", \"Has_Cabin\", \"FamilySize\", \"IsAlone\", \"Title\"], \"mode\": \"markers\", \"x\": [\"Pclass\", \"Sex\", \"Age\", \"Parch\", \"Fare\", \"Embarked\", \"Name_length\", \"Has_Cabin\", \"FamilySize\", \"IsAlone\", \"Title\"], \"type\": \"scatter\", \"y\": [0.028, 0.012, 0.02, 0.072, 0.044, 0.01, 0.678, 0.014, 0.05, 0.002, 0.07]}], {\"hovermode\": \"closest\", \"title\": \"AdaBoost Feature Importance\", \"yaxis\": {\"title\": \"Feature Importance\", \"ticklen\": 5, \"gridwidth\": 2}, \"autosize\": true, \"showlegend\": false}, {\"linkText\": \"Export to plot.ly\", \"showLink\": true})});</script>"
      ],
      "text/vnd.plotly.v1+html": [
       "<div id=\"1a66f6da-7607-479c-bcf5-2a9719cf13f7\" style=\"height: 525px; width: 100%;\" class=\"plotly-graph-div\"></div><script type=\"text/javascript\">require([\"plotly\"], function(Plotly) { window.PLOTLYENV=window.PLOTLYENV || {};window.PLOTLYENV.BASE_URL=\"https://plot.ly\";Plotly.newPlot(\"1a66f6da-7607-479c-bcf5-2a9719cf13f7\", [{\"marker\": {\"sizemode\": \"diameter\", \"sizeref\": 1, \"size\": 25, \"colorscale\": \"Portland\", \"showscale\": true, \"color\": [0.028, 0.012, 0.02, 0.072, 0.044, 0.01, 0.678, 0.014, 0.05, 0.002, 0.07]}, \"text\": [\"Pclass\", \"Sex\", \"Age\", \"Parch\", \"Fare\", \"Embarked\", \"Name_length\", \"Has_Cabin\", \"FamilySize\", \"IsAlone\", \"Title\"], \"mode\": \"markers\", \"x\": [\"Pclass\", \"Sex\", \"Age\", \"Parch\", \"Fare\", \"Embarked\", \"Name_length\", \"Has_Cabin\", \"FamilySize\", \"IsAlone\", \"Title\"], \"type\": \"scatter\", \"y\": [0.028, 0.012, 0.02, 0.072, 0.044, 0.01, 0.678, 0.014, 0.05, 0.002, 0.07]}], {\"hovermode\": \"closest\", \"title\": \"AdaBoost Feature Importance\", \"yaxis\": {\"title\": \"Feature Importance\", \"ticklen\": 5, \"gridwidth\": 2}, \"autosize\": true, \"showlegend\": false}, {\"linkText\": \"Export to plot.ly\", \"showLink\": true})});</script>"
      ]
     },
     "metadata": {},
     "output_type": "display_data"
    }
   ],
   "source": [
    "# Scatter plot \n",
    "trace = go.Scatter(\n",
    "    y = feature_dataframe['AdaBoost feature importances'].values,\n",
    "    x = feature_dataframe['features'].values,\n",
    "    mode='markers',\n",
    "    marker=dict(\n",
    "        sizemode = 'diameter',\n",
    "        sizeref = 1,\n",
    "        size = 25,\n",
    "#       size= feature_dataframe['AdaBoost feature importances'].values,\n",
    "        #color = np.random.randn(500), #set color equal to a variable\n",
    "        color = feature_dataframe['AdaBoost feature importances'].values,\n",
    "        colorscale='Portland',\n",
    "        showscale=True\n",
    "    ),\n",
    "    text = feature_dataframe['features'].values\n",
    ")\n",
    "data = [trace]\n",
    "\n",
    "layout= go.Layout(\n",
    "    autosize= True,\n",
    "    title= 'AdaBoost Feature Importance',\n",
    "    hovermode= 'closest',\n",
    "#     xaxis= dict(\n",
    "#         title= 'Pop',\n",
    "#         ticklen= 5,\n",
    "#         zeroline= False,\n",
    "#         gridwidth= 2,\n",
    "#     ),\n",
    "    yaxis=dict(\n",
    "        title= 'Feature Importance',\n",
    "        ticklen= 5,\n",
    "        gridwidth= 2\n",
    "    ),\n",
    "    showlegend= False\n",
    ")\n",
    "fig = go.Figure(data=data, layout=layout)\n",
    "py.iplot(fig,filename='scatter2010')\n"
   ]
  },
  {
   "cell_type": "code",
   "execution_count": 21,
   "metadata": {
    "collapsed": false,
    "scrolled": true
   },
   "outputs": [
    {
     "data": {
      "application/vnd.plotly.v1+json": {
       "data": [
        {
         "marker": {
          "color": [
           0.07362041,
           0.03116297,
           0.08774435,
           0.0243537,
           0.10232843,
           0.06199094,
           0.41787963,
           0.02798762,
           0.06901712,
           0.02341047,
           0.08050436
          ],
          "colorscale": "Portland",
          "showscale": true,
          "size": 25,
          "sizemode": "diameter",
          "sizeref": 1
         },
         "mode": "markers",
         "text": [
          "Pclass",
          "Sex",
          "Age",
          "Parch",
          "Fare",
          "Embarked",
          "Name_length",
          "Has_Cabin",
          "FamilySize",
          "IsAlone",
          "Title"
         ],
         "type": "scatter",
         "x": [
          "Pclass",
          "Sex",
          "Age",
          "Parch",
          "Fare",
          "Embarked",
          "Name_length",
          "Has_Cabin",
          "FamilySize",
          "IsAlone",
          "Title"
         ],
         "y": [
          0.07362041,
          0.03116297,
          0.08774435,
          0.0243537,
          0.10232843,
          0.06199094,
          0.41787963,
          0.02798762,
          0.06901712,
          0.02341047,
          0.08050436
         ]
        }
       ],
       "layout": {
        "autosize": true,
        "hovermode": "closest",
        "showlegend": false,
        "title": "Gradient Boosting Feature Importance",
        "yaxis": {
         "gridwidth": 2,
         "ticklen": 5,
         "title": "Feature Importance"
        }
       }
      },
      "text/html": [
       "<div id=\"560da27d-5c42-4c78-aa87-fcd188abd12f\" style=\"height: 525px; width: 100%;\" class=\"plotly-graph-div\"></div><script type=\"text/javascript\">require([\"plotly\"], function(Plotly) { window.PLOTLYENV=window.PLOTLYENV || {};window.PLOTLYENV.BASE_URL=\"https://plot.ly\";Plotly.newPlot(\"560da27d-5c42-4c78-aa87-fcd188abd12f\", [{\"marker\": {\"sizemode\": \"diameter\", \"sizeref\": 1, \"size\": 25, \"colorscale\": \"Portland\", \"showscale\": true, \"color\": [0.07362041, 0.03116297, 0.08774435, 0.0243537, 0.10232843, 0.06199094, 0.41787963, 0.02798762, 0.06901712, 0.02341047, 0.08050436]}, \"text\": [\"Pclass\", \"Sex\", \"Age\", \"Parch\", \"Fare\", \"Embarked\", \"Name_length\", \"Has_Cabin\", \"FamilySize\", \"IsAlone\", \"Title\"], \"mode\": \"markers\", \"x\": [\"Pclass\", \"Sex\", \"Age\", \"Parch\", \"Fare\", \"Embarked\", \"Name_length\", \"Has_Cabin\", \"FamilySize\", \"IsAlone\", \"Title\"], \"type\": \"scatter\", \"y\": [0.07362041, 0.03116297, 0.08774435, 0.0243537, 0.10232843, 0.06199094, 0.41787963, 0.02798762, 0.06901712, 0.02341047, 0.08050436]}], {\"hovermode\": \"closest\", \"title\": \"Gradient Boosting Feature Importance\", \"yaxis\": {\"title\": \"Feature Importance\", \"ticklen\": 5, \"gridwidth\": 2}, \"autosize\": true, \"showlegend\": false}, {\"linkText\": \"Export to plot.ly\", \"showLink\": true})});</script>"
      ],
      "text/vnd.plotly.v1+html": [
       "<div id=\"560da27d-5c42-4c78-aa87-fcd188abd12f\" style=\"height: 525px; width: 100%;\" class=\"plotly-graph-div\"></div><script type=\"text/javascript\">require([\"plotly\"], function(Plotly) { window.PLOTLYENV=window.PLOTLYENV || {};window.PLOTLYENV.BASE_URL=\"https://plot.ly\";Plotly.newPlot(\"560da27d-5c42-4c78-aa87-fcd188abd12f\", [{\"marker\": {\"sizemode\": \"diameter\", \"sizeref\": 1, \"size\": 25, \"colorscale\": \"Portland\", \"showscale\": true, \"color\": [0.07362041, 0.03116297, 0.08774435, 0.0243537, 0.10232843, 0.06199094, 0.41787963, 0.02798762, 0.06901712, 0.02341047, 0.08050436]}, \"text\": [\"Pclass\", \"Sex\", \"Age\", \"Parch\", \"Fare\", \"Embarked\", \"Name_length\", \"Has_Cabin\", \"FamilySize\", \"IsAlone\", \"Title\"], \"mode\": \"markers\", \"x\": [\"Pclass\", \"Sex\", \"Age\", \"Parch\", \"Fare\", \"Embarked\", \"Name_length\", \"Has_Cabin\", \"FamilySize\", \"IsAlone\", \"Title\"], \"type\": \"scatter\", \"y\": [0.07362041, 0.03116297, 0.08774435, 0.0243537, 0.10232843, 0.06199094, 0.41787963, 0.02798762, 0.06901712, 0.02341047, 0.08050436]}], {\"hovermode\": \"closest\", \"title\": \"Gradient Boosting Feature Importance\", \"yaxis\": {\"title\": \"Feature Importance\", \"ticklen\": 5, \"gridwidth\": 2}, \"autosize\": true, \"showlegend\": false}, {\"linkText\": \"Export to plot.ly\", \"showLink\": true})});</script>"
      ]
     },
     "metadata": {},
     "output_type": "display_data"
    }
   ],
   "source": [
    "# Scatter plot \n",
    "trace = go.Scatter(\n",
    "    y = feature_dataframe['Gradient Boost feature importances'].values,\n",
    "    x = feature_dataframe['features'].values,\n",
    "    mode='markers',\n",
    "    marker=dict(\n",
    "        sizemode = 'diameter',\n",
    "        sizeref = 1,\n",
    "        size = 25,\n",
    "#       size= feature_dataframe['AdaBoost feature importances'].values,\n",
    "        #color = np.random.randn(500), #set color equal to a variable\n",
    "        color = feature_dataframe['Gradient Boost feature importances'].values,\n",
    "        colorscale='Portland',\n",
    "        showscale=True\n",
    "    ),\n",
    "    text = feature_dataframe['features'].values\n",
    ")\n",
    "data = [trace]\n",
    "\n",
    "\n",
    "\n",
    "layout= go.Layout(\n",
    "    autosize= True,\n",
    "    title= 'Gradient Boosting Feature Importance',\n",
    "    hovermode= 'closest',\n",
    "#     xaxis= dict(\n",
    "#         title= 'Pop',\n",
    "#         ticklen= 5,\n",
    "#         zeroline= False,\n",
    "#         gridwidth= 2,\n",
    "#     ),\n",
    "    yaxis=dict(\n",
    "        title= 'Feature Importance',\n",
    "        ticklen= 5,\n",
    "        gridwidth= 2\n",
    "    ),\n",
    "    showlegend= False\n",
    ")\n",
    "\n",
    "fig = go.Figure(data=data, layout=layout)\n",
    "py.iplot(fig,filename='scatter2010')"
   ]
  },
  {
   "cell_type": "markdown",
   "metadata": {},
   "source": [
    "# Adding New Feature"
   ]
  },
  {
   "cell_type": "code",
   "execution_count": 23,
   "metadata": {
    "collapsed": false
   },
   "outputs": [
    {
     "name": "stdout",
     "output_type": "stream",
     "text": [
      "(11, 6)\n",
      "   AdaBoost feature importances  Extra Trees  feature importances  \\\n",
      "0                         0.028                          0.119685   \n",
      "1                         0.012                          0.379309   \n",
      "\n",
      "   Gradient Boost feature importances  Random Forest feature importances  \\\n",
      "0                            0.073620                           0.126568   \n",
      "1                            0.031163                           0.201584   \n",
      "\n",
      "  features      mean  \n",
      "0   Pclass  0.086968  \n",
      "1      Sex  0.156014  \n"
     ]
    },
    {
     "data": {
      "text/html": [
       "<div>\n",
       "<table border=\"1\" class=\"dataframe\">\n",
       "  <thead>\n",
       "    <tr style=\"text-align: right;\">\n",
       "      <th></th>\n",
       "      <th>AdaBoost feature importances</th>\n",
       "      <th>Extra Trees  feature importances</th>\n",
       "      <th>Gradient Boost feature importances</th>\n",
       "      <th>Random Forest feature importances</th>\n",
       "      <th>features</th>\n",
       "      <th>mean</th>\n",
       "    </tr>\n",
       "  </thead>\n",
       "  <tbody>\n",
       "    <tr>\n",
       "      <th>0</th>\n",
       "      <td>0.028</td>\n",
       "      <td>0.119685</td>\n",
       "      <td>0.073620</td>\n",
       "      <td>0.126568</td>\n",
       "      <td>Pclass</td>\n",
       "      <td>0.086968</td>\n",
       "    </tr>\n",
       "    <tr>\n",
       "      <th>1</th>\n",
       "      <td>0.012</td>\n",
       "      <td>0.379309</td>\n",
       "      <td>0.031163</td>\n",
       "      <td>0.201584</td>\n",
       "      <td>Sex</td>\n",
       "      <td>0.156014</td>\n",
       "    </tr>\n",
       "    <tr>\n",
       "      <th>2</th>\n",
       "      <td>0.020</td>\n",
       "      <td>0.019269</td>\n",
       "      <td>0.087744</td>\n",
       "      <td>0.028925</td>\n",
       "      <td>Age</td>\n",
       "      <td>0.038985</td>\n",
       "    </tr>\n",
       "    <tr>\n",
       "      <th>3</th>\n",
       "      <td>0.072</td>\n",
       "      <td>0.016695</td>\n",
       "      <td>0.024354</td>\n",
       "      <td>0.020777</td>\n",
       "      <td>Parch</td>\n",
       "      <td>0.033457</td>\n",
       "    </tr>\n",
       "    <tr>\n",
       "      <th>4</th>\n",
       "      <td>0.044</td>\n",
       "      <td>0.056688</td>\n",
       "      <td>0.102328</td>\n",
       "      <td>0.071357</td>\n",
       "      <td>Fare</td>\n",
       "      <td>0.068594</td>\n",
       "    </tr>\n",
       "    <tr>\n",
       "      <th>5</th>\n",
       "      <td>0.010</td>\n",
       "      <td>0.027951</td>\n",
       "      <td>0.061991</td>\n",
       "      <td>0.024699</td>\n",
       "      <td>Embarked</td>\n",
       "      <td>0.031160</td>\n",
       "    </tr>\n",
       "    <tr>\n",
       "      <th>6</th>\n",
       "      <td>0.678</td>\n",
       "      <td>0.046456</td>\n",
       "      <td>0.417880</td>\n",
       "      <td>0.109847</td>\n",
       "      <td>Name_length</td>\n",
       "      <td>0.313046</td>\n",
       "    </tr>\n",
       "    <tr>\n",
       "      <th>7</th>\n",
       "      <td>0.014</td>\n",
       "      <td>0.085853</td>\n",
       "      <td>0.027988</td>\n",
       "      <td>0.063908</td>\n",
       "      <td>Has_Cabin</td>\n",
       "      <td>0.047937</td>\n",
       "    </tr>\n",
       "    <tr>\n",
       "      <th>8</th>\n",
       "      <td>0.050</td>\n",
       "      <td>0.044973</td>\n",
       "      <td>0.069017</td>\n",
       "      <td>0.067241</td>\n",
       "      <td>FamilySize</td>\n",
       "      <td>0.057808</td>\n",
       "    </tr>\n",
       "    <tr>\n",
       "      <th>9</th>\n",
       "      <td>0.002</td>\n",
       "      <td>0.021679</td>\n",
       "      <td>0.023410</td>\n",
       "      <td>0.013694</td>\n",
       "      <td>IsAlone</td>\n",
       "      <td>0.015196</td>\n",
       "    </tr>\n",
       "  </tbody>\n",
       "</table>\n",
       "</div>"
      ],
      "text/plain": [
       "   AdaBoost feature importances  Extra Trees  feature importances  \\\n",
       "0                         0.028                          0.119685   \n",
       "1                         0.012                          0.379309   \n",
       "2                         0.020                          0.019269   \n",
       "3                         0.072                          0.016695   \n",
       "4                         0.044                          0.056688   \n",
       "5                         0.010                          0.027951   \n",
       "6                         0.678                          0.046456   \n",
       "7                         0.014                          0.085853   \n",
       "8                         0.050                          0.044973   \n",
       "9                         0.002                          0.021679   \n",
       "\n",
       "   Gradient Boost feature importances  Random Forest feature importances  \\\n",
       "0                            0.073620                           0.126568   \n",
       "1                            0.031163                           0.201584   \n",
       "2                            0.087744                           0.028925   \n",
       "3                            0.024354                           0.020777   \n",
       "4                            0.102328                           0.071357   \n",
       "5                            0.061991                           0.024699   \n",
       "6                            0.417880                           0.109847   \n",
       "7                            0.027988                           0.063908   \n",
       "8                            0.069017                           0.067241   \n",
       "9                            0.023410                           0.013694   \n",
       "\n",
       "      features      mean  \n",
       "0       Pclass  0.086968  \n",
       "1          Sex  0.156014  \n",
       "2          Age  0.038985  \n",
       "3        Parch  0.033457  \n",
       "4         Fare  0.068594  \n",
       "5     Embarked  0.031160  \n",
       "6  Name_length  0.313046  \n",
       "7    Has_Cabin  0.047937  \n",
       "8   FamilySize  0.057808  \n",
       "9      IsAlone  0.015196  "
      ]
     },
     "execution_count": 23,
     "metadata": {},
     "output_type": "execute_result"
    }
   ],
   "source": [
    "# Create the new column containing the average of values\n",
    "print(feature_dataframe.shape)\n",
    "print(feature_dataframe.head(2))\n",
    "\n",
    "feature_dataframe['mean'] = feature_dataframe.mean(axis= 1) # axis = 1 computes the mean row-wise 가로로 더함\n",
    "feature_dataframe.head(10)"
   ]
  },
  {
   "cell_type": "code",
   "execution_count": 24,
   "metadata": {
    "collapsed": false
   },
   "outputs": [
    {
     "data": {
      "application/vnd.plotly.v1+json": {
       "data": [
        {
         "marker": {
          "color": [
           0.0869684275,
           0.15601401,
           0.03898469,
           0.033456534999999996,
           0.068593565,
           0.031160385000000002,
           0.31304561750000004,
           0.0479370925,
           0.05780780750000001,
           0.015195965,
           0.1508359075
          ],
          "colorscale": "Portland",
          "reversescale": false,
          "showscale": true
         },
         "opacity": 0.6,
         "type": "bar",
         "width": 0.5,
         "x": [
          "Pclass",
          "Sex",
          "Age",
          "Parch",
          "Fare",
          "Embarked",
          "Name_length",
          "Has_Cabin",
          "FamilySize",
          "IsAlone",
          "Title"
         ],
         "y": [
          0.0869684275,
          0.15601401,
          0.03898469,
          0.033456534999999996,
          0.068593565,
          0.031160385000000002,
          0.31304561750000004,
          0.0479370925,
          0.05780780750000001,
          0.015195965,
          0.1508359075
         ]
        }
       ],
       "layout": {
        "autosize": true,
        "hovermode": "closest",
        "showlegend": false,
        "title": "Barplots of Mean Feature Importance",
        "yaxis": {
         "gridwidth": 2,
         "ticklen": 5,
         "title": "Feature Importance"
        }
       }
      },
      "text/html": [
       "<div id=\"27c0124b-be99-4ea2-98b0-0b09e39afb1a\" style=\"height: 525px; width: 100%;\" class=\"plotly-graph-div\"></div><script type=\"text/javascript\">require([\"plotly\"], function(Plotly) { window.PLOTLYENV=window.PLOTLYENV || {};window.PLOTLYENV.BASE_URL=\"https://plot.ly\";Plotly.newPlot(\"27c0124b-be99-4ea2-98b0-0b09e39afb1a\", [{\"opacity\": 0.6, \"marker\": {\"reversescale\": false, \"colorscale\": \"Portland\", \"showscale\": true, \"color\": [0.0869684275, 0.15601401, 0.03898469, 0.033456534999999996, 0.068593565, 0.031160385000000002, 0.31304561750000004, 0.0479370925, 0.05780780750000001, 0.015195965, 0.1508359075]}, \"width\": 0.5, \"x\": [\"Pclass\", \"Sex\", \"Age\", \"Parch\", \"Fare\", \"Embarked\", \"Name_length\", \"Has_Cabin\", \"FamilySize\", \"IsAlone\", \"Title\"], \"type\": \"bar\", \"y\": [0.0869684275, 0.15601401, 0.03898469, 0.033456534999999996, 0.068593565, 0.031160385000000002, 0.31304561750000004, 0.0479370925, 0.05780780750000001, 0.015195965, 0.1508359075]}], {\"hovermode\": \"closest\", \"title\": \"Barplots of Mean Feature Importance\", \"yaxis\": {\"title\": \"Feature Importance\", \"ticklen\": 5, \"gridwidth\": 2}, \"autosize\": true, \"showlegend\": false}, {\"linkText\": \"Export to plot.ly\", \"showLink\": true})});</script>"
      ],
      "text/vnd.plotly.v1+html": [
       "<div id=\"27c0124b-be99-4ea2-98b0-0b09e39afb1a\" style=\"height: 525px; width: 100%;\" class=\"plotly-graph-div\"></div><script type=\"text/javascript\">require([\"plotly\"], function(Plotly) { window.PLOTLYENV=window.PLOTLYENV || {};window.PLOTLYENV.BASE_URL=\"https://plot.ly\";Plotly.newPlot(\"27c0124b-be99-4ea2-98b0-0b09e39afb1a\", [{\"opacity\": 0.6, \"marker\": {\"reversescale\": false, \"colorscale\": \"Portland\", \"showscale\": true, \"color\": [0.0869684275, 0.15601401, 0.03898469, 0.033456534999999996, 0.068593565, 0.031160385000000002, 0.31304561750000004, 0.0479370925, 0.05780780750000001, 0.015195965, 0.1508359075]}, \"width\": 0.5, \"x\": [\"Pclass\", \"Sex\", \"Age\", \"Parch\", \"Fare\", \"Embarked\", \"Name_length\", \"Has_Cabin\", \"FamilySize\", \"IsAlone\", \"Title\"], \"type\": \"bar\", \"y\": [0.0869684275, 0.15601401, 0.03898469, 0.033456534999999996, 0.068593565, 0.031160385000000002, 0.31304561750000004, 0.0479370925, 0.05780780750000001, 0.015195965, 0.1508359075]}], {\"hovermode\": \"closest\", \"title\": \"Barplots of Mean Feature Importance\", \"yaxis\": {\"title\": \"Feature Importance\", \"ticklen\": 5, \"gridwidth\": 2}, \"autosize\": true, \"showlegend\": false}, {\"linkText\": \"Export to plot.ly\", \"showLink\": true})});</script>"
      ]
     },
     "metadata": {},
     "output_type": "display_data"
    }
   ],
   "source": [
    "y = feature_dataframe['mean'].values\n",
    "x = feature_dataframe['features'].values\n",
    "data = [go.Bar(\n",
    "            x= x,\n",
    "             y= y,\n",
    "            width = 0.5,\n",
    "            marker=dict(\n",
    "               color = feature_dataframe['mean'].values,\n",
    "            colorscale='Portland',\n",
    "            showscale=True,\n",
    "            reversescale = False\n",
    "            ),\n",
    "            opacity=0.6\n",
    "        )]\n",
    "\n",
    "layout= go.Layout(\n",
    "    autosize= True,\n",
    "    title= 'Barplots of Mean Feature Importance',\n",
    "    hovermode= 'closest',\n",
    "#     xaxis= dict(\n",
    "#         title= 'Pop',\n",
    "#         ticklen= 5,\n",
    "#         zeroline= False,\n",
    "#         gridwidth= 2,\n",
    "#     ),\n",
    "    yaxis=dict(\n",
    "        title= 'Feature Importance',\n",
    "        ticklen= 5,\n",
    "        gridwidth= 2\n",
    "    ),\n",
    "    showlegend= False\n",
    ")\n",
    "fig = go.Figure(data=data, layout=layout)\n",
    "py.iplot(fig, filename='bar-direct-labels')"
   ]
  },
  {
   "cell_type": "markdown",
   "metadata": {},
   "source": [
    "# Second level Model predicting\n",
    " - 두번째 모델의 training set 구축"
   ]
  },
  {
   "cell_type": "code",
   "execution_count": 25,
   "metadata": {
    "collapsed": false
   },
   "outputs": [
    {
     "name": "stdout",
     "output_type": "stream",
     "text": [
      "   AdaBoost  ExtraTrees  GradientBoost  RandomForest\n",
      "0       0.0         0.0            0.0           0.0\n",
      "1       1.0         1.0            1.0           1.0\n",
      "2       1.0         0.0            1.0           0.0\n",
      "3       1.0         1.0            1.0           1.0\n",
      "4       0.0         0.0            0.0           0.0\n",
      "(891, 4)\n"
     ]
    }
   ],
   "source": [
    "base_predictions_train = pd.DataFrame( {'RandomForest': rf_oof_train.ravel(),\n",
    "     'ExtraTrees': et_oof_train.ravel(),\n",
    "     'AdaBoost': ada_oof_train.ravel(),\n",
    "      'GradientBoost': gb_oof_train.ravel()\n",
    "    })\n",
    "print(base_predictions_train.head())\n",
    "print(base_predictions_train.shape)"
   ]
  },
  {
   "cell_type": "markdown",
   "metadata": {},
   "source": [
    "# 1층 모델의 각각 Train set별 확률 확인\n"
   ]
  },
  {
   "cell_type": "code",
   "execution_count": 26,
   "metadata": {
    "collapsed": false
   },
   "outputs": [
    {
     "name": "stdout",
     "output_type": "stream",
     "text": [
      "random forest 0.8641975308641975\n",
      "extra forest 0.8226711560044894\n",
      "ada 0.8069584736251403\n",
      "gb 0.8069584736251403\n",
      "svc 0.813692480359147\n"
     ]
    }
   ],
   "source": [
    "#각 모델별 확률을 보자\n",
    "train_results_xgb\n",
    "#랜덤 포레스트 Train Data확률\n",
    "trainprediction_rf = pd.DataFrame({ 'PassengerId': train_passengerid,\n",
    "                            'Survived_rfp': rf_oof_train.ravel() })\n",
    "trainprediction_rf_merge = train_results_xgb.merge(trainprediction_rf, how='left', on='PassengerId')\n",
    "#print(trainprediction_rf_merge.columns)\n",
    "trainprediction_rf_merge['result'] = trainprediction_rf_merge[['Survived','Survived_rfp']].apply(lambda x : 1 if x['Survived'] == x['Survived_rfp'] else 0, axis = 1)\n",
    "print('random forest {0}'.format(trainprediction_rf_merge['result'].sum(axis=0)/ len(train_results_xgb.index)) )\n",
    "\n",
    "#extra tree Train Data확률\n",
    "trainprediction_et = pd.DataFrame({ 'PassengerId': train_passengerid,\n",
    "                             'Survived_etp': et_oof_train.ravel() })\n",
    "trainprediction_et_merge = train_results_xgb.merge(trainprediction_et, how='left', on='PassengerId')\n",
    "trainprediction_et_merge['result'] = trainprediction_et_merge[['Survived','Survived_etp']].apply(lambda x : 1 if x['Survived'] == x['Survived_etp'] else 0, axis = 1)\n",
    "print('extra forest {0}'.format(trainprediction_et_merge['result'].sum(axis=0)/ len(train_results_xgb.index)) )\n",
    "\n",
    "\n",
    "#ada boost Train Data확률\n",
    "trainprediction_ad = pd.DataFrame({ 'PassengerId': train_passengerid,\n",
    "                             'Survived_adp': ada_oof_train.ravel() })\n",
    "trainprediction_ad_merge = train_results_xgb.merge(trainprediction_ad, how='left', on='PassengerId')\n",
    "# print(trainprediction_et_merge.columns)\n",
    "trainprediction_ad_merge['result'] = trainprediction_ad_merge[['Survived','Survived_adp']].apply(lambda x : 1 if x['Survived'] == x['Survived_adp'] else 0, axis = 1)\n",
    "print('ada {0}'.format(trainprediction_ad_merge['result'].sum(axis=0)/ len(train_results_xgb.index)) )\n",
    "\n",
    "#gradient Train Data확률\n",
    "trainprediction_gb = pd.DataFrame({ 'PassengerId': train_passengerid,\n",
    "                             'Survived_gbp': gb_oof_train.ravel() })\n",
    "trainprediction_gb_merge = train_results_xgb.merge(trainprediction_gb, how='left', on='PassengerId')\n",
    "# print(trainprediction_et_merge.columns)\n",
    "trainprediction_gb_merge['result'] = trainprediction_gb_merge[['Survived','Survived_gbp']].apply(lambda x : 1 if x['Survived'] == x['Survived_gbp'] else 0, axis = 1)\n",
    "print('gb {0}'.format(trainprediction_gb_merge['result'].sum(axis=0)/ len(train_results_xgb.index)) )\n",
    "\n",
    "\n",
    "\n",
    "\n",
    "#gradient Train Data확률\n",
    "trainprediction_svc = pd.DataFrame({ 'PassengerId': train_passengerid,\n",
    "                             'Survived_svp': svc_oof_train.ravel() })\n",
    "trainprediction_svc_merge = train_results_xgb.merge(trainprediction_svc, how='left', on='PassengerId')\n",
    "# print(trainprediction_et_merge.columns)\n",
    "trainprediction_svc_merge['result'] = trainprediction_svc_merge[['Survived','Survived_svp']].apply(lambda x : 1 if x['Survived'] == x['Survived_svp'] else 0, axis = 1)\n",
    "print('svc {0}'.format(trainprediction_svc_merge['result'].sum(axis=0)/ len(train_results_xgb.index)) )\n",
    "\n",
    "\n",
    "\n"
   ]
  },
  {
   "cell_type": "markdown",
   "metadata": {},
   "source": [
    "# 2차 모델 data간의 상관계수 분석\n",
    " - 모델간의 상관계수가 적은것을 stacking 해야지 확률이 더 높아짐"
   ]
  },
  {
   "cell_type": "code",
   "execution_count": 27,
   "metadata": {
    "collapsed": false
   },
   "outputs": [
    {
     "data": {
      "application/vnd.plotly.v1+json": {
       "data": [
        {
         "colorscale": "Portland",
         "reversescale": true,
         "showscale": true,
         "type": "heatmap",
         "x": [
          "AdaBoost",
          "ExtraTrees",
          "GradientBoost",
          "RandomForest"
         ],
         "y": [
          "AdaBoost",
          "ExtraTrees",
          "GradientBoost",
          "RandomForest"
         ],
         "z": [
          [
           1,
           0.8017707526010492,
           0.6591320559518992,
           0.79002313330044
          ],
          [
           0.8017707526010492,
           1,
           0.718130333382827,
           0.8703121442735327
          ],
          [
           0.6591320559518992,
           0.718130333382827,
           1,
           0.7320009508642132
          ],
          [
           0.79002313330044,
           0.8703121442735327,
           0.7320009508642132,
           1
          ]
         ]
        }
       ],
       "layout": {}
      },
      "text/html": [
       "<div id=\"aba251a8-e3d8-4faf-a7e2-b7285e3754c1\" style=\"height: 525px; width: 100%;\" class=\"plotly-graph-div\"></div><script type=\"text/javascript\">require([\"plotly\"], function(Plotly) { window.PLOTLYENV=window.PLOTLYENV || {};window.PLOTLYENV.BASE_URL=\"https://plot.ly\";Plotly.newPlot(\"aba251a8-e3d8-4faf-a7e2-b7285e3754c1\", [{\"reversescale\": true, \"z\": [[1.0, 0.8017707526010492, 0.6591320559518992, 0.79002313330044], [0.8017707526010492, 1.0, 0.718130333382827, 0.8703121442735327], [0.6591320559518992, 0.718130333382827, 1.0, 0.7320009508642132], [0.79002313330044, 0.8703121442735327, 0.7320009508642132, 1.0]], \"x\": [\"AdaBoost\", \"ExtraTrees\", \"GradientBoost\", \"RandomForest\"], \"type\": \"heatmap\", \"colorscale\": \"Portland\", \"showscale\": true, \"y\": [\"AdaBoost\", \"ExtraTrees\", \"GradientBoost\", \"RandomForest\"]}], {}, {\"linkText\": \"Export to plot.ly\", \"showLink\": true})});</script>"
      ],
      "text/vnd.plotly.v1+html": [
       "<div id=\"aba251a8-e3d8-4faf-a7e2-b7285e3754c1\" style=\"height: 525px; width: 100%;\" class=\"plotly-graph-div\"></div><script type=\"text/javascript\">require([\"plotly\"], function(Plotly) { window.PLOTLYENV=window.PLOTLYENV || {};window.PLOTLYENV.BASE_URL=\"https://plot.ly\";Plotly.newPlot(\"aba251a8-e3d8-4faf-a7e2-b7285e3754c1\", [{\"reversescale\": true, \"z\": [[1.0, 0.8017707526010492, 0.6591320559518992, 0.79002313330044], [0.8017707526010492, 1.0, 0.718130333382827, 0.8703121442735327], [0.6591320559518992, 0.718130333382827, 1.0, 0.7320009508642132], [0.79002313330044, 0.8703121442735327, 0.7320009508642132, 1.0]], \"x\": [\"AdaBoost\", \"ExtraTrees\", \"GradientBoost\", \"RandomForest\"], \"type\": \"heatmap\", \"colorscale\": \"Portland\", \"showscale\": true, \"y\": [\"AdaBoost\", \"ExtraTrees\", \"GradientBoost\", \"RandomForest\"]}], {}, {\"linkText\": \"Export to plot.ly\", \"showLink\": true})});</script>"
      ]
     },
     "metadata": {},
     "output_type": "display_data"
    }
   ],
   "source": [
    "data = [\n",
    "    go.Heatmap(\n",
    "        z= base_predictions_train.astype(float).corr().values ,\n",
    "        x=base_predictions_train.columns.values,\n",
    "        y= base_predictions_train.columns.values,\n",
    "          colorscale='Portland',\n",
    "            showscale=True,\n",
    "            reversescale = True\n",
    "    )\n",
    "]\n",
    "py.iplot(data, filename='labelled-heatmap')"
   ]
  },
  {
   "cell_type": "markdown",
   "metadata": {},
   "source": [
    "# Make train set\n",
    "- 각 모델별 예측 결과를 2차 모델의 인풋으로 설정"
   ]
  },
  {
   "cell_type": "code",
   "execution_count": 28,
   "metadata": {
    "collapsed": false
   },
   "outputs": [
    {
     "name": "stdout",
     "output_type": "stream",
     "text": [
      "[[ 0.  0.  0.  0.  0.]\n",
      " [ 1.  1.  1.  1.  1.]\n",
      " [ 0.  0.  1.  1.  1.]\n",
      " ..., \n",
      " [ 0.  0.  0.  0.  1.]\n",
      " [ 0.  0.  0.  0.  0.]\n",
      " [ 0.  0.  0.  0.  0.]]\n"
     ]
    }
   ],
   "source": [
    "x_train_xgb = np.concatenate(( et_oof_train, rf_oof_train, ada_oof_train, gb_oof_train, svc_oof_train), axis=1)\n",
    "x_test_xgb = np.concatenate(( et_oof_test, rf_oof_test, ada_oof_test, gb_oof_test, svc_oof_test), axis=1)\n",
    "\n",
    "print(x_train_xgb)"
   ]
  },
  {
   "cell_type": "markdown",
   "metadata": {},
   "source": [
    "# Second level Model is Xgboost\n",
    " - n_estimators : 분류기\n",
    " - max_depth : 트리 최대깊이\n",
    " - min_child_weight : Defines the minimum sum of weights of all observations required in a child.\n",
    " - eta : learning rates 트리가 깊을수록 오버피팅이 일어나므로 가지를 늘릴때마다 Weight를 주어 과적합이 안되게 방지\n",
    " - gamma : 감마가 커지면 트리의 깊이가 얇아짐\n",
    " - objective : 목적함수 Learning 할때 사용\n",
    "\n",
    "\n",
    " . https://www.analyticsvidhya.com/blog/2016/03/complete-guide-parameter-tuning-xgboost-with-codes-python/\n"
   ]
  },
  {
   "cell_type": "code",
   "execution_count": 29,
   "metadata": {
    "collapsed": true
   },
   "outputs": [],
   "source": [
    "\n",
    "gbm = xgb.XGBClassifier(\n",
    " #eta = 0.01,\n",
    " n_estimators= 3000,\n",
    " max_depth= 4,\n",
    " min_child_weight= 2,\n",
    " #gamma=1,\n",
    " gamma=0.9,                        \n",
    " subsample=0.8,\n",
    " colsample_bytree=0.8,\n",
    " objective= 'binary:logistic',\n",
    " nthread= -1,\n",
    " scale_pos_weight=1).fit(x_train_xgb, y_train)\n",
    "predictions = gbm.predict(x_test_xgb)\n",
    "train_prediction = gbm.predict(x_train_xgb)"
   ]
  },
  {
   "cell_type": "markdown",
   "metadata": {},
   "source": [
    "# XGBoost로 예측"
   ]
  },
  {
   "cell_type": "code",
   "execution_count": 30,
   "metadata": {
    "collapsed": false
   },
   "outputs": [
    {
     "name": "stdout",
     "output_type": "stream",
     "text": [
      "Xgboost 0.867564534231201\n"
     ]
    }
   ],
   "source": [
    "trainprediction_xgb = pd.DataFrame({ 'PassengerId': train_passengerid,\n",
    "                            'Survived_xgp': train_prediction })\n",
    "\n",
    "trainprediction_xgb_merge = train_results_xgb.merge(trainprediction_xgb, how='left', on='PassengerId')\n",
    "\n",
    "trainprediction_xgb_merge['result'] = trainprediction_xgb_merge[['Survived','Survived_xgp']].apply(lambda x : 1 if x['Survived'] == x['Survived_xgp'] else 0, axis = 1)\n",
    "\n",
    "\n",
    "print(\"Xgboost {0}\".format(trainprediction_xgb_merge['result'].sum(axis=0)/ len(train_results_xgb.index) ))"
   ]
  },
  {
   "cell_type": "code",
   "execution_count": null,
   "metadata": {
    "collapsed": true
   },
   "outputs": [],
   "source": []
  }
 ],
 "metadata": {
  "anaconda-cloud": {},
  "kernelspec": {
   "display_name": "Python [conda root]",
   "language": "python",
   "name": "conda-root-py"
  },
  "language_info": {
   "codemirror_mode": {
    "name": "ipython",
    "version": 3
   },
   "file_extension": ".py",
   "mimetype": "text/x-python",
   "name": "python",
   "nbconvert_exporter": "python",
   "pygments_lexer": "ipython3",
   "version": "3.5.2"
  }
 },
 "nbformat": 4,
 "nbformat_minor": 1
}
