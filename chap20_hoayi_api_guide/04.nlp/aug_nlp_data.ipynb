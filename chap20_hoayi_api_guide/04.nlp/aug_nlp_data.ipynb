{
 "cells": [
  {
   "cell_type": "markdown",
   "metadata": {},
   "source": [
    "# Run"
   ]
  },
  {
   "cell_type": "code",
   "execution_count": 1,
   "metadata": {
    "collapsed": false
   },
   "outputs": [
    {
     "name": "stdout",
     "output_type": "stream",
     "text": [
      "2.evaluation result : {'status': '404', 'result': \"[Errno 2] No such file or directory: '/home/dev/tensormsa_jupyter/dict.csv'\"}\n"
     ]
    }
   ],
   "source": [
    "import requests\n",
    "import json, os\n",
    "\n",
    "url = \"{0}:{1}\".format(os.environ['HOSTNAME'] , \"8000\")\n",
    "\n",
    "nn_id = \"augmentation\"\n",
    "\n",
    "resp = requests.post('http://' + url + '/api/v1/type/augment/state/nlp/nnid/' + nn_id + '/ver/1/',\n",
    "                 json={\n",
    "                     \"use_mecab\": True,\n",
    "                     \"max_file_size\": 10000000,\n",
    "                     \"pattern_data_path\": \"/home/dev/tensormsa_jupyter/pattern.txt\",\n",
    "                     \"augmented_out_path\": \"/hoya_data_root/\",\n",
    "                     \"dict_path\": \"/home/dev/tensormsa_jupyter/dict.csv\",\n",
    "                     \"out_format_type\": \"plain\"\n",
    "                 })\n",
    "data = json.loads(resp.json())\n",
    "print(\"2.evaluation result : {0}\".format(data))"
   ]
  },
  {
   "cell_type": "code",
   "execution_count": null,
   "metadata": {
    "collapsed": true
   },
   "outputs": [],
   "source": []
  }
 ],
 "metadata": {
  "anaconda-cloud": {},
  "kernelspec": {
   "display_name": "Python [conda root]",
   "language": "python",
   "name": "conda-root-py"
  },
  "language_info": {
   "codemirror_mode": {
    "name": "ipython",
    "version": 3
   },
   "file_extension": ".py",
   "mimetype": "text/x-python",
   "name": "python",
   "nbconvert_exporter": "python",
   "pygments_lexer": "ipython3",
   "version": "3.5.2"
  }
 },
 "nbformat": 4,
 "nbformat_minor": 1
}
