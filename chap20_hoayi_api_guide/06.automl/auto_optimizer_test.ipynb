{
 "cells": [
  {
   "cell_type": "markdown",
   "metadata": {},
   "source": [
    "# 네트워크 정의"
   ]
  },
  {
   "cell_type": "code",
   "execution_count": 3,
   "metadata": {
    "collapsed": false
   },
   "outputs": [
    {
     "name": "stdout",
     "output_type": "stream",
     "text": [
      "done\n"
     ]
    }
   ],
   "source": [
    "import requests\n",
    "import json, os\n",
    "\n",
    "nn_id = 'auto_encoder044'  # put some key value you want to test\n",
    "nn_type = \"autoencoder_csv\"\n",
    "url = \"{0}:{1}\".format(os.environ['HOSTNAME'] , \"8989\")\n",
    "print(\"done\")"
   ]
  },
  {
   "cell_type": "markdown",
   "metadata": {},
   "source": [
    "# 비지니스 정의"
   ]
  },
  {
   "cell_type": "code",
   "execution_count": 4,
   "metadata": {
    "collapsed": false
   },
   "outputs": [
    {
     "name": "stdout",
     "output_type": "stream",
     "text": [
      "evaluation result : {'nn_id': 'auto_encoder044', 'graph': [{'model': 'master.graph_flow_info', 'fields': {'last_updated_by': 0, 'created_by': 0, 'creation_date': '2017-10-10T11:36:08.222', 'graph_node': 'netconf_node', 'graph_flow_info_id': 11, 'graph_seq': 1, 'last_update_date': '2017-10-10T12:14:44.417', 'graph_node_name': 'netconf_node'}, 'pk': 127}, {'model': 'master.graph_flow_info', 'fields': {'last_updated_by': 0, 'created_by': 0, 'creation_date': '2017-10-10T11:36:08.227', 'graph_node': 'netconf_data', 'graph_flow_info_id': 11, 'graph_seq': 2, 'last_update_date': '2017-10-10T12:14:44.423', 'graph_node_name': 'datasrc'}, 'pk': 128}, {'model': 'master.graph_flow_info', 'fields': {'last_updated_by': 0, 'created_by': 0, 'creation_date': '2017-10-10T11:36:08.233', 'graph_node': 'netconf_feed', 'graph_flow_info_id': 11, 'graph_seq': 3, 'last_update_date': '2017-10-10T12:14:44.429', 'graph_node_name': 'feed_train'}, 'pk': 129}, {'model': 'master.graph_flow_info', 'fields': {'last_updated_by': 0, 'created_by': 0, 'creation_date': '2017-10-10T11:36:08.242', 'graph_node': 'eval_node', 'graph_flow_info_id': 11, 'graph_seq': 4, 'last_update_date': '2017-10-10T12:14:44.435', 'graph_node_name': 'eval_node'}, 'pk': 130}, {'model': 'master.graph_flow_info', 'fields': {'last_updated_by': 0, 'created_by': 0, 'creation_date': '2017-10-10T11:36:08.251', 'graph_node': 'eval_data', 'graph_flow_info_id': 11, 'graph_seq': 5, 'last_update_date': '2017-10-10T12:14:44.441', 'graph_node_name': 'evaldata'}, 'pk': 131}, {'model': 'master.graph_flow_info', 'fields': {'last_updated_by': 0, 'created_by': 0, 'creation_date': '2017-10-10T11:36:08.260', 'graph_node': 'eval_feed', 'graph_flow_info_id': 11, 'graph_seq': 6, 'last_update_date': '2017-10-10T12:14:44.452', 'graph_node_name': 'feed_test'}, 'pk': 132}]}\n"
     ]
    }
   ],
   "source": [
    "####(1) 네트워크 생성 ####\n",
    "resp = requests.post('http://' + url + '/api/v1/type/common/target/nninfo/nnid/' + nn_id + '/',\n",
    "                     json={\n",
    "                         \"biz_cate\": \"MES\",\n",
    "                         \"biz_sub_cate\": \"M60\",\n",
    "                         \"nn_title\" : \"test\",\n",
    "                         \"nn_desc\": \"test desc\",\n",
    "                         \"use_flag\" : \"Y\",\n",
    "                         \"dir\": nn_type,\n",
    "                         \"automl_parms\" : {},\n",
    "                         \"config\": \"N\"\n",
    "                     })\n",
    "data = json.loads(resp.json())\n",
    "print(\"evaluation result : {0}\".format(data))"
   ]
  },
  {
   "cell_type": "markdown",
   "metadata": {},
   "source": [
    "# 선택한 Graph Flow Format"
   ]
  },
  {
   "cell_type": "code",
   "execution_count": 5,
   "metadata": {
    "collapsed": false
   },
   "outputs": [
    {
     "name": "stdout",
     "output_type": "stream",
     "text": [
      "evaluation result : [{'model': 'master.auto_ml_rule', 'fields': {'last_updated_by': 0, 'created_by': 0, 'creation_date': '2017-10-10T12:14:44.514', 'graph_flow_data': {}, 'graph_flow_info_id': 11, 'graph_flow_desc': 'autoencoder_csv Network Description', 'graph_flow_data_single': {}, 'last_update_date': '2017-10-10T12:14:44.803', 'train_file_path': '/samples/autoencoder_csv_sample.csv', 'graph_flow_group_id': '3', 'eval_file_path': ''}, 'pk': 'autoencoder_csv'}]\n"
     ]
    }
   ],
   "source": [
    "resp = requests.get('http://' + url + '/api/v1/type/automl/state/rule/graph_id/'+nn_type+'/')\n",
    "data = json.loads(resp.json())\n",
    "print(\"evaluation result : {0}\".format(data))"
   ]
  },
  {
   "cell_type": "markdown",
   "metadata": {},
   "source": [
    "# Data Upload & create folder for train"
   ]
  },
  {
   "cell_type": "code",
   "execution_count": null,
   "metadata": {
    "collapsed": true
   },
   "outputs": [],
   "source": []
  },
  {
   "cell_type": "markdown",
   "metadata": {},
   "source": [
    "# (1) Set AutoML parm for ResidualNet "
   ]
  },
  {
   "cell_type": "code",
   "execution_count": 68,
   "metadata": {
    "collapsed": false
   },
   "outputs": [
    {
     "name": "stdout",
     "output_type": "stream",
     "text": [
      "evaluation result : {'netconf_node': {'param': {'predictlog': {'option': 'N', 'auto': False, 'type': 'sel'}, 'augmentation': {'option': 'Y', 'auto': False, 'type': 'sel'}, 'batch_size': {'option': None, 'auto': [1, 2, 1], 'type': 'int'}, 'traincnt': {'option': None, 'auto': [1, 4, 2], 'type': 'int'}, 'predictcnt': {'option': 5, 'auto': False, 'type': 'int'}, 'epoch': {'option': None, 'auto': [1, 3, 1], 'type': 'int'}}, 'labels': {'option': ['cat', 'dog'], 'auto': False, 'type': 'list'}, 'config': {'eval_type': {'option': 'category', 'auto': False, 'type': 'str'}, 'num_classes': {'option': 2, 'auto': False, 'type': 'int'}, 'optimizer': {'option': 'adam', 'auto': False, 'type': 'sel'}, 'layeroutputs': {'option': 18, 'auto': [1, 152, 10], 'type': 'int'}, 'learnrate': {'option': None, 'auto': [0.0001, 0.1, 0.001], 'type': 'int'}}}, 'datasrc': {'preprocess': {'y_size': {'option': 32, 'auto': False, 'type': 'int'}, 'filesize': {'option': 1000000, 'auto': False, 'type': 'int'}, 'x_size': {'option': 32, 'auto': False, 'type': 'int'}, 'channel': {'option': 3, 'auto': False, 'type': 'int'}, 'yolo': {'option': 'N', 'auto': False, 'type': 'sel'}}, 'type': {'option': 'imgdata', 'auto': False, 'type': 'sel'}}, 'evaldata': {'preprocess': {'y_size': {'option': 32, 'auto': False, 'type': 'int'}, 'filesize': {'option': 1000000, 'auto': False, 'type': 'int'}, 'x_size': {'option': 32, 'auto': False, 'type': 'int'}, 'channel': {'option': 3, 'auto': False, 'type': 'int'}, 'yolo': {'option': 'N', 'auto': False, 'type': 'sel'}}, 'type': {'option': 'imgdata', 'auto': False, 'type': 'sel'}}}\n"
     ]
    }
   ],
   "source": [
    "if(nn_type == 'resnet') : \n",
    "    resp = requests.put('http://' + url + '/api/v1/type/automl/state/conf/nnid/' + nn_id + '/',\n",
    "                         json={\"datasrc\": {\"type\": {\"auto\": False, \"type\": \"sel\", \"option\": \"imgdata\"}, \n",
    "                                           \"preprocess\": {\"yolo\": {\"auto\": False, \"type\": \"sel\", \"option\": \"N\"}, \n",
    "                                                          \"x_size\": {\"auto\": False, \"type\": \"int\", \"option\": 32}, \n",
    "                                                          \"y_size\": {\"auto\": False, \"type\": \"int\", \"option\": 32}, \n",
    "                                                          \"channel\": {\"auto\": False, \"type\": \"int\", \"option\": 3}, \n",
    "                                                          \"filesize\": {\"auto\": False, \"type\": \"int\", \"option\": 1000000}}}, \n",
    "                               \"evaldata\": {\"type\": {\"auto\": False, \"type\": \"sel\", \"option\": \"imgdata\"}, \n",
    "                                            \"preprocess\": {\"yolo\": {\"auto\": False, \"type\": \"sel\", \"option\": \"N\"}, \n",
    "                                                           \"x_size\": {\"auto\": False, \"type\": \"int\", \"option\": 32}, \n",
    "                                                           \"y_size\": {\"auto\": False, \"type\": \"int\", \"option\": 32}, \n",
    "                                                           \"channel\": {\"auto\": False, \"type\": \"int\", \"option\": 3}, \n",
    "                                                           \"filesize\": {\"auto\": False, \"type\": \"int\", \"option\": 1000000}}}, \n",
    "                               \"netconf_node\": {\"param\": {\"epoch\": {\"auto\": [1, 3, 1], \"type\": \"int\", \"option\": None}, \n",
    "                                                          \"traincnt\": {\"auto\": [1, 4, 2], \"type\": \"int\", \"option\": None}, \n",
    "                                                          \"batch_size\": {\"auto\": [1, 2, 1], \"type\": \"int\", \"option\": None}, \n",
    "                                                          \"predictcnt\": {\"auto\": False, \"type\": \"int\", \"option\": 5}, \n",
    "                                                          \"predictlog\": {\"auto\": False, \"type\": \"sel\", \"option\": \"N\"}, \n",
    "                                                          \"augmentation\": {\"auto\": False, \"type\": \"sel\", \"option\": \"Y\"}}, \n",
    "                                                \"config\": {\"learnrate\": {\"auto\": [0.0001, 0.1, 0.001], \"type\": \"int\", \"option\": None}, \n",
    "                                                           \"optimizer\": {\"auto\": False, \"type\": \"sel\", \"option\": \"adam\"}, \n",
    "                                                           \"num_classes\": {\"auto\": False, \"type\": \"int\", \"option\": 2}, \n",
    "                                                           \"layeroutputs\": {\"auto\": [1, 152, 10], \"type\": \"int\", \"option\": 18},\n",
    "                                                           \"eval_type\": {\"auto\": False, \"type\": \"str\", \"option\": 'category'}}, \n",
    "                                                \"labels\": {\"auto\": False, \"type\": \"list\", \"option\": ['cat','dog']}}})\n",
    "    data = json.loads(resp.json())\n",
    "    print(\"evaluation result : {0}\".format(data))"
   ]
  },
  {
   "cell_type": "markdown",
   "metadata": {},
   "source": [
    "# (2) Set AutoML parm for CharCNN"
   ]
  },
  {
   "cell_type": "code",
   "execution_count": 11,
   "metadata": {
    "collapsed": false
   },
   "outputs": [
    {
     "name": "stdout",
     "output_type": "stream",
     "text": [
      "evaluation result : {'pre_feed_test': {'char_max_len': {'type': 'int', 'auto': False, 'option': 5}, 'encode_len': {'type': 'int', 'auto': False, 'option': 10}, 'encode_column': {'type': 'str', 'auto': False, 'option': 'encode'}, 'preprocess': {'type': 'sel', 'auto': False, 'option': ''}, 'embed_type': {'type': 'sel', 'auto': False, 'option': 'onehot'}, 'decode_column': {'type': 'str', 'auto': False, 'option': 'decode'}, 'vocab_size': {'type': 'int', 'auto': False, 'option': 100}, 'lable_size': {'type': 'int', 'auto': False, 'option': 15}, 'channel': {'type': 'sel', 'auto': False, 'option': 1}, 'char_encode': {'type': 'sel', 'auto': [0, 1, 1], 'option': True}}, 'data_node': {'type': {'type': 'sel', 'auto': False, 'option': 'csv'}, 'source_server': {'type': 'sel', 'auto': False, 'option': 'local'}, 'preprocess': {'type': 'sel', 'auto': False, 'option': 'none'}, 'source_type': {'type': 'sel', 'auto': False, 'option': 'local'}, 'source_sql': {'type': 'sel', 'auto': False, 'option': 'all'}}, 'eval_node': {'type': {'type': 'sel', 'auto': False, 'option': 'category'}}, 'pre_feed_train': {'char_max_len': {'type': 'int', 'auto': False, 'option': 5}, 'encode_len': {'type': 'int', 'auto': False, 'option': 10}, 'encode_column': {'type': 'str', 'auto': False, 'option': 'encode'}, 'preprocess': {'type': 'sel', 'auto': False, 'option': ''}, 'embed_type': {'type': 'sel', 'auto': False, 'option': 'onehot'}, 'decode_column': {'type': 'str', 'auto': False, 'option': 'decode'}, 'vocab_size': {'type': 'int', 'auto': False, 'option': 100}, 'lable_size': {'type': 'int', 'auto': False, 'option': 15}, 'channel': {'type': 'sel', 'auto': False, 'option': 1}, 'char_encode': {'type': 'sel', 'auto': [0, 1, 1], 'option': True}}, 'netconf_node': {'config': {'optimizer': {'type': 'sel', 'auto': False, 'option': 'AdamOptimizer'}, 'eval_type': {'type': 'sel', 'auto': False, 'option': 'category'}, 'num_classes': {'type': 'int', 'auto': False, 'option': 15}, 'learnrate': {'type': 'int', 'auto': [0.0001, 0.1, 0.001], 'option': None}}, 'labels': {'type': 'str', 'auto': False, 'option': []}, 'layers': {'cnnfilter': [2, 3, 4, 2, 3, 4, 5, 2, 3, 4, 5, 2, 3, 4, 2, 3, 4, 5, 2, 3, 4, 2, 3, 4, 5, 2, 3, 4, 5, 2, 3, 4, 2, 3, 4, 5], 'droprate': '0.5', 'active': 'relu'}, 'out': {'padding': 'SAME', 'active': 'softmax'}, 'param': {'traincnt': {'type': 'int', 'auto': [1, 10, 2], 'option': None}, 'batch_size': {'type': 'int', 'auto': [5, 100, 10], 'option': None}, 'predictcnt': {'type': 'int', 'auto': [5, 100, 10], 'option': None}, 'epoch': {'type': 'int', 'auto': [1, 10, 1], 'option': None}}}, 'test_data_node': {'type': {'type': 'sel', 'auto': False, 'option': 'csv'}, 'source_server': {'type': 'sel', 'auto': False, 'option': 'local'}, 'preprocess': {'type': 'sel', 'auto': False, 'option': 'none'}, 'source_type': {'type': 'sel', 'auto': False, 'option': 'local'}, 'source_sql': {'type': 'sel', 'auto': False, 'option': 'all'}}}\n"
     ]
    }
   ],
   "source": [
    "if(nn_type == 'wcnn') : \n",
    "    resp = requests.put('http://' + url + '/api/v1/type/automl/state/conf/nnid/' + nn_id + '/',\n",
    "                         json={\n",
    "                             \"data_node\" :\n",
    "                             {\n",
    "                                     \"source_type\":{\"type\":\"sel\",\"option\":'local',\"auto\":False},\n",
    "                                     \"type\":{\"type\":\"sel\",\"option\":'csv',\"auto\":False},\n",
    "                                     \"source_server\":{\"type\":\"sel\",\"option\":\"local\",\"auto\":False},\n",
    "                                     \"source_sql\":{\"type\":\"sel\",\"option\":\"all\",\"auto\":False},\n",
    "                                     \"preprocess\": {\"type\":\"sel\",\"option\":\"none\",\"auto\":False},\n",
    "                             },\n",
    "                             \"test_data_node\" :\n",
    "                             {\n",
    "                                     \"source_type\":{\"type\":\"sel\",\"option\":'local',\"auto\":False},\n",
    "                                     \"type\":{\"type\":\"sel\",\"option\":'csv',\"auto\":False},\n",
    "                                     \"source_server\":{\"type\":\"sel\",\"option\":\"local\",\"auto\":False},\n",
    "                                     \"source_sql\":{\"type\":\"sel\",\"option\":\"all\",\"auto\":False},\n",
    "                                     \"preprocess\": {\"type\":\"sel\",\"option\":\"none\",\"auto\":False},\n",
    "                             },\n",
    "                             \"netconf_node\" :\n",
    "                             {\n",
    "                                     \"param\": {\"epoch\": {\"type\":\"int\",\"option\":None,\"auto\":[1,10,1]}\n",
    "                                              ,\"traincnt\": {\"type\":\"int\",\"option\":None,\"auto\":[1,10,2]}\n",
    "                                              ,\"batch_size\": {\"type\":\"int\",\"option\":None,\"auto\":[5,100,10]}\n",
    "                                              ,\"predictcnt\": {\"type\":\"int\",\"option\":None,\"auto\":[5,100,10]}\n",
    "                                     }\n",
    "                                     ,\"config\": {\"num_classes\": {\"type\":\"int\",\"option\":15,\"auto\":False}\n",
    "                                                ,\"learnrate\": {\"type\":\"int\",\"option\":None,\"auto\":[0.0001,0.1,0.001]}\n",
    "                                                ,\"eval_type\":{\"type\":\"sel\",\"option\":\"category\",\"auto\":False}\n",
    "                                                ,\"optimizer\":{\"type\":\"sel\",\"option\":\"AdamOptimizer\",\"auto\":False}\n",
    "                                                 }\n",
    "                                     ,\"layers\": {\"active\": \"relu\",\n",
    "                                                 \"cnnfilter\": [2, 3, 4, 2, 3, 4, 5, 2, 3, 4, 5, 2, 3, 4, 2, 3, 4, 5, 2, 3, 4, 2, 3, 4, 5, 2, 3, 4, 5, 2, 3, 4, 2, 3, 4, 5], \n",
    "                                                 \"droprate\": \"0.5\",\n",
    "                                                }\n",
    "                                     ,\"out\": {\n",
    "                                                \"active\": \"softmax\",\n",
    "                                                \"padding\": \"SAME\"\n",
    "                                             }\n",
    "                                     ,\"labels\":{\"type\":\"str\",\"option\":[],\"auto\":False}\n",
    "                             },\n",
    "                             \"pre_feed_test\" :\n",
    "                             {\n",
    "                                     \"encode_column\":{\"type\":\"str\",\"option\":'encode',\"auto\":False},\n",
    "                                     \"decode_column\":{\"type\": \"str\", \"option\" : 'decode',\"auto\":False},\n",
    "                                     \"channel\":{\"type\" : \"sel\", \"option\" : 1,\"auto\":False},\n",
    "                                     \"encode_len\": {\"type\" : \"int\", \"option\" : 10,\"auto\":False},\n",
    "                                     \"preprocess\":{\"type\" : \"sel\", \"option\" : '' ,\"auto\":False},\n",
    "                                     \"vocab_size\":{\"type\" : \"int\", \"option\" : 100 ,\"auto\":False},\n",
    "                                     \"char_encode\":{\"type\" : \"sel\", \"option\" : True ,\"auto\":[0,1,1]},\n",
    "                                     \"char_max_len\":{\"type\" : \"int\", \"option\" : 5,\"auto\":False},\n",
    "                                     \"lable_size\":{\"type\" : \"int\", \"option\" : 15,\"auto\":False},\n",
    "                                     \"embed_type\":{\"type\" : \"sel\", \"option\" : \"onehot\",\"auto\":False},\n",
    "                             },\n",
    "                             \"pre_feed_train\" :\n",
    "                             {\n",
    "                                     \"encode_column\":{\"type\":\"str\",\"option\":'encode',\"auto\":False},\n",
    "                                     \"decode_column\":{\"type\": \"str\", \"option\" : 'decode',\"auto\":False},\n",
    "                                     \"channel\":{\"type\" : \"sel\", \"option\" : 1,\"auto\":False},\n",
    "                                     \"encode_len\": {\"type\" : \"int\", \"option\" : 10,\"auto\":False},\n",
    "                                     \"preprocess\":{\"type\" : \"sel\", \"option\" : '' ,\"auto\":False},\n",
    "                                     \"vocab_size\":{\"type\" : \"int\", \"option\" : 100 ,\"auto\":False},\n",
    "                                     \"char_encode\":{\"type\" : \"sel\", \"option\" : True ,\"auto\":[0,1,1]},\n",
    "                                     \"char_max_len\":{\"type\" : \"int\", \"option\" : 5,\"auto\":False},\n",
    "                                     \"lable_size\":{\"type\" : \"int\", \"option\" : 15,\"auto\":False},\n",
    "                                     \"embed_type\":{\"type\" : \"sel\", \"option\" : \"onehot\",\"auto\":False},\n",
    "                             },\n",
    "                             \"eval_node\" :\n",
    "                             {\n",
    "                                    \"type\": {\"type\" : \"sel\", \"option\" : \"category\",\"auto\":False}\n",
    "                             }\n",
    "                         })\n",
    "    data = json.loads(resp.json())\n",
    "    print(\"evaluation result : {0}\".format(data))"
   ]
  },
  {
   "cell_type": "markdown",
   "metadata": {},
   "source": [
    "# (3) Set AutoML parm for WDNN"
   ]
  },
  {
   "cell_type": "code",
   "execution_count": null,
   "metadata": {
    "collapsed": true
   },
   "outputs": [],
   "source": []
  },
  {
   "cell_type": "markdown",
   "metadata": {},
   "source": [
    "# (4) Set AutoML parm for Seq2Seq"
   ]
  },
  {
   "cell_type": "code",
   "execution_count": null,
   "metadata": {
    "collapsed": true
   },
   "outputs": [],
   "source": []
  },
  {
   "cell_type": "markdown",
   "metadata": {},
   "source": [
    "# (5) Set AutoML parm for Word2Vec"
   ]
  },
  {
   "cell_type": "code",
   "execution_count": null,
   "metadata": {
    "collapsed": true
   },
   "outputs": [],
   "source": []
  },
  {
   "cell_type": "markdown",
   "metadata": {},
   "source": [
    "# (6) Set AutoML parm for Doc2Vec"
   ]
  },
  {
   "cell_type": "code",
   "execution_count": null,
   "metadata": {
    "collapsed": true
   },
   "outputs": [],
   "source": []
  },
  {
   "cell_type": "markdown",
   "metadata": {},
   "source": [
    "# (7) Set AutoML parm for BilstmCrf"
   ]
  },
  {
   "cell_type": "code",
   "execution_count": null,
   "metadata": {
    "collapsed": true
   },
   "outputs": [],
   "source": []
  },
  {
   "cell_type": "markdown",
   "metadata": {},
   "source": [
    "# (8) Set AutoML parm for StackedAutoEncoder"
   ]
  },
  {
   "cell_type": "code",
   "execution_count": 6,
   "metadata": {
    "collapsed": false
   },
   "outputs": [
    {
     "name": "stdout",
     "output_type": "stream",
     "text": [
      "evaluation result : {'feed_test': {'encode_column': ['encode'], 'preprocess': 'frame', 'vocab_size': 10, 'embed_type': 'onehot', 'exclude_column': ['decode']}, 'evaldata': {'type': {'auto': False, 'type': 'sel', 'option': 'csv'}, 'preprocess': {'auto': False, 'type': 'sel', 'option': 'none'}, 'source_type': {'auto': False, 'type': 'sel', 'option': 'local'}, 'source_sql': {'auto': False, 'type': 'sel', 'option': 'all'}, 'source_server': {'auto': False, 'type': 'sel', 'option': 'local'}}, 'netconf_node': {'examples_to_show': 10, 'n_hidden': [200, 100], 'learning_rate': 0.01, 'iter': 10, 'batch_size': 5}, 'datasrc': {'type': {'auto': False, 'type': 'sel', 'option': 'csv'}, 'preprocess': {'auto': False, 'type': 'sel', 'option': 'none'}, 'source_type': {'auto': False, 'type': 'sel', 'option': 'local'}, 'source_sql': {'auto': False, 'type': 'sel', 'option': 'all'}, 'source_server': {'auto': False, 'type': 'sel', 'option': 'local'}}, 'eval_node': {'type': {'auto': False, 'type': 'sel', 'option': 'regression'}}, 'feed_train': {'encode_column': ['encode'], 'preprocess': 'frame', 'vocab_size': 10, 'embed_type': 'onehot', 'exclude_column': ['decode']}}\n"
     ]
    }
   ],
   "source": [
    "if(nn_type == 'autoencoder_csv') : \n",
    "    resp = requests.put('http://' + url + '/api/v1/type/automl/state/conf/nnid/' + nn_id + '/',\n",
    "                         json={\n",
    "                             \"datasrc\" :\n",
    "                             {\n",
    "                                     \"source_type\":{\"type\":\"sel\",\"option\":'local',\"auto\":False},\n",
    "                                     \"type\":{\"type\":\"sel\",\"option\":'csv',\"auto\":False},\n",
    "                                     \"source_server\":{\"type\":\"sel\",\"option\":\"local\",\"auto\":False},\n",
    "                                     \"source_sql\":{\"type\":\"sel\",\"option\":\"all\",\"auto\":False},\n",
    "                                     \"preprocess\": {\"type\":\"sel\",\"option\":\"none\",\"auto\":False},\n",
    "                             },\n",
    "                             \"feed_train\" :\n",
    "                             {\n",
    "                                     \"exclude_column\" : [\"decode\"],\n",
    "                                     \"encode_column\" : [\"encode\"],\n",
    "                                     \"vocab_size\" : 10,\n",
    "                                     \"preprocess\": \"frame\",\n",
    "                                     \"embed_type\" : 'onehot'\n",
    "                             },\n",
    "                             \"netconf_node\" :\n",
    "                             {\n",
    "                                     \"learning_rate\" : 0.01,\n",
    "                                     \"iter\" : 10,\n",
    "                                     \"batch_size\" : 5,\n",
    "                                     \"examples_to_show\" : 10,\n",
    "                                     \"n_hidden\" : [200, 100] \n",
    "                             },\n",
    "                             \"evaldata\" :\n",
    "                             {\n",
    "                                     \"source_type\":{\"type\":\"sel\",\"option\":'local',\"auto\":False},\n",
    "                                     \"type\":{\"type\":\"sel\",\"option\":'csv',\"auto\":False},\n",
    "                                     \"source_server\":{\"type\":\"sel\",\"option\":\"local\",\"auto\":False},\n",
    "                                     \"source_sql\":{\"type\":\"sel\",\"option\":\"all\",\"auto\":False},\n",
    "                                     \"preprocess\": {\"type\":\"sel\",\"option\":\"none\",\"auto\":False},\n",
    "                             },\n",
    "                             \"feed_test\" :\n",
    "                             {\n",
    "                                     \"exclude_column\" : [\"decode\"],\n",
    "                                     \"encode_column\" : [\"encode\"],\n",
    "                                     \"vocab_size\" : 10,\n",
    "                                     \"preprocess\": \"frame\",\n",
    "                                     \"embed_type\" : 'onehot'\n",
    "                             },\n",
    "                             \"eval_node\" :\n",
    "                             {\n",
    "                                    \"type\": {\"type\" : \"sel\", \"option\" : \"regression\",\"auto\":False}\n",
    "                             }\n",
    "                         })\n",
    "    data = json.loads(resp.json())\n",
    "    print(\"evaluation result : {0}\".format(data))\n",
    "\n",
    "\n"
   ]
  },
  {
   "cell_type": "markdown",
   "metadata": {},
   "source": [
    "# Set AutoML runtime parameter"
   ]
  },
  {
   "cell_type": "code",
   "execution_count": 7,
   "metadata": {
    "collapsed": false
   },
   "outputs": [
    {
     "name": "stdout",
     "output_type": "stream",
     "text": [
      "evaluation result : {'population': 2, 'generation': 2, 'survive': 1}\n"
     ]
    }
   ],
   "source": [
    "resp = requests.post('http://' + url + '/api/v1/type/automl/state/parm/nnid/' + nn_id + '/',\n",
    "                     json={\n",
    "                         \"generation\": 2,\n",
    "                         \"population\": 2,\n",
    "                         \"survive\" : 1\n",
    "                     })\n",
    "data = json.loads(resp.json())\n",
    "print(\"evaluation result : {0}\".format(data))"
   ]
  },
  {
   "cell_type": "markdown",
   "metadata": {},
   "source": [
    "# Run AutoML"
   ]
  },
  {
   "cell_type": "code",
   "execution_count": 10,
   "metadata": {
    "collapsed": false
   },
   "outputs": [
    {
     "name": "stdout",
     "output_type": "stream",
     "text": [
      "evaluation result : [True]\n"
     ]
    }
   ],
   "source": [
    "resp = requests.post('http://' + url + '/api/v1/type/automl/state/train/nnid/' + nn_id + '/')\n",
    "data = json.loads(resp.json())\n",
    "print(\"evaluation result : {0}\".format(data))"
   ]
  },
  {
   "cell_type": "markdown",
   "metadata": {
    "collapsed": true
   },
   "source": [
    "# Watch AutoML Result"
   ]
  },
  {
   "cell_type": "code",
   "execution_count": 11,
   "metadata": {
    "collapsed": false
   },
   "outputs": [
    {
     "name": "stdout",
     "output_type": "stream",
     "text": [
      "[Best] final result of genetic process\n",
      "{'nn_id': 'auto_encoder044', 'acc': -0.09994827883327263, 'survive': True, 'nn_wf_ver_id': 5, 'flag': True, 'generation': 0}\n",
      "\n",
      "\n",
      "[All] all result by generations\n",
      "===Generation : [0]===\n",
      "{'nn_id': 'auto_encoder044', 'acc': -0.09994827883327263, 'survive': True, 'nn_wf_ver_id': 5, 'flag': True, 'generation': 0}\n",
      "{'nn_id': 'auto_encoder044', 'acc': -0.8821344952198783, 'survive': False, 'nn_wf_ver_id': 4, 'flag': True, 'generation': 0}\n",
      "\n",
      "\n",
      "===Generation : [1]===\n",
      "{'nn_id': 'auto_encoder044', 'acc': -0.09994827883327263, 'survive': True, 'nn_wf_ver_id': 5, 'flag': True, 'generation': 0}\n",
      "{'nn_id': 'auto_encoder044', 'acc': -0.23418276470193852, 'survive': False, 'nn_wf_ver_id': 6, 'flag': True, 'generation': 1}\n",
      "\n",
      "\n"
     ]
    }
   ],
   "source": [
    "resp = requests.get('http://' + url + '/api/v1/type/automl/state/stat/nnid/' + nn_id + '/')\n",
    "data = json.loads(resp.json())\n",
    "\n",
    "print(\"[Best] final result of genetic process\")\n",
    "for raw in data['best'] : \n",
    "    print(raw)\n",
    "    print('\\n')\n",
    "    \n",
    "print(\"[All] all result by generations\")\n",
    "for idx,raw in enumerate(data['bygen']) : \n",
    "    print(\"===Generation : [{0}]===\".format(idx))\n",
    "    for idx, l in enumerate(raw) :\n",
    "        print(l)\n",
    "    print('\\n')\n"
   ]
  },
  {
   "cell_type": "markdown",
   "metadata": {
    "collapsed": true
   },
   "source": [
    "# Check Version info "
   ]
  },
  {
   "cell_type": "code",
   "execution_count": 12,
   "metadata": {
    "collapsed": false
   },
   "outputs": [
    {
     "name": "stdout",
     "output_type": "stream",
     "text": [
      "===Raw : [0]=== \n",
      "{'pred_batch_ver_id': None, 'nn_id': 'auto_encoder044', 'pred_acc_info': None, 'active_flag': 'N', 'model': 'N', 'nn_wf_ver_desc': '', 'condition': '3', 't_result_info': None, 'train_loss_info': None, 'nn_wf_ver_id': 1, 'p_result_info': None, 'train_acc_info': None, 'train_batch_ver_id': None, 'pred_loss_info': None}\n",
      "===Raw : [1]=== \n",
      "{'pred_batch_ver_id': None, 'nn_id': 'auto_encoder044', 'pred_acc_info': None, 'active_flag': 'N', 'model': 'N', 'nn_wf_ver_desc': '', 'condition': '3', 't_result_info': None, 'train_loss_info': None, 'nn_wf_ver_id': 2, 'p_result_info': None, 'train_acc_info': None, 'train_batch_ver_id': None, 'pred_loss_info': None}\n",
      "===Raw : [2]=== \n",
      "{'pred_batch_ver_id': None, 'nn_id': 'auto_encoder044', 'pred_acc_info': None, 'active_flag': 'N', 'model': 'N', 'nn_wf_ver_desc': '', 'condition': '3', 't_result_info': None, 'train_loss_info': None, 'nn_wf_ver_id': 3, 'p_result_info': None, 'train_acc_info': None, 'train_batch_ver_id': None, 'pred_loss_info': None}\n",
      "===Raw : [3]=== \n",
      "{'pred_batch_ver_id': 'auto_encoder044_4_1', 'nn_id': 'auto_encoder044', 'pred_acc_info': None, 'pred_model_exists': 'Y', 'active_flag': 'N', 'train_model': 'auto_encoder044_4_1', 'nn_wf_ver_desc': '', 'p_result_info': {'predicts': ['0.238941312647', '0.385693396469', '0.00257166143569', '0.000772369361531', '0.999996744435', '0.0204213200149', '0.0209183960915', '0.000690347477143', '0.436107728707', '0.0058073666869', '0.00222491985993', '0.999999583737', '0.999999583737', '0.999999583737', '0.999999583737', '0.999999583737', '0.999999583737', '0.999999583737', '0.999999583737', '0.999999583737', '0.999999583737', '0.999999583737', '0.999999583737', '0.999999583737', '0.999999583737', '0.999999583737', '0.999999583737', '0.999999583737', '0.999999583737', '0.999999583737', '0.999999583737', '0.999999583737', '0.999999583737', '0.999999583737', '0.999999583737', '0.999999583737', '0.999999583737', '0.999999583737', '0.999999583737', '0.999999583737', '0.999999583737', '0.999999583737', '0.999999583737', '0.999999583737', '0.999999583737', '0.999999583737', '0.999999583737', '0.999999583737', '0.999999583737', '0.999999583737', '0.999999583737', '0.999999583737', '0.999999583737', '0.999999583737', '0.999999583737', '0.999999583737', '0.999999583737', '0.999999583737', '0.999999583737', '0.999999583737', '0.999999583737', '0.999999583737', '0.999999583737', '0.999999583737', '0.999999583737', '0.999999583737', '0.999999583737', '0.999999583737', '0.999999583737', '0.999999583737', '0.999999583737', '0.999999583737', '0.999999583737', '0.999999583737', '0.999999583737', '0.999999583737', '0.999999583737', '0.999999583737', '0.999999583737', '0.999999583737', '0.999999583737', '0.999999583737', '0.999999583737', '0.999999583737', '0.999999583737', '0.999999583737', '0.999999583737', '0.999999583737', '0.999999583737', '0.999999583737', '0.999999583737', '0.999999583737', '0.999999583737', '0.999999583737', '0.999999583737', '0.999999583737', '0.999999583737', '0.999999583737', '0.999999583737', '0.999999583737', '0.999999583737', '0.999999583737', '0.999999583737', '0.999999583737', '0.999999583737', '0.999999583737', '0.999999583737', '0.999999583737', '0.999999583737', '0.999999583737', '0.999999583737', '0.999999583737', '0.999999583737', '0.999999583737', '0.999999583737', '0.999999583737', '0.999999583737', '0.999999583737', '0.999999583737', '0.999999583737', '0.999999583737', '0.999999583737', '0.999999583737', '0.999999583737', '0.999999583737', '0.999999583737', '0.999999583737', '0.999999583737', '0.999999583737', '0.999999583737', '0.999999583737', '0.999999583737', '0.999999583737', '0.999999583737', '0.999999583737', '0.999999583737', '0.999999583737', '0.999999583737', '0.999999583737', '0.999999583737', '0.999999583737', '0.999999583737', '0.999999583737', '0.999999583737', '0.999999583737', '0.999999583737', '0.999999583737', '0.999999583737', '0.999999583737', '0.999999583737', '0.999999583737', '0.999999583737', '0.999999583737', '0.999999583737', '0.999999583737', '0.999999583737', '0.999999583737', '0.999999583737', '0.999999583737', '0.999999583737', '0.999999583737', '0.999999583737', '0.999999583737', '0.999999583737', '0.999999583737', '0.999999583737', '0.999999583737', '0.999999583737', '0.999999583737', '0.999999583737', '0.999999583737', '0.999999583737', '0.999999583737', '0.999999583737', '0.999999583737', '0.999999583737', '0.999999583737', '0.999999583737', '0.999999583737', '0.999999583737', '0.999999583737', '0.999999583737', '0.999999583737', '0.999999583737', '0.999999583737', '0.999999583737', '0.999999583737', '0.999999583737', '0.999999583737', '0.999999583737', '0.999999583737', '0.999999583737', '0.999999583737', '0.999999583737', '0.999999583737', '0.999999583737', '0.999999583737', '0.999999583737', '0.999999583737', '0.999999583737', '0.999999583737', '0.999999583737', '0.999999583737', '0.999999583737', '0.999999583737', '0.999999583737', '0.999999583737', '0.999999583737', '0.999999583737', '0.999999583737', '0.999999583737', '0.999999583737', '0.999999583737', '0.999999583737', '0.999999583737', '0.999999583737', '0.999999583737', '0.999999583737', '0.999999583737', '0.999999583737', '0.999999583737', '0.999999583737', '0.999999583737', '0.999999583737', '0.999999583737', '0.999999583737', '0.999999583737', '0.999999583737', '0.999999583737', '0.999999583737', '0.999999583737', '0.999999583737', '0.999999583737', '0.999999583737', '0.999999583737', '0.999999583737', '0.999999583737', '0.999999583737', '0.999999583737', '0.999999583737', '0.999999583737', '0.999999583737', '0.999999583737', '0.999999583737', '0.999999583737', '0.999999583737', '0.999999583737', '0.999999583737', '0.999999583737', '0.999999583737', '0.999999583737', '0.999999583737', '0.999999583737', '0.999999583737', '0.999999583737', '0.999999583737', '0.999999583737', '0.999999583737', '0.999999583737', '0.999999583737', '0.999999583737', '0.999999583737', '0.999999583737', '0.999999583737', '0.999999583737', '0.999999583737', '0.999999583737', '0.999999583737', '0.999999583737', '0.999999583737', '0.999999583737', '0.999999583737', '0.999999583737', '0.999999583737', '0.999999583737', '0.999999583737', '0.999999583737', '0.999999583737', '0.999999583737', '0.999999583737', '0.999999583737', '0.999999583737', '0.999999583737', '0.999999583737', '0.999999583737', '0.999999583737', '0.999999583737', '0.999999583737', '0.999999583737', '0.999999583737', '0.999999583737', '0.999999583737', '0.999999583737', '0.999999583737', '0.999999583737', '0.999999583737', '0.999999583737', '0.999999583737', '0.999999583737', '0.999999583737', '0.999999583737', '0.999999583737', '0.999999583737', '0.999999583737', '0.999999583737', '0.999999583737', '0.999999583737', '0.999999583737', '0.999999583737', '0.999999583737', '0.999999583737', '0.999999583737', '0.999999583737', '0.999999583737', '0.999999583737', '0.999999583737', '0.999999583737', '0.999999583737', '0.999999583737', '0.999999583737', '0.999999583737', '0.999999583737', '0.999999583737', '0.999999583737', '0.999999583737', '0.999999583737', '0.999999583737', '0.999999583737', '0.999999583737', '0.999999583737', '0.999999583737', '0.999999583737', '0.999999583737', '0.999999583737', '0.999999583737', '0.999999583737', '0.999999583737', '0.999999583737', '0.999999583737', '0.999999583737', '0.999999583737', '0.999999583737', '0.999999583737', '0.999999583737', '0.999999583737', '0.999999583737', '0.999999583737', '0.999999583737', '0.999999583737', '0.999999583737', '0.999999583737', '0.999999583737', '0.999999583737', '0.999999583737', '0.999999583737', '0.999999583737', '0.999999583737', '0.999999583737', '0.999999583737', '0.999999583737', '0.999999583737', '0.999999583737', '0.999999583737', '0.999999583737', '0.999999583737', '0.999999583737', '0.999999583737', '0.999999583737', '0.999999583737', '0.999999583737', '0.999999583737', '0.999999583737', '0.999999583737', '0.999999583737', '0.999999583737', '0.999999583737', '0.999999583737', '0.999999583737', '0.999999583737', '0.999999583737', '0.999999583737', '0.999999583737', '0.999999583737', '0.999999583737', '0.999999583737', '0.999999583737', '0.999999583737', '0.999999583737', '0.999999583737', '0.999999583737', '0.999999583737', '0.999999583737', '0.999999583737', '0.999999583737', '0.999999583737', '0.999999583737', '0.999999583737', '0.999999583737', '0.999999583737', '0.999999583737', '0.999999583737', '0.999999583737', '0.999999583737', '0.999999583737', '0.999999583737', '0.999999583737', '0.999999583737', '0.999999583737', '0.999999583737', '0.999999583737', '0.999999583737', '0.999999583737', '0.999999583737', '0.999999583737', '0.999999583737', '0.999999583737', '0.999999583737', '0.999999583737', '0.999999583737', '0.999999583737', '0.999999583737', '0.999999583737', '0.999999583737', '0.999999583737', '0.999999583737'], 'labels': ['0.1', '0.1', '0.1', '0.1', '0.1', '0.1', '0.1', '0.1', '0.1', '0.1', '0.1', '0.1', '0.1', '0.1', '0.1', '0.1', '0.1', '0.1', '0.1', '0.1', '0.1', '0.1', '0.1', '0.1', '0.1', '0.1', '0.1', '0.1', '0.1', '0.1', '0.1', '0.1', '0.1', '0.1', '0.1', '0.1', '0.1', '0.1', '0.1', '0.1', '0.1', '0.1', '0.1', '0.1', '0.1', '0.1', '0.1', '0.1', '0.1', '0.1', '0.1', '0.1', '0.1', '0.1', '0.1', '0.1', '0.1', '0.1', '0.1', '0.1', '0.1', '0.1', '0.1', '0.1', '0.1', '0.1', '0.1', '0.1', '0.1', '0.1', '0.1', '0.1', '0.1', '0.1', '0.1', '0.1', '0.1', '0.1', '0.1', '0.1', '0.1', '0.1', '0.1', '0.1', '0.1', '0.1', '0.1', '0.1', '0.1', '0.1', '0.1', '0.1', '0.1', '0.1', '0.1', '0.1', '0.1', '0.1', '0.1', '0.1', '0.1', '0.1', '0.1', '0.1', '0.1', '0.1', '0.1', '0.1', '0.1', '0.1', '0.1', '0.1', '0.1', '0.1', '0.1', '0.1', '0.1', '0.1', '0.1', '0.1', '0.1', '0.1', '0.1', '0.1', '0.1', '0.1', '0.1', '0.1', '0.1', '0.1', '0.1', '0.1', '0.1', '0.1', '0.1', '0.1', '0.1', '0.1', '0.1', '0.1', '0.1', '0.1', '0.1', '0.1', '0.1', '0.1', '0.1', '0.1', '0.1', '0.1', '0.1', '0.1', '0.1', '0.1', '0.1', '0.1', '0.1', '0.1', '0.1', '0.1', '0.1', '0.1', '0.1', '0.1', '0.1', '0.1', '0.1', '0.1', '0.1', '0.1', '0.1', '0.1', '0.1', '0.1', '0.1', '0.1', '0.1', '0.1', '0.1', '0.1', '0.1', '0.1', '0.1', '0.1', '0.1', '0.1', '0.1', '0.1', '0.1', '0.1', '0.1', '0.1', '0.1', '0.1', '0.1', '0.1', '0.1', '0.1', '0.1', '0.1', '0.1', '0.1', '0.1', '0.1', '0.1', '0.1', '0.1', '0.1', '0.1', '0.1', '0.1', '0.1', '0.1', '0.1', '0.1', '0.1', '0.1', '0.1', '0.1', '0.1', '0.1', '0.1', '0.1', '0.1', '0.1', '0.1', '0.1', '0.1', '0.1', '0.1', '0.1', '0.1', '0.1', '0.1', '0.1', '0.1', '0.1', '0.1', '0.1', '0.1', '0.1', '0.1', '0.1', '0.1', '0.1', '0.1', '0.1', '0.1', '0.1', '0.1', '0.1', '0.1', '0.1', '0.1', '0.1', '0.1', '0.1', '0.1', '0.1', '0.1', '0.1', '0.1', '0.1', '0.1', '0.1', '0.1', '0.1', '0.1', '0.1', '0.1', '0.1', '0.1', '0.1', '0.1', '0.1', '0.1', '0.1', '0.1', '0.1', '0.1', '0.1', '0.1', '0.1', '0.1', '0.1', '0.1', '0.1', '0.1', '0.1', '0.1', '0.1', '0.1', '0.1', '0.1', '0.1', '0.1', '0.1', '0.1', '0.1', '0.1', '0.1', '0.1', '0.1', '0.1', '0.1', '0.1', '0.1', '0.1', '0.1', '0.1', '0.1', '0.1', '0.1', '0.1', '0.1', '0.1', '0.1', '0.1', '0.1', '0.1', '0.1', '0.1', '0.1', '0.1', '0.1', '0.1', '0.1', '0.1', '0.1', '0.1', '0.1', '0.1', '0.1', '0.1', '0.1', '0.1', '0.1', '0.1', '0.1', '0.1', '0.1', '0.1', '0.1', '0.1', '0.1', '0.1', '0.1', '0.1', '0.1', '0.1', '0.1', '0.1', '0.1', '0.1', '0.1', '0.1', '0.1', '0.1', '0.1', '0.1', '0.1', '0.1', '0.1', '0.1', '0.1', '0.1', '0.1', '0.1', '0.1', '0.1', '0.1', '0.1', '0.1', '0.1', '0.1', '0.1', '0.1', '0.1', '0.1', '0.1', '0.1', '0.1', '0.1', '0.1', '0.1', '0.1', '0.1', '0.1', '0.1', '0.1', '0.1', '0.1', '0.1', '0.1', '0.1', '0.1', '0.1', '0.1', '0.1', '0.1', '0.1', '0.1', '0.1', '0.1', '0.1', '0.1', '0.1', '0.1', '0.1', '0.1', '0.1', '0.1', '0.1', '0.1', '0.1', '0.1', '0.1', '0.1', '0.1', '0.1', '0.1', '0.1', '0.1', '0.1', '0.1']}, 'pred_model': 'auto_encoder044_4_1', 'train_model_exists': 'Y', 'condition': '3', 't_result_info': {'predicts': ['0.238941312647', '0.385693396469', '0.00257166143569', '0.000772369361531', '0.999996744435', '0.0204213200149', '0.0209183960915', '0.000690347477143', '0.436107728707', '0.0058073666869', '0.00222491985993', '0.999999583737', '0.999999583737', '0.999999583737', '0.999999583737', '0.999999583737', '0.999999583737', '0.999999583737', '0.999999583737', '0.999999583737', '0.999999583737', '0.999999583737', '0.999999583737', '0.999999583737', '0.999999583737', '0.999999583737', '0.999999583737', '0.999999583737', '0.999999583737', '0.999999583737', '0.999999583737', '0.999999583737', '0.999999583737', '0.999999583737', '0.999999583737', '0.999999583737', '0.999999583737', '0.999999583737', '0.999999583737', '0.999999583737', '0.999999583737', '0.999999583737', '0.999999583737', '0.999999583737', '0.999999583737', '0.999999583737', '0.999999583737', '0.999999583737', '0.999999583737', '0.999999583737', '0.999999583737', '0.999999583737', '0.999999583737', '0.999999583737', '0.999999583737', '0.999999583737', '0.999999583737', '0.999999583737', '0.999999583737', '0.999999583737', '0.999999583737', '0.999999583737', '0.999999583737', '0.999999583737', '0.999999583737', '0.999999583737', '0.999999583737', '0.999999583737', '0.999999583737', '0.999999583737', '0.999999583737', '0.999999583737', '0.999999583737', '0.999999583737', '0.999999583737', '0.999999583737', '0.999999583737', '0.999999583737', '0.999999583737', '0.999999583737', '0.999999583737', '0.999999583737', '0.999999583737', '0.999999583737', '0.999999583737', '0.999999583737', '0.999999583737', '0.999999583737', '0.999999583737', '0.999999583737', '0.999999583737', '0.999999583737', '0.999999583737', '0.999999583737', '0.999999583737', '0.999999583737', '0.999999583737', '0.999999583737', '0.999999583737', '0.999999583737', '0.999999583737', '0.999999583737', '0.999999583737', '0.999999583737', '0.999999583737', '0.999999583737', '0.999999583737', '0.999999583737', '0.999999583737', '0.999999583737', '0.999999583737', '0.999999583737', '0.999999583737', '0.999999583737', '0.999999583737', '0.999999583737', '0.999999583737', '0.999999583737', '0.999999583737', '0.999999583737', '0.999999583737', '0.999999583737', '0.999999583737', '0.999999583737', '0.999999583737', '0.999999583737', '0.999999583737', '0.999999583737', '0.999999583737', '0.999999583737', '0.999999583737', '0.999999583737', '0.999999583737', '0.999999583737', '0.999999583737', '0.999999583737', '0.999999583737', '0.999999583737', '0.999999583737', '0.999999583737', '0.999999583737', '0.999999583737', '0.999999583737', '0.999999583737', '0.999999583737', '0.999999583737', '0.999999583737', '0.999999583737', '0.999999583737', '0.999999583737', '0.999999583737', '0.999999583737', '0.999999583737', '0.999999583737', '0.999999583737', '0.999999583737', '0.999999583737', '0.999999583737', '0.999999583737', '0.999999583737', '0.999999583737', '0.999999583737', '0.999999583737', '0.999999583737', '0.999999583737', '0.999999583737', '0.999999583737', '0.999999583737', '0.999999583737', '0.999999583737', '0.999999583737', '0.999999583737', '0.999999583737', '0.999999583737', '0.999999583737', '0.999999583737', '0.999999583737', '0.999999583737', '0.999999583737', '0.999999583737', '0.999999583737', '0.999999583737', '0.999999583737', '0.999999583737', '0.999999583737', '0.999999583737', '0.999999583737', '0.999999583737', '0.999999583737', '0.999999583737', '0.999999583737', '0.999999583737', '0.999999583737', '0.999999583737', '0.999999583737', '0.999999583737', '0.999999583737', '0.999999583737', '0.999999583737', '0.999999583737', '0.999999583737', '0.999999583737', '0.999999583737', '0.999999583737', '0.999999583737', '0.999999583737', '0.999999583737', '0.999999583737', '0.999999583737', '0.999999583737', '0.999999583737', '0.999999583737', '0.999999583737', '0.999999583737', '0.999999583737', '0.999999583737', '0.999999583737', '0.999999583737', '0.999999583737', '0.999999583737', '0.999999583737', '0.999999583737', '0.999999583737', '0.999999583737', '0.999999583737', '0.999999583737', '0.999999583737', '0.999999583737', '0.999999583737', '0.999999583737', '0.999999583737', '0.999999583737', '0.999999583737', '0.999999583737', '0.999999583737', '0.999999583737', '0.999999583737', '0.999999583737', '0.999999583737', '0.999999583737', '0.999999583737', '0.999999583737', '0.999999583737', '0.999999583737', '0.999999583737', '0.999999583737', '0.999999583737', '0.999999583737', '0.999999583737', '0.999999583737', '0.999999583737', '0.999999583737', '0.999999583737', '0.999999583737', '0.999999583737', '0.999999583737', '0.999999583737', '0.999999583737', '0.999999583737', '0.999999583737', '0.999999583737', '0.999999583737', '0.999999583737', '0.999999583737', '0.999999583737', '0.999999583737', '0.999999583737', '0.999999583737', '0.999999583737', '0.999999583737', '0.999999583737', '0.999999583737', '0.999999583737', '0.999999583737', '0.999999583737', '0.999999583737', '0.999999583737', '0.999999583737', '0.999999583737', '0.999999583737', '0.999999583737', '0.999999583737', '0.999999583737', '0.999999583737', '0.999999583737', '0.999999583737', '0.999999583737', '0.999999583737', '0.999999583737', '0.999999583737', '0.999999583737', '0.999999583737', '0.999999583737', '0.999999583737', '0.999999583737', '0.999999583737', '0.999999583737', '0.999999583737', '0.999999583737', '0.999999583737', '0.999999583737', '0.999999583737', '0.999999583737', '0.999999583737', '0.999999583737', '0.999999583737', '0.999999583737', '0.999999583737', '0.999999583737', '0.999999583737', '0.999999583737', '0.999999583737', '0.999999583737', '0.999999583737', '0.999999583737', '0.999999583737', '0.999999583737', '0.999999583737', '0.999999583737', '0.999999583737', '0.999999583737', '0.999999583737', '0.999999583737', '0.999999583737', '0.999999583737', '0.999999583737', '0.999999583737', '0.999999583737', '0.999999583737', '0.999999583737', '0.999999583737', '0.999999583737', '0.999999583737', '0.999999583737', '0.999999583737', '0.999999583737', '0.999999583737', '0.999999583737', '0.999999583737', '0.999999583737', '0.999999583737', '0.999999583737', '0.999999583737', '0.999999583737', '0.999999583737', '0.999999583737', '0.999999583737', '0.999999583737', '0.999999583737', '0.999999583737', '0.999999583737', '0.999999583737', '0.999999583737', '0.999999583737', '0.999999583737', '0.999999583737', '0.999999583737', '0.999999583737', '0.999999583737', '0.999999583737', '0.999999583737', '0.999999583737', '0.999999583737', '0.999999583737', '0.999999583737', '0.999999583737', '0.999999583737', '0.999999583737', '0.999999583737', '0.999999583737', '0.999999583737', '0.999999583737', '0.999999583737', '0.999999583737', '0.999999583737', '0.999999583737', '0.999999583737', '0.999999583737', '0.999999583737', '0.999999583737', '0.999999583737', '0.999999583737', '0.999999583737', '0.999999583737', '0.999999583737', '0.999999583737', '0.999999583737', '0.999999583737', '0.999999583737', '0.999999583737', '0.999999583737', '0.999999583737', '0.999999583737', '0.999999583737', '0.999999583737', '0.999999583737', '0.999999583737', '0.999999583737', '0.999999583737', '0.999999583737', '0.999999583737', '0.999999583737', '0.999999583737', '0.999999583737', '0.999999583737', '0.999999583737', '0.999999583737', '0.999999583737', '0.999999583737', '0.999999583737', '0.999999583737', '0.999999583737', '0.999999583737', '0.999999583737', '0.999999583737', '0.999999583737', '0.999999583737', '0.999999583737', '0.999999583737', '0.999999583737', '0.999999583737', '0.999999583737', '0.999999583737', '0.999999583737', '0.999999583737'], 'labels': ['0.1', '0.1', '0.1', '0.1', '0.1', '0.1', '0.1', '0.1', '0.1', '0.1', '0.1', '0.1', '0.1', '0.1', '0.1', '0.1', '0.1', '0.1', '0.1', '0.1', '0.1', '0.1', '0.1', '0.1', '0.1', '0.1', '0.1', '0.1', '0.1', '0.1', '0.1', '0.1', '0.1', '0.1', '0.1', '0.1', '0.1', '0.1', '0.1', '0.1', '0.1', '0.1', '0.1', '0.1', '0.1', '0.1', '0.1', '0.1', '0.1', '0.1', '0.1', '0.1', '0.1', '0.1', '0.1', '0.1', '0.1', '0.1', '0.1', '0.1', '0.1', '0.1', '0.1', '0.1', '0.1', '0.1', '0.1', '0.1', '0.1', '0.1', '0.1', '0.1', '0.1', '0.1', '0.1', '0.1', '0.1', '0.1', '0.1', '0.1', '0.1', '0.1', '0.1', '0.1', '0.1', '0.1', '0.1', '0.1', '0.1', '0.1', '0.1', '0.1', '0.1', '0.1', '0.1', '0.1', '0.1', '0.1', '0.1', '0.1', '0.1', '0.1', '0.1', '0.1', '0.1', '0.1', '0.1', '0.1', '0.1', '0.1', '0.1', '0.1', '0.1', '0.1', '0.1', '0.1', '0.1', '0.1', '0.1', '0.1', '0.1', '0.1', '0.1', '0.1', '0.1', '0.1', '0.1', '0.1', '0.1', '0.1', '0.1', '0.1', '0.1', '0.1', '0.1', '0.1', '0.1', '0.1', '0.1', '0.1', '0.1', '0.1', '0.1', '0.1', '0.1', '0.1', '0.1', '0.1', '0.1', '0.1', '0.1', '0.1', '0.1', '0.1', '0.1', '0.1', '0.1', '0.1', '0.1', '0.1', '0.1', '0.1', '0.1', '0.1', '0.1', '0.1', '0.1', '0.1', '0.1', '0.1', '0.1', '0.1', '0.1', '0.1', '0.1', '0.1', '0.1', '0.1', '0.1', '0.1', '0.1', '0.1', '0.1', '0.1', '0.1', '0.1', '0.1', '0.1', '0.1', '0.1', '0.1', '0.1', '0.1', '0.1', '0.1', '0.1', '0.1', '0.1', '0.1', '0.1', '0.1', '0.1', '0.1', '0.1', '0.1', '0.1', '0.1', '0.1', '0.1', '0.1', '0.1', '0.1', '0.1', '0.1', '0.1', '0.1', '0.1', '0.1', '0.1', '0.1', '0.1', '0.1', '0.1', '0.1', '0.1', '0.1', '0.1', '0.1', '0.1', '0.1', '0.1', '0.1', '0.1', '0.1', '0.1', '0.1', '0.1', '0.1', '0.1', '0.1', '0.1', '0.1', '0.1', '0.1', '0.1', '0.1', '0.1', '0.1', '0.1', '0.1', '0.1', '0.1', '0.1', '0.1', '0.1', '0.1', '0.1', '0.1', '0.1', '0.1', '0.1', '0.1', '0.1', '0.1', '0.1', '0.1', '0.1', '0.1', '0.1', '0.1', '0.1', '0.1', '0.1', '0.1', '0.1', '0.1', '0.1', '0.1', '0.1', '0.1', '0.1', '0.1', '0.1', '0.1', '0.1', '0.1', '0.1', '0.1', '0.1', '0.1', '0.1', '0.1', '0.1', '0.1', '0.1', '0.1', '0.1', '0.1', '0.1', '0.1', '0.1', '0.1', '0.1', '0.1', '0.1', '0.1', '0.1', '0.1', '0.1', '0.1', '0.1', '0.1', '0.1', '0.1', '0.1', '0.1', '0.1', '0.1', '0.1', '0.1', '0.1', '0.1', '0.1', '0.1', '0.1', '0.1', '0.1', '0.1', '0.1', '0.1', '0.1', '0.1', '0.1', '0.1', '0.1', '0.1', '0.1', '0.1', '0.1', '0.1', '0.1', '0.1', '0.1', '0.1', '0.1', '0.1', '0.1', '0.1', '0.1', '0.1', '0.1', '0.1', '0.1', '0.1', '0.1', '0.1', '0.1', '0.1', '0.1', '0.1', '0.1', '0.1', '0.1', '0.1', '0.1', '0.1', '0.1', '0.1', '0.1', '0.1', '0.1', '0.1', '0.1', '0.1', '0.1', '0.1', '0.1', '0.1', '0.1', '0.1', '0.1', '0.1', '0.1', '0.1', '0.1', '0.1', '0.1', '0.1', '0.1', '0.1', '0.1', '0.1', '0.1', '0.1', '0.1', '0.1', '0.1', '0.1', '0.1', '0.1', '0.1', '0.1', '0.1', '0.1', '0.1', '0.1', '0.1', '0.1', '0.1', '0.1', '0.1', '0.1', '0.1', '0.1', '0.1', '0.1', '0.1', '0.1', '0.1', '0.1', '0.1', '0.1', '0.1', '0.1', '0.1']}, 'train_loss_info': None, 'nn_wf_ver_id': 4, 'model': 'N', 'train_acc_info': None, 'train_batch_ver_id': 'auto_encoder044_4_1', 'pred_loss_info': None}\n",
      "===Raw : [4]=== \n",
      "{'pred_batch_ver_id': 'auto_encoder044_5_1', 'nn_id': 'auto_encoder044', 'pred_acc_info': None, 'pred_model_exists': 'Y', 'active_flag': 'Y', 'train_model': 'auto_encoder044_5_1', 'nn_wf_ver_desc': '', 'p_result_info': {'predicts': ['0.403995578154', '0.429886876835', '0.0612681650512', '0.00242058796831', '0.00901797225916', '0.00134016412834', '0.435284852144', '0.230794702919', '0.0273387809246', '0.36924983056', '0.400265819462', '0.00239148184928', '0.00239148184928', '0.00239148184928', '0.00239148184928', '0.00239148184928', '0.00239148184928', '0.00239148184928', '0.00239148184928', '0.00239148184928', '0.00239148184928', '0.00239148184928', '0.00239148184928', '0.00239148184928', '0.00239148184928', '0.00239148184928', '0.00239148184928', '0.00239148184928', '0.00239148184928', '0.00239148184928', '0.00239148184928', '0.00239148184928', '0.00239148184928', '0.00239148184928', '0.00239148184928', '0.00239148184928', '0.00239148184928', '0.00239148184928', '0.00239148184928', '0.00239148184928', '0.00239148184928', '0.00239148184928', '0.00239148184928', '0.00239148184928', '0.00239148184928', '0.00239148184928', '0.00239148184928', '0.00239148184928', '0.00239148184928', '0.00239148184928', '0.00239148184928', '0.00239148184928', '0.00239148184928', '0.00239148184928', '0.00239148184928', '0.00239148184928', '0.00239148184928', '0.00239148184928', '0.00239148184928', '0.00239148184928', '0.00239148184928', '0.00239148184928', '0.00239148184928', '0.00239148184928', '0.00239148184928', '0.00239148184928', '0.00239148184928', '0.00239148184928', '0.00239148184928', '0.00239148184928', '0.00239148184928', '0.00239148184928', '0.00239148184928', '0.00239148184928', '0.00239148184928', '0.00239148184928', '0.00239148184928', '0.00239148184928', '0.00239148184928', '0.00239148184928', '0.00239148184928', '0.00239148184928', '0.00239148184928', '0.00239148184928', '0.00239148184928', '0.00239148184928', '0.00239148184928', '0.00239148184928', '0.00239148184928', '0.00239148184928', '0.00239148184928', '0.00239148184928', '0.00239148184928', '0.00239148184928', '0.00239148184928', '0.00239148184928', '0.00239148184928', '0.00239148184928', '0.00239148184928', '0.00239148184928', '0.00239148184928', '0.00239148184928', '0.00239148184928', '0.00239148184928', '0.00239148184928', '0.00239148184928', '0.00239148184928', '0.00239148184928', '0.00239148184928', '0.00239148184928', '0.00239148184928', '0.00239148184928', '0.00239148184928', '0.00239148184928', '0.00239148184928', '0.00239148184928', '0.00239148184928', '0.00239148184928', '0.00239148184928', '0.00239148184928', '0.00239148184928', '0.00239148184928', '0.00239148184928', '0.00239148184928', '0.00239148184928', '0.00239148184928', '0.00239148184928', '0.00239148184928', '0.00239148184928', '0.00239148184928', '0.00239148184928', '0.00239148184928', '0.00239148184928', '0.00239148184928', '0.00239148184928', '0.00239148184928', '0.00239148184928', '0.00239148184928', '0.00239148184928', '0.00239148184928', '0.00239148184928', '0.00239148184928', '0.00239148184928', '0.00239148184928', '0.00239148184928', '0.00239148184928', '0.00239148184928', '0.00239148184928', '0.00239148184928', '0.00239148184928', '0.00239148184928', '0.00239148184928', '0.00239148184928', '0.00239148184928', '0.00239148184928', '0.00239148184928', '0.00239148184928', '0.00239148184928', '0.00239148184928', '0.00239148184928', '0.00239148184928', '0.00239148184928', '0.00239148184928', '0.00239148184928', '0.00239148184928', '0.00239148184928', '0.00239148184928', '0.00239148184928', '0.00239148184928', '0.00239148184928', '0.00239148184928', '0.00239148184928', '0.00239148184928', '0.00239148184928', '0.00239148184928', '0.00239148184928', '0.00239148184928', '0.00239148184928', '0.00239148184928', '0.00239148184928', '0.00239148184928', '0.00239148184928', '0.00239148184928', '0.00239148184928', '0.00239148184928', '0.00239148184928', '0.00239148184928', '0.00239148184928', '0.00239148184928', '0.00239148184928', '0.00239148184928', '0.00239148184928', '0.00239148184928', '0.00239148184928', '0.00239148184928', '0.00239148184928', '0.00239148184928', '0.00239148184928', '0.00239148184928', '0.00239148184928', '0.00239148184928', '0.00239148184928', '0.00239148184928', '0.00239148184928', '0.00239148184928', '0.00239148184928', '0.00239148184928', '0.00239148184928', '0.00239148184928', '0.00239148184928', '0.00239148184928', '0.00239148184928', '0.00239148184928', '0.00239148184928', '0.00239148184928', '0.00239148184928', '0.00239148184928', '0.00239148184928', '0.00239148184928', '0.00239148184928', '0.00239148184928', '0.00239148184928', '0.00239148184928', '0.00239148184928', '0.00239148184928', '0.00239148184928', '0.00239148184928', '0.00239148184928', '0.00239148184928', '0.00239148184928', '0.00239148184928', '0.00239148184928', '0.00239148184928', '0.00239148184928', '0.00239148184928', '0.00239148184928', '0.00239148184928', '0.00239148184928', '0.00239148184928', '0.00239148184928', '0.00239148184928', '0.00239148184928', '0.00239148184928', '0.00239148184928', '0.00239148184928', '0.00239148184928', '0.00239148184928', '0.00239148184928', '0.00239148184928', '0.00239148184928', '0.00239148184928', '0.00239148184928', '0.00239148184928', '0.00239148184928', '0.00239148184928', '0.00239148184928', '0.00239148184928', '0.00239148184928', '0.00239148184928', '0.00239148184928', '0.00239148184928', '0.00239148184928', '0.00239148184928', '0.00239148184928', '0.00239148184928', '0.00239148184928', '0.00239148184928', '0.00239148184928', '0.00239148184928', '0.00239148184928', '0.00239148184928', '0.00239148184928', '0.00239148184928', '0.00239148184928', '0.00239148184928', '0.00239148184928', '0.00239148184928', '0.00239148184928', '0.00239148184928', '0.00239148184928', '0.00239148184928', '0.00239148184928', '0.00239148184928', '0.00239148184928', '0.00239148184928', '0.00239148184928', '0.00239148184928', '0.00239148184928', '0.00239148184928', '0.00239148184928', '0.00239148184928', '0.00239148184928', '0.00239148184928', '0.00239148184928', '0.00239148184928', '0.00239148184928', '0.00239148184928', '0.00239148184928', '0.00239148184928', '0.00239148184928', '0.00239148184928', '0.00239148184928', '0.00239148184928', '0.00239148184928', '0.00239148184928', '0.00239148184928', '0.00239148184928', '0.00239148184928', '0.00239148184928', '0.00239148184928', '0.00239148184928', '0.00239148184928', '0.00239148184928', '0.00239148184928', '0.00239148184928', '0.00239148184928', '0.00239148184928', '0.00239148184928', '0.00239148184928', '0.00239148184928', '0.00239148184928', '0.00239148184928', '0.00239148184928', '0.00239148184928', '0.00239148184928', '0.00239148184928', '0.00239148184928', '0.00239148184928', '0.00239148184928', '0.00239148184928', '0.00239148184928', '0.00239148184928', '0.00239148184928', '0.00239148184928', '0.00239148184928', '0.00239148184928', '0.00239148184928', '0.00239148184928', '0.00239148184928', '0.00239148184928', '0.00239148184928', '0.00239148184928', '0.00239148184928', '0.00239148184928', '0.00239148184928', '0.00239148184928', '0.00239148184928', '0.00239148184928', '0.00239148184928', '0.00239148184928', '0.00239148184928', '0.00239148184928', '0.00239148184928', '0.00239148184928', '0.00239148184928', '0.00239148184928', '0.00239148184928', '0.00239148184928', '0.00239148184928', '0.00239148184928', '0.00239148184928', '0.00239148184928', '0.00239148184928', '0.00239148184928', '0.00239148184928', '0.00239148184928', '0.00239148184928', '0.00239148184928', '0.00239148184928', '0.00239148184928', '0.00239148184928', '0.00239148184928', '0.00239148184928', '0.00239148184928', '0.00239148184928', '0.00239148184928', '0.00239148184928', '0.00239148184928', '0.00239148184928', '0.00239148184928', '0.00239148184928', '0.00239148184928', '0.00239148184928', '0.00239148184928', '0.00239148184928', '0.00239148184928', '0.00239148184928', '0.00239148184928', '0.00239148184928', '0.00239148184928', '0.00239148184928', '0.00239148184928', '0.00239148184928', '0.00239148184928', '0.00239148184928', '0.00239148184928', '0.00239148184928', '0.00239148184928', '0.00239148184928', '0.00239148184928', '0.00239148184928', '0.00239148184928', '0.00239148184928', '0.00239148184928', '0.00239148184928', '0.00239148184928', '0.00239148184928', '0.00239148184928', '0.00239148184928', '0.00239148184928', '0.00239148184928', '0.00239148184928', '0.00239148184928', '0.00239148184928', '0.00239148184928', '0.00239148184928', '0.00239148184928', '0.00239148184928', '0.00239148184928', '0.00239148184928', '0.00239148184928', '0.00239148184928', '0.00239148184928', '0.00239148184928', '0.00239148184928'], 'labels': ['0.1', '0.1', '0.1', '0.1', '0.1', '0.1', '0.1', '0.1', '0.1', '0.1', '0.1', '0.1', '0.1', '0.1', '0.1', '0.1', '0.1', '0.1', '0.1', '0.1', '0.1', '0.1', '0.1', '0.1', '0.1', '0.1', '0.1', '0.1', '0.1', '0.1', '0.1', '0.1', '0.1', '0.1', '0.1', '0.1', '0.1', '0.1', '0.1', '0.1', '0.1', '0.1', '0.1', '0.1', '0.1', '0.1', '0.1', '0.1', '0.1', '0.1', '0.1', '0.1', '0.1', '0.1', '0.1', '0.1', '0.1', '0.1', '0.1', '0.1', '0.1', '0.1', '0.1', '0.1', '0.1', '0.1', '0.1', '0.1', '0.1', '0.1', '0.1', '0.1', '0.1', '0.1', '0.1', '0.1', '0.1', '0.1', '0.1', '0.1', '0.1', '0.1', '0.1', '0.1', '0.1', '0.1', '0.1', '0.1', '0.1', '0.1', '0.1', '0.1', '0.1', '0.1', '0.1', '0.1', '0.1', '0.1', '0.1', '0.1', '0.1', '0.1', '0.1', '0.1', '0.1', '0.1', '0.1', '0.1', '0.1', '0.1', '0.1', '0.1', '0.1', '0.1', '0.1', '0.1', '0.1', '0.1', '0.1', '0.1', '0.1', '0.1', '0.1', '0.1', '0.1', '0.1', '0.1', '0.1', '0.1', '0.1', '0.1', '0.1', '0.1', '0.1', '0.1', '0.1', '0.1', '0.1', '0.1', '0.1', '0.1', '0.1', '0.1', '0.1', '0.1', '0.1', '0.1', '0.1', '0.1', '0.1', '0.1', '0.1', '0.1', '0.1', '0.1', '0.1', '0.1', '0.1', '0.1', '0.1', '0.1', '0.1', '0.1', '0.1', '0.1', '0.1', '0.1', '0.1', '0.1', '0.1', '0.1', '0.1', '0.1', '0.1', '0.1', '0.1', '0.1', '0.1', '0.1', '0.1', '0.1', '0.1', '0.1', '0.1', '0.1', '0.1', '0.1', '0.1', '0.1', '0.1', '0.1', '0.1', '0.1', '0.1', '0.1', '0.1', '0.1', '0.1', '0.1', '0.1', '0.1', '0.1', '0.1', '0.1', '0.1', '0.1', '0.1', '0.1', '0.1', '0.1', '0.1', '0.1', '0.1', '0.1', '0.1', '0.1', '0.1', '0.1', '0.1', '0.1', '0.1', '0.1', '0.1', '0.1', '0.1', '0.1', '0.1', '0.1', '0.1', '0.1', '0.1', '0.1', '0.1', '0.1', '0.1', '0.1', '0.1', '0.1', '0.1', '0.1', '0.1', '0.1', '0.1', '0.1', '0.1', '0.1', '0.1', '0.1', '0.1', '0.1', '0.1', '0.1', '0.1', '0.1', '0.1', '0.1', '0.1', '0.1', '0.1', '0.1', '0.1', '0.1', '0.1', '0.1', '0.1', '0.1', '0.1', '0.1', '0.1', '0.1', '0.1', '0.1', '0.1', '0.1', '0.1', '0.1', '0.1', '0.1', '0.1', '0.1', '0.1', '0.1', '0.1', '0.1', '0.1', '0.1', '0.1', '0.1', '0.1', '0.1', '0.1', '0.1', '0.1', '0.1', '0.1', '0.1', '0.1', '0.1', '0.1', '0.1', '0.1', '0.1', '0.1', '0.1', '0.1', '0.1', '0.1', '0.1', '0.1', '0.1', '0.1', '0.1', '0.1', '0.1', '0.1', '0.1', '0.1', '0.1', '0.1', '0.1', '0.1', '0.1', '0.1', '0.1', '0.1', '0.1', '0.1', '0.1', '0.1', '0.1', '0.1', '0.1', '0.1', '0.1', '0.1', '0.1', '0.1', '0.1', '0.1', '0.1', '0.1', '0.1', '0.1', '0.1', '0.1', '0.1', '0.1', '0.1', '0.1', '0.1', '0.1', '0.1', '0.1', '0.1', '0.1', '0.1', '0.1', '0.1', '0.1', '0.1', '0.1', '0.1', '0.1', '0.1', '0.1', '0.1', '0.1', '0.1', '0.1', '0.1', '0.1', '0.1', '0.1', '0.1', '0.1', '0.1', '0.1', '0.1', '0.1', '0.1', '0.1', '0.1', '0.1', '0.1', '0.1', '0.1', '0.1', '0.1', '0.1', '0.1', '0.1', '0.1', '0.1', '0.1', '0.1', '0.1', '0.1', '0.1', '0.1', '0.1', '0.1', '0.1', '0.1', '0.1', '0.1', '0.1', '0.1', '0.1', '0.1', '0.1', '0.1', '0.1', '0.1', '0.1', '0.1', '0.1', '0.1', '0.1', '0.1', '0.1', '0.1', '0.1', '0.1', '0.1', '0.1']}, 'pred_model': 'auto_encoder044_5_1', 'train_model_exists': 'Y', 'condition': '3', 't_result_info': {'predicts': ['0.403995578154', '0.429886876835', '0.0612681650512', '0.00242058796831', '0.00901797225916', '0.00134016412834', '0.435284852144', '0.230794702919', '0.0273387809246', '0.36924983056', '0.400265819462', '0.00239148184928', '0.00239148184928', '0.00239148184928', '0.00239148184928', '0.00239148184928', '0.00239148184928', '0.00239148184928', '0.00239148184928', '0.00239148184928', '0.00239148184928', '0.00239148184928', '0.00239148184928', '0.00239148184928', '0.00239148184928', '0.00239148184928', '0.00239148184928', '0.00239148184928', '0.00239148184928', '0.00239148184928', '0.00239148184928', '0.00239148184928', '0.00239148184928', '0.00239148184928', '0.00239148184928', '0.00239148184928', '0.00239148184928', '0.00239148184928', '0.00239148184928', '0.00239148184928', '0.00239148184928', '0.00239148184928', '0.00239148184928', '0.00239148184928', '0.00239148184928', '0.00239148184928', '0.00239148184928', '0.00239148184928', '0.00239148184928', '0.00239148184928', '0.00239148184928', '0.00239148184928', '0.00239148184928', '0.00239148184928', '0.00239148184928', '0.00239148184928', '0.00239148184928', '0.00239148184928', '0.00239148184928', '0.00239148184928', '0.00239148184928', '0.00239148184928', '0.00239148184928', '0.00239148184928', '0.00239148184928', '0.00239148184928', '0.00239148184928', '0.00239148184928', '0.00239148184928', '0.00239148184928', '0.00239148184928', '0.00239148184928', '0.00239148184928', '0.00239148184928', '0.00239148184928', '0.00239148184928', '0.00239148184928', '0.00239148184928', '0.00239148184928', '0.00239148184928', '0.00239148184928', '0.00239148184928', '0.00239148184928', '0.00239148184928', '0.00239148184928', '0.00239148184928', '0.00239148184928', '0.00239148184928', '0.00239148184928', '0.00239148184928', '0.00239148184928', '0.00239148184928', '0.00239148184928', '0.00239148184928', '0.00239148184928', '0.00239148184928', '0.00239148184928', '0.00239148184928', '0.00239148184928', '0.00239148184928', '0.00239148184928', '0.00239148184928', '0.00239148184928', '0.00239148184928', '0.00239148184928', '0.00239148184928', '0.00239148184928', '0.00239148184928', '0.00239148184928', '0.00239148184928', '0.00239148184928', '0.00239148184928', '0.00239148184928', '0.00239148184928', '0.00239148184928', '0.00239148184928', '0.00239148184928', '0.00239148184928', '0.00239148184928', '0.00239148184928', '0.00239148184928', '0.00239148184928', '0.00239148184928', '0.00239148184928', '0.00239148184928', '0.00239148184928', '0.00239148184928', '0.00239148184928', '0.00239148184928', '0.00239148184928', '0.00239148184928', '0.00239148184928', '0.00239148184928', '0.00239148184928', '0.00239148184928', '0.00239148184928', '0.00239148184928', '0.00239148184928', '0.00239148184928', '0.00239148184928', '0.00239148184928', '0.00239148184928', '0.00239148184928', '0.00239148184928', '0.00239148184928', '0.00239148184928', '0.00239148184928', '0.00239148184928', '0.00239148184928', '0.00239148184928', '0.00239148184928', '0.00239148184928', '0.00239148184928', '0.00239148184928', '0.00239148184928', '0.00239148184928', '0.00239148184928', '0.00239148184928', '0.00239148184928', '0.00239148184928', '0.00239148184928', '0.00239148184928', '0.00239148184928', '0.00239148184928', '0.00239148184928', '0.00239148184928', '0.00239148184928', '0.00239148184928', '0.00239148184928', '0.00239148184928', '0.00239148184928', '0.00239148184928', '0.00239148184928', '0.00239148184928', '0.00239148184928', '0.00239148184928', '0.00239148184928', '0.00239148184928', '0.00239148184928', '0.00239148184928', '0.00239148184928', '0.00239148184928', '0.00239148184928', '0.00239148184928', '0.00239148184928', '0.00239148184928', '0.00239148184928', '0.00239148184928', '0.00239148184928', '0.00239148184928', '0.00239148184928', '0.00239148184928', '0.00239148184928', '0.00239148184928', '0.00239148184928', '0.00239148184928', '0.00239148184928', '0.00239148184928', '0.00239148184928', '0.00239148184928', '0.00239148184928', '0.00239148184928', '0.00239148184928', '0.00239148184928', '0.00239148184928', '0.00239148184928', '0.00239148184928', '0.00239148184928', '0.00239148184928', '0.00239148184928', '0.00239148184928', '0.00239148184928', '0.00239148184928', '0.00239148184928', '0.00239148184928', '0.00239148184928', '0.00239148184928', '0.00239148184928', '0.00239148184928', '0.00239148184928', '0.00239148184928', '0.00239148184928', '0.00239148184928', '0.00239148184928', '0.00239148184928', '0.00239148184928', '0.00239148184928', '0.00239148184928', '0.00239148184928', '0.00239148184928', '0.00239148184928', '0.00239148184928', '0.00239148184928', '0.00239148184928', '0.00239148184928', '0.00239148184928', '0.00239148184928', '0.00239148184928', '0.00239148184928', '0.00239148184928', '0.00239148184928', '0.00239148184928', '0.00239148184928', '0.00239148184928', '0.00239148184928', '0.00239148184928', '0.00239148184928', '0.00239148184928', '0.00239148184928', '0.00239148184928', '0.00239148184928', '0.00239148184928', '0.00239148184928', '0.00239148184928', '0.00239148184928', '0.00239148184928', '0.00239148184928', '0.00239148184928', '0.00239148184928', '0.00239148184928', '0.00239148184928', '0.00239148184928', '0.00239148184928', '0.00239148184928', '0.00239148184928', '0.00239148184928', '0.00239148184928', '0.00239148184928', '0.00239148184928', '0.00239148184928', '0.00239148184928', '0.00239148184928', '0.00239148184928', '0.00239148184928', '0.00239148184928', '0.00239148184928', '0.00239148184928', '0.00239148184928', '0.00239148184928', '0.00239148184928', '0.00239148184928', '0.00239148184928', '0.00239148184928', '0.00239148184928', '0.00239148184928', '0.00239148184928', '0.00239148184928', '0.00239148184928', '0.00239148184928', '0.00239148184928', '0.00239148184928', '0.00239148184928', '0.00239148184928', '0.00239148184928', '0.00239148184928', '0.00239148184928', '0.00239148184928', '0.00239148184928', '0.00239148184928', '0.00239148184928', '0.00239148184928', '0.00239148184928', '0.00239148184928', '0.00239148184928', '0.00239148184928', '0.00239148184928', '0.00239148184928', '0.00239148184928', '0.00239148184928', '0.00239148184928', '0.00239148184928', '0.00239148184928', '0.00239148184928', '0.00239148184928', '0.00239148184928', '0.00239148184928', '0.00239148184928', '0.00239148184928', '0.00239148184928', '0.00239148184928', '0.00239148184928', '0.00239148184928', '0.00239148184928', '0.00239148184928', '0.00239148184928', '0.00239148184928', '0.00239148184928', '0.00239148184928', '0.00239148184928', '0.00239148184928', '0.00239148184928', '0.00239148184928', '0.00239148184928', '0.00239148184928', '0.00239148184928', '0.00239148184928', '0.00239148184928', '0.00239148184928', '0.00239148184928', '0.00239148184928', '0.00239148184928', '0.00239148184928', '0.00239148184928', '0.00239148184928', '0.00239148184928', '0.00239148184928', '0.00239148184928', '0.00239148184928', '0.00239148184928', '0.00239148184928', '0.00239148184928', '0.00239148184928', '0.00239148184928', '0.00239148184928', '0.00239148184928', '0.00239148184928', '0.00239148184928', '0.00239148184928', '0.00239148184928', '0.00239148184928', '0.00239148184928', '0.00239148184928', '0.00239148184928', '0.00239148184928', '0.00239148184928', '0.00239148184928', '0.00239148184928', '0.00239148184928', '0.00239148184928', '0.00239148184928', '0.00239148184928', '0.00239148184928', '0.00239148184928', '0.00239148184928', '0.00239148184928', '0.00239148184928', '0.00239148184928', '0.00239148184928', '0.00239148184928', '0.00239148184928', '0.00239148184928', '0.00239148184928', '0.00239148184928', '0.00239148184928', '0.00239148184928', '0.00239148184928', '0.00239148184928', '0.00239148184928', '0.00239148184928', '0.00239148184928', '0.00239148184928', '0.00239148184928', '0.00239148184928', '0.00239148184928', '0.00239148184928', '0.00239148184928', '0.00239148184928', '0.00239148184928', '0.00239148184928', '0.00239148184928', '0.00239148184928', '0.00239148184928', '0.00239148184928', '0.00239148184928', '0.00239148184928', '0.00239148184928', '0.00239148184928', '0.00239148184928', '0.00239148184928', '0.00239148184928', '0.00239148184928', '0.00239148184928', '0.00239148184928', '0.00239148184928', '0.00239148184928', '0.00239148184928', '0.00239148184928', '0.00239148184928', '0.00239148184928', '0.00239148184928', '0.00239148184928', '0.00239148184928', '0.00239148184928', '0.00239148184928', '0.00239148184928'], 'labels': ['0.1', '0.1', '0.1', '0.1', '0.1', '0.1', '0.1', '0.1', '0.1', '0.1', '0.1', '0.1', '0.1', '0.1', '0.1', '0.1', '0.1', '0.1', '0.1', '0.1', '0.1', '0.1', '0.1', '0.1', '0.1', '0.1', '0.1', '0.1', '0.1', '0.1', '0.1', '0.1', '0.1', '0.1', '0.1', '0.1', '0.1', '0.1', '0.1', '0.1', '0.1', '0.1', '0.1', '0.1', '0.1', '0.1', '0.1', '0.1', '0.1', '0.1', '0.1', '0.1', '0.1', '0.1', '0.1', '0.1', '0.1', '0.1', '0.1', '0.1', '0.1', '0.1', '0.1', '0.1', '0.1', '0.1', '0.1', '0.1', '0.1', '0.1', '0.1', '0.1', '0.1', '0.1', '0.1', '0.1', '0.1', '0.1', '0.1', '0.1', '0.1', '0.1', '0.1', '0.1', '0.1', '0.1', '0.1', '0.1', '0.1', '0.1', '0.1', '0.1', '0.1', '0.1', '0.1', '0.1', '0.1', '0.1', '0.1', '0.1', '0.1', '0.1', '0.1', '0.1', '0.1', '0.1', '0.1', '0.1', '0.1', '0.1', '0.1', '0.1', '0.1', '0.1', '0.1', '0.1', '0.1', '0.1', '0.1', '0.1', '0.1', '0.1', '0.1', '0.1', '0.1', '0.1', '0.1', '0.1', '0.1', '0.1', '0.1', '0.1', '0.1', '0.1', '0.1', '0.1', '0.1', '0.1', '0.1', '0.1', '0.1', '0.1', '0.1', '0.1', '0.1', '0.1', '0.1', '0.1', '0.1', '0.1', '0.1', '0.1', '0.1', '0.1', '0.1', '0.1', '0.1', '0.1', '0.1', '0.1', '0.1', '0.1', '0.1', '0.1', '0.1', '0.1', '0.1', '0.1', '0.1', '0.1', '0.1', '0.1', '0.1', '0.1', '0.1', '0.1', '0.1', '0.1', '0.1', '0.1', '0.1', '0.1', '0.1', '0.1', '0.1', '0.1', '0.1', '0.1', '0.1', '0.1', '0.1', '0.1', '0.1', '0.1', '0.1', '0.1', '0.1', '0.1', '0.1', '0.1', '0.1', '0.1', '0.1', '0.1', '0.1', '0.1', '0.1', '0.1', '0.1', '0.1', '0.1', '0.1', '0.1', '0.1', '0.1', '0.1', '0.1', '0.1', '0.1', '0.1', '0.1', '0.1', '0.1', '0.1', '0.1', '0.1', '0.1', '0.1', '0.1', '0.1', '0.1', '0.1', '0.1', '0.1', '0.1', '0.1', '0.1', '0.1', '0.1', '0.1', '0.1', '0.1', '0.1', '0.1', '0.1', '0.1', '0.1', '0.1', '0.1', '0.1', '0.1', '0.1', '0.1', '0.1', '0.1', '0.1', '0.1', '0.1', '0.1', '0.1', '0.1', '0.1', '0.1', '0.1', '0.1', '0.1', '0.1', '0.1', '0.1', '0.1', '0.1', '0.1', '0.1', '0.1', '0.1', '0.1', '0.1', '0.1', '0.1', '0.1', '0.1', '0.1', '0.1', '0.1', '0.1', '0.1', '0.1', '0.1', '0.1', '0.1', '0.1', '0.1', '0.1', '0.1', '0.1', '0.1', '0.1', '0.1', '0.1', '0.1', '0.1', '0.1', '0.1', '0.1', '0.1', '0.1', '0.1', '0.1', '0.1', '0.1', '0.1', '0.1', '0.1', '0.1', '0.1', '0.1', '0.1', '0.1', '0.1', '0.1', '0.1', '0.1', '0.1', '0.1', '0.1', '0.1', '0.1', '0.1', '0.1', '0.1', '0.1', '0.1', '0.1', '0.1', '0.1', '0.1', '0.1', '0.1', '0.1', '0.1', '0.1', '0.1', '0.1', '0.1', '0.1', '0.1', '0.1', '0.1', '0.1', '0.1', '0.1', '0.1', '0.1', '0.1', '0.1', '0.1', '0.1', '0.1', '0.1', '0.1', '0.1', '0.1', '0.1', '0.1', '0.1', '0.1', '0.1', '0.1', '0.1', '0.1', '0.1', '0.1', '0.1', '0.1', '0.1', '0.1', '0.1', '0.1', '0.1', '0.1', '0.1', '0.1', '0.1', '0.1', '0.1', '0.1', '0.1', '0.1', '0.1', '0.1', '0.1', '0.1', '0.1', '0.1', '0.1', '0.1', '0.1', '0.1', '0.1', '0.1', '0.1', '0.1', '0.1', '0.1', '0.1', '0.1', '0.1', '0.1', '0.1', '0.1', '0.1', '0.1', '0.1', '0.1', '0.1', '0.1', '0.1', '0.1', '0.1', '0.1', '0.1', '0.1', '0.1', '0.1', '0.1']}, 'train_loss_info': None, 'nn_wf_ver_id': 5, 'model': 'N', 'train_acc_info': None, 'train_batch_ver_id': 'auto_encoder044_5_1', 'pred_loss_info': None}\n",
      "===Raw : [5]=== \n",
      "{'pred_batch_ver_id': 'auto_encoder044_6_1', 'nn_id': 'auto_encoder044', 'pred_acc_info': None, 'pred_model_exists': 'Y', 'active_flag': 'N', 'train_model': 'auto_encoder044_6_1', 'nn_wf_ver_desc': '', 'p_result_info': {'predicts': ['0.000163792758592', '0.0370948126641', '0.000277472606889', '0.327795603632', '0.00185379264258', '0.354831201568', '0.312942353061', '0.364179653665', '0.369286874201', '0.0944077459282', '0.355953770826', '0.335933534198', '0.335933534198', '0.335933534198', '0.335933534198', '0.335933534198', '0.335933534198', '0.335933534198', '0.335933534198', '0.335933534198', '0.335933534198', '0.335933534198', '0.335933534198', '0.335933534198', '0.335933534198', '0.335933534198', '0.335933534198', '0.335933534198', '0.335933534198', '0.335933534198', '0.335933534198', '0.335933534198', '0.335933534198', '0.335933534198', '0.335933534198', '0.335933534198', '0.335933534198', '0.335933534198', '0.335933534198', '0.335933534198', '0.335933534198', '0.335933534198', '0.335933534198', '0.335933534198', '0.335933534198', '0.335933534198', '0.335933534198', '0.335933534198', '0.335933534198', '0.335933534198', '0.335933534198', '0.335933534198', '0.335933534198', '0.335933534198', '0.335933534198', '0.335933534198', '0.335933534198', '0.335933534198', '0.335933534198', '0.335933534198', '0.335933534198', '0.335933534198', '0.335933534198', '0.335933534198', '0.335933534198', '0.335933534198', '0.335933534198', '0.335933534198', '0.335933534198', '0.335933534198', '0.335933534198', '0.335933534198', '0.335933534198', '0.335933534198', '0.335933534198', '0.335933534198', '0.335933534198', '0.335933534198', '0.335933534198', '0.335933534198', '0.335933534198', '0.335933534198', '0.335933534198', '0.335933534198', '0.335933534198', '0.335933534198', '0.335933534198', '0.335933534198', '0.335933534198', '0.335933534198', '0.335933534198', '0.335933534198', '0.335933534198', '0.335933534198', '0.335933534198', '0.335933534198', '0.335933534198', '0.335933534198', '0.335933534198', '0.335933534198', '0.335933534198', '0.335933534198', '0.335933534198', '0.335933534198', '0.335933534198', '0.335933534198', '0.335933534198', '0.335933534198', '0.335933534198', '0.335933534198', '0.335933534198', '0.335933534198', '0.335933534198', '0.335933534198', '0.335933534198', '0.335933534198', '0.335933534198', '0.335933534198', '0.335933534198', '0.335933534198', '0.335933534198', '0.335933534198', '0.335933534198', '0.335933534198', '0.335933534198', '0.335933534198', '0.335933534198', '0.335933534198', '0.335933534198', '0.335933534198', '0.335933534198', '0.335933534198', '0.335933534198', '0.335933534198', '0.335933534198', '0.335933534198', '0.335933534198', '0.335933534198', '0.335933534198', '0.335933534198', '0.335933534198', '0.335933534198', '0.335933534198', '0.335933534198', '0.335933534198', '0.335933534198', '0.335933534198', '0.335933534198', '0.335933534198', '0.335933534198', '0.335933534198', '0.335933534198', '0.335933534198', '0.335933534198', '0.335933534198', '0.335933534198', '0.335933534198', '0.335933534198', '0.335933534198', '0.335933534198', '0.335933534198', '0.335933534198', '0.335933534198', '0.335933534198', '0.335933534198', '0.335933534198', '0.335933534198', '0.335933534198', '0.335933534198', '0.335933534198', '0.335933534198', '0.335933534198', '0.335933534198', '0.335933534198', '0.335933534198', '0.335933534198', '0.335933534198', '0.335933534198', '0.335933534198', '0.335933534198', '0.335933534198', '0.335933534198', '0.335933534198', '0.335933534198', '0.335933534198', '0.335933534198', '0.335933534198', '0.335933534198', '0.335933534198', '0.335933534198', '0.335933534198', '0.335933534198', '0.335933534198', '0.335933534198', '0.335933534198', '0.335933534198', '0.335933534198', '0.335933534198', '0.335933534198', '0.335933534198', '0.335933534198', '0.335933534198', '0.335933534198', '0.335933534198', '0.335933534198', '0.335933534198', '0.335933534198', '0.335933534198', '0.335933534198', '0.335933534198', '0.335933534198', '0.335933534198', '0.335933534198', '0.335933534198', '0.335933534198', '0.335933534198', '0.335933534198', '0.335933534198', '0.335933534198', '0.335933534198', '0.335933534198', '0.335933534198', '0.335933534198', '0.335933534198', '0.335933534198', '0.335933534198', '0.335933534198', '0.335933534198', '0.335933534198', '0.335933534198', '0.335933534198', '0.335933534198', '0.335933534198', '0.335933534198', '0.335933534198', '0.335933534198', '0.335933534198', '0.335933534198', '0.335933534198', '0.335933534198', '0.335933534198', '0.335933534198', '0.335933534198', '0.335933534198', '0.335933534198', '0.335933534198', '0.335933534198', '0.335933534198', '0.335933534198', '0.335933534198', '0.335933534198', '0.335933534198', '0.335933534198', '0.335933534198', '0.335933534198', '0.335933534198', '0.335933534198', '0.335933534198', '0.335933534198', '0.335933534198', '0.335933534198', '0.335933534198', '0.335933534198', '0.335933534198', '0.335933534198', '0.335933534198', '0.335933534198', '0.335933534198', '0.335933534198', '0.335933534198', '0.335933534198', '0.335933534198', '0.335933534198', '0.335933534198', '0.335933534198', '0.335933534198', '0.335933534198', '0.335933534198', '0.335933534198', '0.335933534198', '0.335933534198', '0.335933534198', '0.335933534198', '0.335933534198', '0.335933534198', '0.335933534198', '0.335933534198', '0.335933534198', '0.335933534198', '0.335933534198', '0.335933534198', '0.335933534198', '0.335933534198', '0.335933534198', '0.335933534198', '0.335933534198', '0.335933534198', '0.335933534198', '0.335933534198', '0.335933534198', '0.335933534198', '0.335933534198', '0.335933534198', '0.335933534198', '0.335933534198', '0.335933534198', '0.335933534198', '0.335933534198', '0.335933534198', '0.335933534198', '0.335933534198', '0.335933534198', '0.335933534198', '0.335933534198', '0.335933534198', '0.335933534198', '0.335933534198', '0.335933534198', '0.335933534198', '0.335933534198', '0.335933534198', '0.335933534198', '0.335933534198', '0.335933534198', '0.335933534198', '0.335933534198', '0.335933534198', '0.335933534198', '0.335933534198', '0.335933534198', '0.335933534198', '0.335933534198', '0.335933534198', '0.335933534198', '0.335933534198', '0.335933534198', '0.335933534198', '0.335933534198', '0.335933534198', '0.335933534198', '0.335933534198', '0.335933534198', '0.335933534198', '0.335933534198', '0.335933534198', '0.335933534198', '0.335933534198', '0.335933534198', '0.335933534198', '0.335933534198', '0.335933534198', '0.335933534198', '0.335933534198', '0.335933534198', '0.335933534198', '0.335933534198', '0.335933534198', '0.335933534198', '0.335933534198', '0.335933534198', '0.335933534198', '0.335933534198', '0.335933534198', '0.335933534198', '0.335933534198', '0.335933534198', '0.335933534198', '0.335933534198', '0.335933534198', '0.335933534198', '0.335933534198', '0.335933534198', '0.335933534198', '0.335933534198', '0.335933534198', '0.335933534198', '0.335933534198', '0.335933534198', '0.335933534198', '0.335933534198', '0.335933534198', '0.335933534198', '0.335933534198', '0.335933534198', '0.335933534198', '0.335933534198', '0.335933534198', '0.335933534198', '0.335933534198', '0.335933534198', '0.335933534198', '0.335933534198', '0.335933534198', '0.335933534198', '0.335933534198', '0.335933534198', '0.335933534198', '0.335933534198', '0.335933534198', '0.335933534198', '0.335933534198', '0.335933534198', '0.335933534198', '0.335933534198', '0.335933534198', '0.335933534198', '0.335933534198', '0.335933534198', '0.335933534198', '0.335933534198', '0.335933534198', '0.335933534198', '0.335933534198', '0.335933534198', '0.335933534198', '0.335933534198', '0.335933534198', '0.335933534198', '0.335933534198', '0.335933534198', '0.335933534198', '0.335933534198', '0.335933534198', '0.335933534198', '0.335933534198'], 'labels': ['0.1', '0.1', '0.1', '0.1', '0.1', '0.1', '0.1', '0.1', '0.1', '0.1', '0.1', '0.1', '0.1', '0.1', '0.1', '0.1', '0.1', '0.1', '0.1', '0.1', '0.1', '0.1', '0.1', '0.1', '0.1', '0.1', '0.1', '0.1', '0.1', '0.1', '0.1', '0.1', '0.1', '0.1', '0.1', '0.1', '0.1', '0.1', '0.1', '0.1', '0.1', '0.1', '0.1', '0.1', '0.1', '0.1', '0.1', '0.1', '0.1', '0.1', '0.1', '0.1', '0.1', '0.1', '0.1', '0.1', '0.1', '0.1', '0.1', '0.1', '0.1', '0.1', '0.1', '0.1', '0.1', '0.1', '0.1', '0.1', '0.1', '0.1', '0.1', '0.1', '0.1', '0.1', '0.1', '0.1', '0.1', '0.1', '0.1', '0.1', '0.1', '0.1', '0.1', '0.1', '0.1', '0.1', '0.1', '0.1', '0.1', '0.1', '0.1', '0.1', '0.1', '0.1', '0.1', '0.1', '0.1', '0.1', '0.1', '0.1', '0.1', '0.1', '0.1', '0.1', '0.1', '0.1', '0.1', '0.1', '0.1', '0.1', '0.1', '0.1', '0.1', '0.1', '0.1', '0.1', '0.1', '0.1', '0.1', '0.1', '0.1', '0.1', '0.1', '0.1', '0.1', '0.1', '0.1', '0.1', '0.1', '0.1', '0.1', '0.1', '0.1', '0.1', '0.1', '0.1', '0.1', '0.1', '0.1', '0.1', '0.1', '0.1', '0.1', '0.1', '0.1', '0.1', '0.1', '0.1', '0.1', '0.1', '0.1', '0.1', '0.1', '0.1', '0.1', '0.1', '0.1', '0.1', '0.1', '0.1', '0.1', '0.1', '0.1', '0.1', '0.1', '0.1', '0.1', '0.1', '0.1', '0.1', '0.1', '0.1', '0.1', '0.1', '0.1', '0.1', '0.1', '0.1', '0.1', '0.1', '0.1', '0.1', '0.1', '0.1', '0.1', '0.1', '0.1', '0.1', '0.1', '0.1', '0.1', '0.1', '0.1', '0.1', '0.1', '0.1', '0.1', '0.1', '0.1', '0.1', '0.1', '0.1', '0.1', '0.1', '0.1', '0.1', '0.1', '0.1', '0.1', '0.1', '0.1', '0.1', '0.1', '0.1', '0.1', '0.1', '0.1', '0.1', '0.1', '0.1', '0.1', '0.1', '0.1', '0.1', '0.1', '0.1', '0.1', '0.1', '0.1', '0.1', '0.1', '0.1', '0.1', '0.1', '0.1', '0.1', '0.1', '0.1', '0.1', '0.1', '0.1', '0.1', '0.1', '0.1', '0.1', '0.1', '0.1', '0.1', '0.1', '0.1', '0.1', '0.1', '0.1', '0.1', '0.1', '0.1', '0.1', '0.1', '0.1', '0.1', '0.1', '0.1', '0.1', '0.1', '0.1', '0.1', '0.1', '0.1', '0.1', '0.1', '0.1', '0.1', '0.1', '0.1', '0.1', '0.1', '0.1', '0.1', '0.1', '0.1', '0.1', '0.1', '0.1', '0.1', '0.1', '0.1', '0.1', '0.1', '0.1', '0.1', '0.1', '0.1', '0.1', '0.1', '0.1', '0.1', '0.1', '0.1', '0.1', '0.1', '0.1', '0.1', '0.1', '0.1', '0.1', '0.1', '0.1', '0.1', '0.1', '0.1', '0.1', '0.1', '0.1', '0.1', '0.1', '0.1', '0.1', '0.1', '0.1', '0.1', '0.1', '0.1', '0.1', '0.1', '0.1', '0.1', '0.1', '0.1', '0.1', '0.1', '0.1', '0.1', '0.1', '0.1', '0.1', '0.1', '0.1', '0.1', '0.1', '0.1', '0.1', '0.1', '0.1', '0.1', '0.1', '0.1', '0.1', '0.1', '0.1', '0.1', '0.1', '0.1', '0.1', '0.1', '0.1', '0.1', '0.1', '0.1', '0.1', '0.1', '0.1', '0.1', '0.1', '0.1', '0.1', '0.1', '0.1', '0.1', '0.1', '0.1', '0.1', '0.1', '0.1', '0.1', '0.1', '0.1', '0.1', '0.1', '0.1', '0.1', '0.1', '0.1', '0.1', '0.1', '0.1', '0.1', '0.1', '0.1', '0.1', '0.1', '0.1', '0.1', '0.1', '0.1', '0.1', '0.1', '0.1', '0.1', '0.1', '0.1', '0.1', '0.1', '0.1', '0.1', '0.1', '0.1', '0.1', '0.1', '0.1', '0.1', '0.1', '0.1', '0.1', '0.1', '0.1', '0.1', '0.1', '0.1', '0.1', '0.1', '0.1', '0.1', '0.1', '0.1', '0.1']}, 'pred_model': 'auto_encoder044_6_1', 'train_model_exists': 'Y', 'condition': '3', 't_result_info': {'predicts': ['0.000163792758592', '0.0370948126641', '0.000277472606889', '0.327795603632', '0.00185379264258', '0.354831201568', '0.312942353061', '0.364179653665', '0.369286874201', '0.0944077459282', '0.355953770826', '0.335933534198', '0.335933534198', '0.335933534198', '0.335933534198', '0.335933534198', '0.335933534198', '0.335933534198', '0.335933534198', '0.335933534198', '0.335933534198', '0.335933534198', '0.335933534198', '0.335933534198', '0.335933534198', '0.335933534198', '0.335933534198', '0.335933534198', '0.335933534198', '0.335933534198', '0.335933534198', '0.335933534198', '0.335933534198', '0.335933534198', '0.335933534198', '0.335933534198', '0.335933534198', '0.335933534198', '0.335933534198', '0.335933534198', '0.335933534198', '0.335933534198', '0.335933534198', '0.335933534198', '0.335933534198', '0.335933534198', '0.335933534198', '0.335933534198', '0.335933534198', '0.335933534198', '0.335933534198', '0.335933534198', '0.335933534198', '0.335933534198', '0.335933534198', '0.335933534198', '0.335933534198', '0.335933534198', '0.335933534198', '0.335933534198', '0.335933534198', '0.335933534198', '0.335933534198', '0.335933534198', '0.335933534198', '0.335933534198', '0.335933534198', '0.335933534198', '0.335933534198', '0.335933534198', '0.335933534198', '0.335933534198', '0.335933534198', '0.335933534198', '0.335933534198', '0.335933534198', '0.335933534198', '0.335933534198', '0.335933534198', '0.335933534198', '0.335933534198', '0.335933534198', '0.335933534198', '0.335933534198', '0.335933534198', '0.335933534198', '0.335933534198', '0.335933534198', '0.335933534198', '0.335933534198', '0.335933534198', '0.335933534198', '0.335933534198', '0.335933534198', '0.335933534198', '0.335933534198', '0.335933534198', '0.335933534198', '0.335933534198', '0.335933534198', '0.335933534198', '0.335933534198', '0.335933534198', '0.335933534198', '0.335933534198', '0.335933534198', '0.335933534198', '0.335933534198', '0.335933534198', '0.335933534198', '0.335933534198', '0.335933534198', '0.335933534198', '0.335933534198', '0.335933534198', '0.335933534198', '0.335933534198', '0.335933534198', '0.335933534198', '0.335933534198', '0.335933534198', '0.335933534198', '0.335933534198', '0.335933534198', '0.335933534198', '0.335933534198', '0.335933534198', '0.335933534198', '0.335933534198', '0.335933534198', '0.335933534198', '0.335933534198', '0.335933534198', '0.335933534198', '0.335933534198', '0.335933534198', '0.335933534198', '0.335933534198', '0.335933534198', '0.335933534198', '0.335933534198', '0.335933534198', '0.335933534198', '0.335933534198', '0.335933534198', '0.335933534198', '0.335933534198', '0.335933534198', '0.335933534198', '0.335933534198', '0.335933534198', '0.335933534198', '0.335933534198', '0.335933534198', '0.335933534198', '0.335933534198', '0.335933534198', '0.335933534198', '0.335933534198', '0.335933534198', '0.335933534198', '0.335933534198', '0.335933534198', '0.335933534198', '0.335933534198', '0.335933534198', '0.335933534198', '0.335933534198', '0.335933534198', '0.335933534198', '0.335933534198', '0.335933534198', '0.335933534198', '0.335933534198', '0.335933534198', '0.335933534198', '0.335933534198', '0.335933534198', '0.335933534198', '0.335933534198', '0.335933534198', '0.335933534198', '0.335933534198', '0.335933534198', '0.335933534198', '0.335933534198', '0.335933534198', '0.335933534198', '0.335933534198', '0.335933534198', '0.335933534198', '0.335933534198', '0.335933534198', '0.335933534198', '0.335933534198', '0.335933534198', '0.335933534198', '0.335933534198', '0.335933534198', '0.335933534198', '0.335933534198', '0.335933534198', '0.335933534198', '0.335933534198', '0.335933534198', '0.335933534198', '0.335933534198', '0.335933534198', '0.335933534198', '0.335933534198', '0.335933534198', '0.335933534198', '0.335933534198', '0.335933534198', '0.335933534198', '0.335933534198', '0.335933534198', '0.335933534198', '0.335933534198', '0.335933534198', '0.335933534198', '0.335933534198', '0.335933534198', '0.335933534198', '0.335933534198', '0.335933534198', '0.335933534198', '0.335933534198', '0.335933534198', '0.335933534198', '0.335933534198', '0.335933534198', '0.335933534198', '0.335933534198', '0.335933534198', '0.335933534198', '0.335933534198', '0.335933534198', '0.335933534198', '0.335933534198', '0.335933534198', '0.335933534198', '0.335933534198', '0.335933534198', '0.335933534198', '0.335933534198', '0.335933534198', '0.335933534198', '0.335933534198', '0.335933534198', '0.335933534198', '0.335933534198', '0.335933534198', '0.335933534198', '0.335933534198', '0.335933534198', '0.335933534198', '0.335933534198', '0.335933534198', '0.335933534198', '0.335933534198', '0.335933534198', '0.335933534198', '0.335933534198', '0.335933534198', '0.335933534198', '0.335933534198', '0.335933534198', '0.335933534198', '0.335933534198', '0.335933534198', '0.335933534198', '0.335933534198', '0.335933534198', '0.335933534198', '0.335933534198', '0.335933534198', '0.335933534198', '0.335933534198', '0.335933534198', '0.335933534198', '0.335933534198', '0.335933534198', '0.335933534198', '0.335933534198', '0.335933534198', '0.335933534198', '0.335933534198', '0.335933534198', '0.335933534198', '0.335933534198', '0.335933534198', '0.335933534198', '0.335933534198', '0.335933534198', '0.335933534198', '0.335933534198', '0.335933534198', '0.335933534198', '0.335933534198', '0.335933534198', '0.335933534198', '0.335933534198', '0.335933534198', '0.335933534198', '0.335933534198', '0.335933534198', '0.335933534198', '0.335933534198', '0.335933534198', '0.335933534198', '0.335933534198', '0.335933534198', '0.335933534198', '0.335933534198', '0.335933534198', '0.335933534198', '0.335933534198', '0.335933534198', '0.335933534198', '0.335933534198', '0.335933534198', '0.335933534198', '0.335933534198', '0.335933534198', '0.335933534198', '0.335933534198', '0.335933534198', '0.335933534198', '0.335933534198', '0.335933534198', '0.335933534198', '0.335933534198', '0.335933534198', '0.335933534198', '0.335933534198', '0.335933534198', '0.335933534198', '0.335933534198', '0.335933534198', '0.335933534198', '0.335933534198', '0.335933534198', '0.335933534198', '0.335933534198', '0.335933534198', '0.335933534198', '0.335933534198', '0.335933534198', '0.335933534198', '0.335933534198', '0.335933534198', '0.335933534198', '0.335933534198', '0.335933534198', '0.335933534198', '0.335933534198', '0.335933534198', '0.335933534198', '0.335933534198', '0.335933534198', '0.335933534198', '0.335933534198', '0.335933534198', '0.335933534198', '0.335933534198', '0.335933534198', '0.335933534198', '0.335933534198', '0.335933534198', '0.335933534198', '0.335933534198', '0.335933534198', '0.335933534198', '0.335933534198', '0.335933534198', '0.335933534198', '0.335933534198', '0.335933534198', '0.335933534198', '0.335933534198', '0.335933534198', '0.335933534198', '0.335933534198', '0.335933534198', '0.335933534198', '0.335933534198', '0.335933534198', '0.335933534198', '0.335933534198', '0.335933534198', '0.335933534198', '0.335933534198', '0.335933534198', '0.335933534198', '0.335933534198', '0.335933534198', '0.335933534198', '0.335933534198', '0.335933534198', '0.335933534198', '0.335933534198', '0.335933534198', '0.335933534198', '0.335933534198', '0.335933534198', '0.335933534198', '0.335933534198', '0.335933534198', '0.335933534198', '0.335933534198', '0.335933534198', '0.335933534198', '0.335933534198', '0.335933534198', '0.335933534198', '0.335933534198', '0.335933534198', '0.335933534198', '0.335933534198', '0.335933534198', '0.335933534198', '0.335933534198', '0.335933534198', '0.335933534198'], 'labels': ['0.1', '0.1', '0.1', '0.1', '0.1', '0.1', '0.1', '0.1', '0.1', '0.1', '0.1', '0.1', '0.1', '0.1', '0.1', '0.1', '0.1', '0.1', '0.1', '0.1', '0.1', '0.1', '0.1', '0.1', '0.1', '0.1', '0.1', '0.1', '0.1', '0.1', '0.1', '0.1', '0.1', '0.1', '0.1', '0.1', '0.1', '0.1', '0.1', '0.1', '0.1', '0.1', '0.1', '0.1', '0.1', '0.1', '0.1', '0.1', '0.1', '0.1', '0.1', '0.1', '0.1', '0.1', '0.1', '0.1', '0.1', '0.1', '0.1', '0.1', '0.1', '0.1', '0.1', '0.1', '0.1', '0.1', '0.1', '0.1', '0.1', '0.1', '0.1', '0.1', '0.1', '0.1', '0.1', '0.1', '0.1', '0.1', '0.1', '0.1', '0.1', '0.1', '0.1', '0.1', '0.1', '0.1', '0.1', '0.1', '0.1', '0.1', '0.1', '0.1', '0.1', '0.1', '0.1', '0.1', '0.1', '0.1', '0.1', '0.1', '0.1', '0.1', '0.1', '0.1', '0.1', '0.1', '0.1', '0.1', '0.1', '0.1', '0.1', '0.1', '0.1', '0.1', '0.1', '0.1', '0.1', '0.1', '0.1', '0.1', '0.1', '0.1', '0.1', '0.1', '0.1', '0.1', '0.1', '0.1', '0.1', '0.1', '0.1', '0.1', '0.1', '0.1', '0.1', '0.1', '0.1', '0.1', '0.1', '0.1', '0.1', '0.1', '0.1', '0.1', '0.1', '0.1', '0.1', '0.1', '0.1', '0.1', '0.1', '0.1', '0.1', '0.1', '0.1', '0.1', '0.1', '0.1', '0.1', '0.1', '0.1', '0.1', '0.1', '0.1', '0.1', '0.1', '0.1', '0.1', '0.1', '0.1', '0.1', '0.1', '0.1', '0.1', '0.1', '0.1', '0.1', '0.1', '0.1', '0.1', '0.1', '0.1', '0.1', '0.1', '0.1', '0.1', '0.1', '0.1', '0.1', '0.1', '0.1', '0.1', '0.1', '0.1', '0.1', '0.1', '0.1', '0.1', '0.1', '0.1', '0.1', '0.1', '0.1', '0.1', '0.1', '0.1', '0.1', '0.1', '0.1', '0.1', '0.1', '0.1', '0.1', '0.1', '0.1', '0.1', '0.1', '0.1', '0.1', '0.1', '0.1', '0.1', '0.1', '0.1', '0.1', '0.1', '0.1', '0.1', '0.1', '0.1', '0.1', '0.1', '0.1', '0.1', '0.1', '0.1', '0.1', '0.1', '0.1', '0.1', '0.1', '0.1', '0.1', '0.1', '0.1', '0.1', '0.1', '0.1', '0.1', '0.1', '0.1', '0.1', '0.1', '0.1', '0.1', '0.1', '0.1', '0.1', '0.1', '0.1', '0.1', '0.1', '0.1', '0.1', '0.1', '0.1', '0.1', '0.1', '0.1', '0.1', '0.1', '0.1', '0.1', '0.1', '0.1', '0.1', '0.1', '0.1', '0.1', '0.1', '0.1', '0.1', '0.1', '0.1', '0.1', '0.1', '0.1', '0.1', '0.1', '0.1', '0.1', '0.1', '0.1', '0.1', '0.1', '0.1', '0.1', '0.1', '0.1', '0.1', '0.1', '0.1', '0.1', '0.1', '0.1', '0.1', '0.1', '0.1', '0.1', '0.1', '0.1', '0.1', '0.1', '0.1', '0.1', '0.1', '0.1', '0.1', '0.1', '0.1', '0.1', '0.1', '0.1', '0.1', '0.1', '0.1', '0.1', '0.1', '0.1', '0.1', '0.1', '0.1', '0.1', '0.1', '0.1', '0.1', '0.1', '0.1', '0.1', '0.1', '0.1', '0.1', '0.1', '0.1', '0.1', '0.1', '0.1', '0.1', '0.1', '0.1', '0.1', '0.1', '0.1', '0.1', '0.1', '0.1', '0.1', '0.1', '0.1', '0.1', '0.1', '0.1', '0.1', '0.1', '0.1', '0.1', '0.1', '0.1', '0.1', '0.1', '0.1', '0.1', '0.1', '0.1', '0.1', '0.1', '0.1', '0.1', '0.1', '0.1', '0.1', '0.1', '0.1', '0.1', '0.1', '0.1', '0.1', '0.1', '0.1', '0.1', '0.1', '0.1', '0.1', '0.1', '0.1', '0.1', '0.1', '0.1', '0.1', '0.1', '0.1', '0.1', '0.1', '0.1', '0.1', '0.1', '0.1', '0.1', '0.1', '0.1', '0.1', '0.1', '0.1', '0.1', '0.1', '0.1', '0.1', '0.1', '0.1', '0.1', '0.1', '0.1', '0.1', '0.1', '0.1']}, 'train_loss_info': None, 'nn_wf_ver_id': 6, 'model': 'N', 'train_acc_info': None, 'train_batch_ver_id': 'auto_encoder044_6_1', 'pred_loss_info': None}\n"
     ]
    }
   ],
   "source": [
    "resp = requests.get('http://' + url + '/api/v1/type/common/target/nninfo/nnid/'+ nn_id +'/version/')\n",
    "data = json.loads(resp.json())\n",
    "for idx,raw in enumerate(data) : \n",
    "    print(\"===Raw : [{0}]=== \\n{1}\".format(idx, raw))"
   ]
  },
  {
   "cell_type": "code",
   "execution_count": null,
   "metadata": {
    "collapsed": true
   },
   "outputs": [],
   "source": []
  }
 ],
 "metadata": {
  "anaconda-cloud": {},
  "kernelspec": {
   "display_name": "Python [conda root]",
   "language": "python",
   "name": "conda-root-py"
  },
  "language_info": {
   "codemirror_mode": {
    "name": "ipython",
    "version": 3
   },
   "file_extension": ".py",
   "mimetype": "text/x-python",
   "name": "python",
   "nbconvert_exporter": "python",
   "pygments_lexer": "ipython3",
   "version": "3.5.2"
  }
 },
 "nbformat": 4,
 "nbformat_minor": 1
}
