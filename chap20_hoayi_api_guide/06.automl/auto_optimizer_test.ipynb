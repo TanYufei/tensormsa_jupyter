{
 "cells": [
  {
   "cell_type": "markdown",
   "metadata": {},
   "source": [
    "# 네트워크 정의"
   ]
  },
  {
   "cell_type": "code",
   "execution_count": 68,
   "metadata": {
    "collapsed": false
   },
   "outputs": [
    {
     "name": "stdout",
     "output_type": "stream",
     "text": [
      "done\n"
     ]
    }
   ],
   "source": [
    "import requests\n",
    "import json, os\n",
    "\n",
    "nn_id = 'auto_wcnn006'  # put some key value you want to test\n",
    "\n",
    "url = \"{0}:{1}\".format(os.environ['HOSTNAME'] , \"8000\")\n",
    "print(\"done\")"
   ]
  },
  {
   "cell_type": "markdown",
   "metadata": {},
   "source": [
    "# 비지니스 정의"
   ]
  },
  {
   "cell_type": "code",
   "execution_count": 69,
   "metadata": {
    "collapsed": false
   },
   "outputs": [
    {
     "name": "stdout",
     "output_type": "stream",
     "text": [
      "evaluation result : auto_wcnn006\n"
     ]
    }
   ],
   "source": [
    "####(1) 네트워크 생성 ####\n",
    "resp = requests.post('http://' + url + '/api/v1/type/common/target/nninfo/nnid/' + nn_id + '/',\n",
    "                     json={\n",
    "                         \"biz_cate\": \"MES\",\n",
    "                         \"biz_sub_cate\": \"M60\",\n",
    "                         \"nn_title\" : \"test\",\n",
    "                         \"nn_desc\": \"test desc\",\n",
    "                         \"use_flag\" : \"Y\",\n",
    "                         \"dir\": \"purpose?\",\n",
    "                         \"automl_parms\" : {},\n",
    "                         \"config\": \"N\"\n",
    "                     })\n",
    "data = json.loads(resp.json())\n",
    "print(\"evaluation result : {0}\".format(data))"
   ]
  },
  {
   "cell_type": "markdown",
   "metadata": {},
   "source": [
    "# 선택 가능한 Graph Flow List"
   ]
  },
  {
   "cell_type": "code",
   "execution_count": 70,
   "metadata": {
    "collapsed": false
   },
   "outputs": [
    {
     "name": "stdout",
     "output_type": "stream",
     "text": [
      "evaluation result : ['charcnn_csv', 'wdnn']\n"
     ]
    }
   ],
   "source": [
    "resp = requests.get('http://' + url + '/api/v1/type/automl/state/rule/graph_id/all/')\n",
    "data = json.loads(resp.json())\n",
    "print(\"evaluation result : {0}\".format(data))"
   ]
  },
  {
   "cell_type": "markdown",
   "metadata": {},
   "source": [
    "# 선택한 Graph Flow Format"
   ]
  },
  {
   "cell_type": "code",
   "execution_count": 71,
   "metadata": {
    "collapsed": false
   },
   "outputs": [
    {
     "name": "stdout",
     "output_type": "stream",
     "text": [
      "evaluation result : [{'test_data_node': {'format': {'preprocess': {'auto': False, 'option': ['None', 'Mecab', 'Twitter', 'kkma'], 'type': 'sel'}, 'source_sql': {'auto': False, 'option': ['all'], 'type': 'sel'}, 'source_server': {'auto': False, 'option': ['local'], 'type': 'sel'}, 'type': {'auto': False, 'option': ['csv', 'txt', 'iob'], 'type': 'sel'}}}, 'pre_feed_test': {'format': {'embed_type': {'auto': False, 'option': ['onehot', 'word2vec', 'fasttext', 'glove'], 'type': 'sel'}, 'encode_len': {'auto': [5, 20, 2], 'option': None, 'type': 'int'}, 'lable_size': {'auto': False, 'option': None, 'type': 'int'}, 'vocab_size': {'auto': False, 'option': None, 'type': 'int'}, 'preprocess': {'auto': False, 'option': ['None', 'Mecab', 'Twitter', 'kkma'], 'type': 'sel'}, 'char_encode': {'auto': [50, 100, 5], 'option': [True, False], 'type': 'sel'}, 'decode_column': {'auto': False, 'option': None, 'type': 'str'}, 'channel': {'auto': False, 'option': [1, 2, 3], 'type': 'sel'}, 'char_max_len': {'auto': False, 'option': None, 'type': 'int'}, 'encode_column': {'auto': False, 'option': None, 'type': 'str'}}}, 'data_node': {'format': {'preprocess': {'auto': False, 'option': ['None', 'Mecab', 'Twitter', 'kkma'], 'type': 'sel'}, 'source_sql': {'auto': False, 'option': ['all'], 'type': 'sel'}, 'source_server': {'auto': False, 'option': ['local'], 'type': 'sel'}, 'type': {'auto': False, 'option': ['csv', 'txt', 'iob'], 'type': 'sel'}}}, 'pre_feed_train': {'format': {'embed_type': {'auto': False, 'option': ['onehot', 'word2vec', 'fasttext', 'glove'], 'type': 'sel'}, 'encode_len': {'auto': [5, 10, 1], 'option': None, 'type': 'int'}, 'lable_size': {'auto': False, 'option': None, 'type': 'int'}, 'vocab_size': {'auto': False, 'option': None, 'type': 'int'}, 'preprocess': {'auto': False, 'option': ['None', 'Mecab', 'Twitter', 'kkma'], 'type': 'sel'}, 'char_encode': {'auto': [0, 1, 1], 'option': [True, False], 'type': 'sel'}, 'decode_column': {'auto': False, 'option': None, 'type': 'str'}, 'channel': {'auto': False, 'option': [1, 2, 3], 'type': 'sel'}, 'char_max_len': {'auto': [5, 10, 1], 'option': None, 'type': 'int'}, 'encode_column': {'auto': False, 'option': None, 'type': 'str'}}}, 'netconf_node': {'format': {'labels': [], 'out': {'active': {'auto': [0, 1, 1], 'option': ['relu', 'tanh', 'sigmoid', 'softmax'], 'type': 'sel'}, 'node_out': {'auto': [500, 1000, 50], 'option': None, 'type': 'int'}, 'padding': {'auto': [0, 1, 1], 'option': ['SAME', 'NONE'], 'type': 'sel'}}, 'config': {'eval_type': {'auto': False, 'option': ['category'], 'type': 'sel'}, 'layeroutputs': {'auto': [5, 100, 10], 'option': None, 'type': 'int'}, 'learnrate': {'auto': [0.0001, 0.1, 0.001], 'option': None, 'type': 'int'}, 'num_classes': {'auto': False, 'option': None, 'type': 'int'}, 'optimizer': {'auto': False, 'option': ['AdamOptimizer'], 'type': 'sel'}}, 'layers': [{'active': {'auto': [0, 1, 1], 'option': ['relu', 'tanh', 'sigmoid', 'softmax'], 'type': 'sel'}, 'cnnfilter': {'auto': False, 'option': [15, 15], 'type': 'list'}, 'cnnstride': {'auto': False, 'option': [1, 1], 'type': 'list'}, 'padding': {'auto': [0, 1, 1], 'option': ['SAME', 'NONE'], 'type': 'sel'}, 'learnrate': {'auto': [0.0001, 0.1, 0.001], 'option': None, 'type': 'int'}, 'maxpoolmatrix': {'auto': False, 'option': [2, 2], 'type': 'list'}, 'layercnt': {'auto': [1, 5, 1], 'option': None, 'type': 'int'}, 'maxpoolstride': {'auto': False, 'option': [2, 2], 'type': 'list'}}], 'param': {'epoch': {'auto': [1, 10, 1], 'option': None, 'type': 'int'}, 'traincnt': {'auto': [1, 0, 2], 'option': None, 'type': 'int'}, 'predictcnt': {'auto': [5, 100, 10], 'option': None, 'type': 'int'}, 'batch_size': {'auto': [5, 100, 10], 'option': None, 'type': 'int'}}}}, 'eval_node': {'format': {'type': {'auto': False, 'option': ['Category', 'regression', 'w2v', 'seq2seq'], 'type': 'sel'}}}}]\n"
     ]
    }
   ],
   "source": [
    "resp = requests.get('http://' + url + '/api/v1/type/automl/state/rule/graph_id/charcnn_csv/')\n",
    "data = json.loads(resp.json())\n",
    "print(\"evaluation result : {0}\".format(data))"
   ]
  },
  {
   "cell_type": "markdown",
   "metadata": {},
   "source": [
    "# Set AutoML Info "
   ]
  },
  {
   "cell_type": "code",
   "execution_count": 74,
   "metadata": {
    "collapsed": false
   },
   "outputs": [
    {
     "name": "stdout",
     "output_type": "stream",
     "text": [
      "evaluation result : {'test_data_node': {'format': {'preprocess': {'auto': False, 'option': ['None', 'Mecab', 'Twitter', 'kkma'], 'type': 'sel'}, 'source_sql': {'auto': False, 'option': ['all'], 'type': 'sel'}, 'source_server': {'auto': False, 'option': ['local'], 'type': 'sel'}, 'type': {'auto': False, 'option': ['csv', 'txt', 'iob'], 'type': 'sel'}}}, 'pre_feed_test': {'format': {'embed_type': {'auto': False, 'option': ['onehot', 'word2vec', 'fasttext', 'glove'], 'type': 'sel'}, 'encode_len': {'auto': [5, 20, 2], 'option': None, 'type': 'int'}, 'lable_size': {'auto': False, 'option': None, 'type': 'int'}, 'vocab_size': {'auto': False, 'option': None, 'type': 'int'}, 'preprocess': {'auto': False, 'option': ['None', 'Mecab', 'Twitter', 'kkma'], 'type': 'sel'}, 'char_encode': {'auto': [0, 1, 1], 'option': [True, False], 'type': 'sel'}, 'decode_column': {'auto': False, 'option': None, 'type': 'str'}, 'channel': {'auto': False, 'option': [1, 2, 3], 'type': 'sel'}, 'char_max_len': {'auto': False, 'option': None, 'type': 'int'}, 'encode_column': {'auto': False, 'option': None, 'type': 'str'}}}, 'data_node': {'format': {'preprocess': {'auto': False, 'option': ['None', 'Mecab', 'Twitter', 'kkma'], 'type': 'sel'}, 'source_sql': {'auto': False, 'option': ['all'], 'type': 'sel'}, 'source_server': {'auto': False, 'option': ['local'], 'type': 'sel'}, 'type': {'auto': False, 'option': ['csv', 'txt', 'iob'], 'type': 'sel'}}}, 'pre_feed_train': {'format': {'embed_type': {'auto': False, 'option': ['onehot', 'word2vec', 'fasttext', 'glove'], 'type': 'sel'}, 'encode_len': {'auto': [5, 10, 1], 'option': None, 'type': 'int'}, 'lable_size': {'auto': False, 'option': None, 'type': 'int'}, 'vocab_size': {'auto': False, 'option': None, 'type': 'int'}, 'preprocess': {'auto': False, 'option': ['None', 'Mecab', 'Twitter', 'kkma'], 'type': 'sel'}, 'char_encode': {'auto': [0, 1, 1], 'option': [True, False], 'type': 'sel'}, 'decode_column': {'auto': False, 'option': None, 'type': 'str'}, 'channel': {'auto': False, 'option': [1, 2, 3], 'type': 'sel'}, 'char_max_len': {'auto': [5, 10, 1], 'option': None, 'type': 'int'}, 'encode_column': {'auto': False, 'option': None, 'type': 'str'}}}, 'netconf_node': {'format': {'labels': [], 'out': {'active': {'auto': [0, 1, 1], 'option': ['relu', 'tanh', 'sigmoid', 'softmax'], 'type': 'sel'}, 'node_out': {'auto': [500, 1000, 50], 'option': None, 'type': 'int'}, 'padding': {'auto': [0, 1, 1], 'option': ['SAME', 'NONE'], 'type': 'sel'}}, 'config': {'eval_type': {'auto': False, 'option': ['category'], 'type': 'sel'}, 'layeroutputs': {'auto': [5, 100, 10], 'option': None, 'type': 'int'}, 'learnrate': {'auto': [0.0001, 0.1, 0.001], 'option': None, 'type': 'int'}, 'num_classes': {'auto': False, 'option': None, 'type': 'int'}, 'optimizer': {'auto': False, 'option': ['AdamOptimizer'], 'type': 'sel'}}, 'layers': [{'active': {'auto': [0, 1, 1], 'option': ['relu', 'tanh', 'sigmoid', 'softmax'], 'type': 'sel'}, 'cnnfilter': {'auto': False, 'option': [15, 15], 'type': 'list'}, 'cnnstride': {'auto': False, 'option': [1, 1], 'type': 'list'}, 'learnrate': {'auto': [0.0001, 0.1, 0.001], 'option': None, 'type': 'int'}, 'padding': {'auto': [0, 1, 1], 'option': ['SAME', 'NONE'], 'type': 'sel'}, 'maxpoolmatrix': {'auto': False, 'option': [2, 2], 'type': 'list'}, 'layercnt': {'auto': [1, 5, 1], 'option': None, 'type': 'int'}, 'maxpoolstride': {'auto': False, 'option': [2, 2], 'type': 'list'}}], 'param': {'epoch': {'auto': [1, 10, 1], 'option': None, 'type': 'int'}, 'traincnt': {'auto': [1, 0, 2], 'option': None, 'type': 'int'}, 'predictcnt': {'auto': [5, 100, 10], 'option': None, 'type': 'int'}, 'batch_size': {'auto': [5, 100, 10], 'option': None, 'type': 'int'}}}}, 'eval_node': {'format': {'type': {'auto': False, 'option': ['Category', 'regression', 'w2v', 'seq2seq'], 'type': 'sel'}}}}\n"
     ]
    }
   ],
   "source": [
    "resp = requests.get('http://' + url + '/api/v1/type/automl/state/rule/graph_id/charcnn_csv/')\n",
    "test_data = json.loads(resp.json())\n",
    "\n",
    "resp = requests.put('http://' + url + '/api/v1/type/automl/state/conf/nnid/' + nn_id + '/',\n",
    "                     json=test_data[0])\n",
    "data = json.loads(resp.json())\n",
    "print(\"evaluation result : {0}\".format(data))"
   ]
  },
  {
   "cell_type": "markdown",
   "metadata": {},
   "source": [
    "# Run AutoML"
   ]
  },
  {
   "cell_type": "code",
   "execution_count": 224,
   "metadata": {
    "collapsed": false
   },
   "outputs": [
    {
     "name": "stdout",
     "output_type": "stream",
     "text": [
      "evaluation result : {'test_data_node': {'format': {'preprocess': 'None', 'source_sql': 'all', 'source_server': 'local', 'type': 'csv'}}, 'pre_feed_test': {'format': {'preprocess': 'None', 'encode_len': 0, 'lable_size': None, 'vocab_size': None, 'embed_type': 'onehot', 'char_encode': True, 'decode_column': None, 'channel': 1, 'char_max_len': None, 'encode_column': None}}, 'data_node': {'format': {'preprocess': 'None', 'source_sql': 'all', 'source_server': 'local', 'type': 'csv'}}, 'pre_feed_train': {'format': {'preprocess': 'None', 'encode_len': 0, 'lable_size': None, 'vocab_size': None, 'embed_type': 'onehot', 'char_encode': True, 'decode_column': None, 'channel': 1, 'char_max_len': 0, 'encode_column': None}}, 'netconf_node': {'format': {'labels': [], 'param': {'traincnt': 0, 'epoch': 0, 'predictcnt': 4, 'batch_size': 3}, 'config': {'eval_type': 'category', 'learnrate': 0.0006232995149983449, 'num_classes': None, 'layeroutputs': 0, 'optimizer': 'AdamOptimizer'}, 'layers': [{'active': 'relu', 'cnnfilter': 15, 'cnnstride': 1, 'padding': 'SAME', 'learnrate': 0.0002233850289864404, 'maxpoolmatrix': 2, 'layercnt': 0, 'maxpoolstride': 2}], 'out': {'active': 'relu', 'node_out': 21, 'padding': 'SAME'}}}, 'eval_node': {'format': {'type': 'Category'}}}\n"
     ]
    }
   ],
   "source": [
    "resp = requests.post('http://' + url + '/api/v1/type/automl/state/train/nnid/' + nn_id + '/')\n",
    "data = json.loads(resp.json())\n",
    "print(\"evaluation result : {0}\".format(data))"
   ]
  }
 ],
 "metadata": {
  "anaconda-cloud": {},
  "kernelspec": {
   "display_name": "Python [conda root]",
   "language": "python",
   "name": "conda-root-py"
  },
  "language_info": {
   "codemirror_mode": {
    "name": "ipython",
    "version": 3
   },
   "file_extension": ".py",
   "mimetype": "text/x-python",
   "name": "python",
   "nbconvert_exporter": "python",
   "pygments_lexer": "ipython3",
   "version": "3.5.2"
  }
 },
 "nbformat": 4,
 "nbformat_minor": 1
}
